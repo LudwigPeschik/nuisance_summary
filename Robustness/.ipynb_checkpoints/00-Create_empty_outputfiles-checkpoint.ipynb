{
 "cells": [
  {
   "cell_type": "code",
   "execution_count": null,
   "id": "423e50e4",
   "metadata": {},
   "outputs": [],
   "source": [
    "\n",
    "\n",
    "amplitudes_write = np.logspace(-14, -9, 6)\n",
    "amplitudes_write\n",
    "outputfolder = 'output/data_asimov_tests'\n",
    "\n",
    "amplitudes_write = np.logspace(-14, -9, 6)\n",
    "result = dict()\n",
    "for a in amplitudes_write:\n",
    "    result[(a)]= {\"started\":False}\n",
    "\n",
    "#with open(outputfolder+'/OOutput.json', 'w') as fp:\n",
    "#    json.dump(result, fp, indent=4)   \n",
    "\n",
    "    \n",
    "result_rnd = dict()\n",
    "for a in range(100):\n",
    "    result_rnd[(a)]= {\"started\":False}\n",
    "#with open(outputfolder+'/OOutput'+str(amplitudes_write[5])+'.json', 'w') as fp:\n",
    "#    json.dump(result_rnd, fp, indent=4)\tLC_TIME = \"de_DE.UTF-8\","
   ]
  }
 ],
 "metadata": {
  "kernelspec": {
   "display_name": "Python 3 (ipykernel)",
   "language": "python",
   "name": "python3"
  },
  "language_info": {
   "codemirror_mode": {
    "name": "ipython",
    "version": 3
   },
   "file_extension": ".py",
   "mimetype": "text/x-python",
   "name": "python",
   "nbconvert_exporter": "python",
   "pygments_lexer": "ipython3",
   "version": "3.9.10"
  },
  "varInspector": {
   "cols": {
    "lenName": 16,
    "lenType": 16,
    "lenVar": 40
   },
   "kernels_config": {
    "python": {
     "delete_cmd_postfix": "",
     "delete_cmd_prefix": "del ",
     "library": "var_list.py",
     "varRefreshCmd": "print(var_dic_list())"
    },
    "r": {
     "delete_cmd_postfix": ") ",
     "delete_cmd_prefix": "rm(",
     "library": "var_list.r",
     "varRefreshCmd": "cat(var_dic_list()) "
    }
   },
   "types_to_exclude": [
    "module",
    "function",
    "builtin_function_or_method",
    "instance",
    "_Feature"
   ],
   "window_display": false
  }
 },
 "nbformat": 4,
 "nbformat_minor": 5
}
