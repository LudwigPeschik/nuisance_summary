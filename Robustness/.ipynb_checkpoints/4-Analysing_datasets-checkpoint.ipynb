{
 "cells": [
  {
   "cell_type": "code",
   "execution_count": 1,
   "id": "fde59f99",
   "metadata": {},
   "outputs": [],
   "source": [
    "import matplotlib.pyplot as plt\n",
    "import numpy as np\n",
    "import astropy.units as u\n",
    "import gammapy\n",
    "import json\n",
    "# from gammapy.datasets import MapDataset\n",
    "from gammapy.maps import Map\n",
    "from astropy.coordinates import SkyCoord, Angle\n",
    "from gammapy.modeling import Fit, Parameter, Parameters, Covariance\n",
    "from gammapy.datasets import MapDataset #, MapDatasetNuisance\n",
    "from gammapy.modeling.models import (\n",
    "    PowerLawSpectralModel,\n",
    "    create_crab_spectral_model,\n",
    "    SkyModel,\n",
    "    PointSpatialModel,\n",
    "    ShellSpatialModel,\n",
    "    GeneralizedGaussianSpatialModel,\n",
    "    TemplateSpatialModel,\n",
    "    LogParabolaSpectralModel,\n",
    "    GaussianSpatialModel,\n",
    "    DiskSpatialModel,\n",
    "    PowerLawNormSpectralModel,\n",
    "    Models,\n",
    "    SpatialModel,\n",
    "    FoVBackgroundModel,\n",
    "    Model\n",
    ")\n",
    "from gammapy.estimators import ExcessMapEstimator\n",
    "\n",
    "from regions import CircleSkyRegion, RectangleSkyRegion\n",
    "import yaml\n",
    "import sys\n",
    "\n",
    "sys.path.append(\n",
    "    \"/home/hpc/caph/mppi045h/3D_analysis/N_parameters_in_L/syserror_3d_bkgmodel/4-Fitting_nuisance_and_model_parameters\"\n",
    ")\n",
    "sys.path.append(\n",
    "    \"/home/hpc/caph/mppi045h/3D_analysis/\"\n",
    ")\n",
    "from my_dataset_maps_19 import MapDatasetNuisance\n",
    "from  my_fit_19 import Fit\n",
    "import import_dataset_helper"
   ]
  },
  {
   "cell_type": "code",
   "execution_count": 2,
   "id": "991ca9aa",
   "metadata": {},
   "outputs": [
    {
     "name": "stdout",
     "output_type": "stream",
     "text": [
      "{'pointsource_center': '4.641588833612772e-13', 'gaussiansource_center': '1e-12', 'largegaussiansource_center': '2.1544346900318777e-11'}\n"
     ]
    }
   ],
   "source": [
    "'''colors_case = ['darkorange', 'red', 'maroon', 'grey', 'grey']\n",
    "fmts = ['^', 'o',  'x', 's']\n",
    "color_overall_standard = 'green'\n",
    "label = 'Correct Est. ($\\mu$ +  $\\sigma$)'\n",
    "labelunder = \"Under Est. ($\\mu$ + 0.5 $\\cdot$ $\\sigma$)\"\n",
    "labelover =  \"Over Est. ($\\mu$ + 2 $\\cdot$ $\\sigma$)\"\n",
    "labelstandard = \"No Nuisance Par. \"'''\n",
    "\n",
    "# standard and Nuisance\n",
    "colors_case = ['green', 'red']\n",
    "fmts = ['o', 'x']\n",
    "labels = [\"Standard\", \"With Nuisance Par.\"]\n",
    "colors_e = ['purple' , 'blue', 'green', 'teal', 'crimson' , 'yellow']\n",
    "\n",
    "#path_local_repo_saturn = '/home/saturn/caph/mppi045h/Nuisance_Asimov_Datasets'\n",
    "#models = Models.read(\"1a-Source_models.yaml\")\n",
    "outputfolder = 'output/data_asimov_tests'\n",
    "\n",
    "\n",
    "with open('1-amplitudes_where_sys_smaller.json', 'r') as fp:\n",
    "    a_threshold  = json.load(fp)\n",
    "print(a_threshold)"
   ]
  },
  {
   "cell_type": "markdown",
   "id": "f4165562",
   "metadata": {},
   "source": [
    "## Nuisance"
   ]
  },
  {
   "cell_type": "code",
   "execution_count": 3,
   "id": "5604ffe9",
   "metadata": {},
   "outputs": [],
   "source": [
    "i_start = 6\n",
    "i_end = 12\n",
    "\n",
    "def get_circ_mask(geom , radius ):\n",
    "    center_coord = geom.center_skydir\n",
    "    #radius = 2*u.deg\n",
    "    skyregion = CircleSkyRegion(center=center_coord, radius = radius)\n",
    "    map_mask= Map.from_geom(geom, \n",
    "                                data=geom.region_mask([skyregion], inside=True).data)\n",
    "    return map_mask\n",
    "\n",
    "def compute_quality_value(dataset, radius):\n",
    "    input_ =  get_data_to_plot(dataset,     'counts', i_start, i_end, radius)\n",
    "    recovered_ = get_data_to_plot(dataset,   'npred', i_start, i_end, radius)\n",
    "    p = compute_p_value(input_, recovered_)\n",
    "    return p\n",
    "\n",
    "\n",
    "def compute_quality_values(datasets, radius):\n",
    "    ps = []\n",
    "    for dataset in datasets:\n",
    "        p = compute_quality_value(dataset, radius)\n",
    "        ps.append(p)\n",
    "    return ps\n",
    "\n",
    "from scipy.stats import ks_2samp\n",
    "\n",
    "def get_data_to_plot(dataset,type_, i_start, i_end, radius):\n",
    "    if type_ =='npred':\n",
    "        data= dataset.npred() \n",
    "    \n",
    "    if type_ =='counts':\n",
    "        data= dataset.counts \n",
    "        \n",
    "    data *= get_circ_mask(data.geom , radius*u.deg )\n",
    "    data = data.slice_by_idx(dict(energy = slice(i_start, i_end)))\n",
    "    data = data.data.flatten()\n",
    "    data = [d for d in data if d != 0]    \n",
    "        \n",
    "    return data\n",
    "\n",
    "\n",
    "\n",
    "def compute_p_value(input_, recovered_ ):\n",
    "    KS, p = ks_2samp(input_, recovered_, alternative='two-sided',)\n",
    "    return p\n"
   ]
  },
  {
   "cell_type": "code",
   "execution_count": null,
   "id": "f18d85d8",
   "metadata": {},
   "outputs": [],
   "source": []
  },
  {
   "cell_type": "code",
   "execution_count": 4,
   "id": "d5ed9f6b",
   "metadata": {},
   "outputs": [],
   "source": [
    "def create_MapDataset(dataset):\n",
    "    \n",
    "    mapdatset = MapDataset(models=None, \n",
    "                           counts=None, \n",
    "                           exposure=dataset.exposure, \n",
    "                           background=dataset.background, \n",
    "                           psf=dataset.psf, \n",
    "                           edisp=dataset.edisp, \n",
    "                           mask_safe=dataset.mask_safe, \n",
    "                           mask_fit=dataset.mask_fit, \n",
    "                           gti=dataset.gti, \n",
    "                           meta_table=dataset.meta_table, \n",
    "                           name=\"basic\")\n",
    "    \n",
    "    bkg_model = FoVBackgroundModel(dataset_name=mapdatset.name) \n",
    "    #bkg_model.parameters['norm'].value = dataset.background_model.parameters['norm'].value\n",
    "    #bkg_model.parameters['tilt'].value = dataset.background_model.parameters['tilt'].value\n",
    "    models = Models([dataset.models[0].copy()])\n",
    "    models.append(bkg_model)\n",
    "    mapdatset.models = models\n",
    "    mapdatset.counts = dataset.counts\n",
    "    mapdatset.background = dataset.npred_background()\n",
    "    return mapdatset\n",
    "\n",
    "def compute_residual(dataset, energy_edges ,  max_ = None, radius = 1.0*u.deg,  ):\n",
    "    \n",
    "    estimator = ExcessMapEstimator( correlation_radius=radius , \n",
    "                                       energy_edges=energy_edges) \n",
    "    result = estimator.run(dataset) \n",
    "    residual = result[\"sqrt_ts\"]#.slice_by_idx(dict(energy=slice(e,e+1)))\n",
    "\n",
    "    if max_ is None:\n",
    "        vmax = np.nanmax(np.abs(residual.data))\n",
    "    else:\n",
    "        vmax = max_\n",
    "    return residual"
   ]
  },
  {
   "cell_type": "code",
   "execution_count": 5,
   "id": "d4d622e2",
   "metadata": {},
   "outputs": [],
   "source": [
    "def plot_residuals(res, title, max_):\n",
    "    data_zero = res#.slice_by_idx(dict(energy=slice(i_start,i_end)))\n",
    "    if max_ is None:\n",
    "        max_ = np.nanmax(np.abs(data_zero.data))\n",
    "    axs = data_zero.plot_grid(add_cbar = 1,cmap = 'coolwarm', vmin = -max_, vmax = max_);\n",
    "    axs = axs.flatten()\n",
    "    #data_zero.data = np.nan_to_num(data_zero.data)\n",
    "    mean = np.nanmean(data_zero, axis=2)\n",
    "    mean = np.nanmean(mean, axis = 1)\n",
    "    std = np.nanstd(data_zero, axis=2)\n",
    "    std = np.nanstd(std, axis = 1)\n",
    "    for i in range(len(mean)):\n",
    "        axs.flatten()[i].text(10,35, f'{mean[i]:.2} $\\pm$ {std[i]:.2}', fontsize = 12)\n",
    "    plt.suptitle(title, \n",
    "                 fontsize = 14, y=1.01)\n",
    "    return max_"
   ]
  },
  {
   "cell_type": "markdown",
   "id": "64674081",
   "metadata": {},
   "source": [
    "## Load Single Amplitudes"
   ]
  },
  {
   "cell_type": "code",
   "execution_count": 6,
   "id": "22c7cc63",
   "metadata": {},
   "outputs": [],
   "source": [
    "def get_finished_rnds(amplitude):\n",
    "    outputfile = '/OOutput'+str(amplitude.value)+'.json'\n",
    "\n",
    "    with open(outputfolder+outputfile, 'r') as f:\n",
    "        data = json.load(f)\n",
    "    rnds = list(data.keys()) \n",
    "    rnd_started, rnd_finished = [], []\n",
    "    for i in range(len(rnds)):\n",
    "        try:\n",
    "            data[str(rnds[i])]['result'] \n",
    "            rnd_finished.append(int(rnds[i]))\n",
    "        except:\n",
    "            None\n",
    "    return rnd_finished"
   ]
  },
  {
   "cell_type": "code",
   "execution_count": 7,
   "id": "53ea2683",
   "metadata": {},
   "outputs": [],
   "source": [
    "i_start,i_end = 6,10\n",
    "elist = np.linspace(i_start,i_end, i_end-i_start )\n",
    "\n"
   ]
  },
  {
   "cell_type": "code",
   "execution_count": 23,
   "id": "85ae72e2",
   "metadata": {},
   "outputs": [
    {
     "name": "stdout",
     "output_type": "stream",
     "text": [
      "CPU times: user 35 µs, sys: 0 ns, total: 35 µs\n",
      "Wall time: 49.4 µs\n"
     ]
    }
   ],
   "source": [
    "%%time\n",
    "\n",
    "\n",
    "def compute(a):\n",
    "    ps_standard_3 = []\n",
    "    ps_N_3 = []\n",
    "    ps_standard_03 = []\n",
    "    ps_N_03 = []\n",
    "    #result = dict()\n",
    "    \n",
    "    with open(f'output/data_asimov_tests/4_p_values.yaml', 'r') as f:\n",
    "        result = yaml.safe_load(f)\n",
    "    print(\".......\", a,\".......\")\n",
    "    amplitude =  a*u.Unit('cm-2 s-1 TeV-1')\n",
    "    rnds = get_finished_rnds(amplitude)[:3]\n",
    "    analysis_1e9 = import_dataset_helper.analysis('pointsource_center',amplitude,rnds, False)\n",
    "    kk = -1\n",
    "\n",
    "    xaxis = analysis_1e9.datasets_standard[1].geoms['geom'].axes[0].center\n",
    "    energy_edges = analysis_1e9.datasets_standard[kk].counts.geom.axes['energy'].edges[i_start:i_end]\n",
    "\n",
    "\n",
    "    analysis_1e9.datasets_corr[-1].N_map().slice_by_idx(dict(energy=slice(6,9))).plot_grid(add_cbar =1);\n",
    "\n",
    "    max_ = plot_residuals(compute_residual(create_MapDataset(analysis_1e9.datasets_standard[0]), energy_edges), \n",
    "                          \"Example Residual Without Nuisance Parameters\", None)\n",
    "\n",
    "    plot_residuals(compute_residual(create_MapDataset(analysis_1e9.datasets_corr[kk]), energy_edges), \n",
    "                   \"Example Residual With Nuisance Parameters \\n Corr Est. ($\\mu$ +1 $\\sigma$)\", max_)\n",
    "    #i_end =9\n",
    "    #tupels = [(analysis_1e9.datasets_corr[i], analysis_1e9.mocked_dataset_s[i], np.nan, np.nan,\n",
    "    #           analysis_1e9.datasets_under[i],\n",
    "    #           analysis_1e9.datasets_over[i], analysis_1e9.datasets_standard[i]) \n",
    "    #          for i in range(len(analysis_1e9.datasets_corr))]\n",
    "\n",
    "    #plot_bg_p_value_multiple(tupels, elist, 'npred')\n",
    "\n",
    "    ps_standard_3.append( np.array(compute_quality_values(analysis_1e9.datasets_standard, 3)))\n",
    "    ps_N_3.append(np.array(compute_quality_values(analysis_1e9.datasets_corr,3)))\n",
    "    ps_standard_03.append( np.array(compute_quality_values(analysis_1e9.datasets_standard, 0.3)))\n",
    "    ps_N_03.append(np.array(compute_quality_values(analysis_1e9.datasets_corr,0.3)))\n",
    "\n",
    "    results = dict()\n",
    "    results['ps_N_3'] = [l.tolist() for l in ps_N_3]\n",
    "    results['ps_N_03'] = [l.tolist() for l in ps_N_03]\n",
    "    results['ps_standard_3'] = [l.tolist() for l in ps_standard_3]\n",
    "    results['ps_standard_03'] = [l.tolist() for l in ps_standard_03]\n",
    "    result[str(a)]  = results\n",
    "    with open(f'output/data_asimov_tests/4_p_values.yaml', 'w') as outfile:\n",
    "        yaml.dump(result, outfile, default_flow_style=False)\n",
    "\n",
    "    print(ps_standard_3)"
   ]
  },
  {
   "cell_type": "code",
   "execution_count": null,
   "id": "4231da11",
   "metadata": {},
   "outputs": [],
   "source": []
  },
  {
   "cell_type": "code",
   "execution_count": null,
   "id": "b5ed8cd6",
   "metadata": {},
   "outputs": [
    {
     "name": "stdout",
     "output_type": "stream",
     "text": [
      "....... 1e-10 .......\n",
      "0\n"
     ]
    }
   ],
   "source": [
    "ams = [1e-9,1e-10,1e-11, 1e-12]#,1e-13, 1e-14]\n",
    "compute(ams[1])"
   ]
  },
  {
   "cell_type": "code",
   "execution_count": 20,
   "id": "c1e8f0f5",
   "metadata": {},
   "outputs": [],
   "source": [
    "read_in = 1\n",
    "ps_standard_3 = [] \n",
    "ps_N_3 = [] \n",
    "ps_standard_03 = [] \n",
    "ps_N_03 = []\n",
    "if read_in:\n",
    "    for a in ams:\n",
    "        import yaml\n",
    "        with open(f\"output/data_asimov_tests/4_p_values.yaml\", \"r\") as stream:\n",
    "            result = yaml.safe_load(stream)\n",
    "        ps_standard_3.append(result[str(a)]['ps_standard_3'] )\n",
    "        ps_N_3.append(result[str(a)]['ps_N_3']) \n",
    "        ps_standard_03.append(result[str(a)]['ps_standard_03']) \n",
    "        ps_N_03.append(result[str(a)]['ps_N_03']) "
   ]
  },
  {
   "cell_type": "code",
   "execution_count": 13,
   "id": "62757c72",
   "metadata": {},
   "outputs": [
    {
     "ename": "NameError",
     "evalue": "name 'compute_mean' is not defined",
     "output_type": "error",
     "traceback": [
      "\u001b[0;31m---------------------------------------------------------------------------\u001b[0m",
      "\u001b[0;31mNameError\u001b[0m                                 Traceback (most recent call last)",
      "\u001b[0;32m/tmp/ipykernel_30598/4000069231.py\u001b[0m in \u001b[0;36m<module>\u001b[0;34m\u001b[0m\n\u001b[0;32m----> 1\u001b[0;31m \u001b[0mcompute_mean\u001b[0m\u001b[0;34m(\u001b[0m\u001b[0mps_N_03\u001b[0m\u001b[0;34m)\u001b[0m\u001b[0;34m\u001b[0m\u001b[0;34m\u001b[0m\u001b[0m\n\u001b[0m",
      "\u001b[0;31mNameError\u001b[0m: name 'compute_mean' is not defined"
     ]
    }
   ],
   "source": []
  },
  {
   "cell_type": "markdown",
   "id": "5ae7aad9",
   "metadata": {},
   "source": [
    "## Multiple Nice Plot Fit Quality"
   ]
  },
  {
   "cell_type": "code",
   "execution_count": 14,
   "id": "7e6efae7",
   "metadata": {},
   "outputs": [],
   "source": [
    "def compute_mean(lis):\n",
    "    return [np.mean(l) for l in lis]\n",
    "\n",
    "def compute_std(lis):\n",
    "    return [np.std(l) for l in lis]\n",
    "\n",
    "def plot_qualities(false_est ):\n",
    "        fig, ax = plt.subplots(1,1, )#figsize =(10,10))\n",
    "        ax = [ax]\n",
    "        fmts = ['o', 'x', ]\n",
    "        colors = ['green', 'red', \"darkorange\", \"maroon\"]\n",
    "        labels_ = ['Standard', \"With Nuisance Par. \\n(Corr. Est.)\", \n",
    "                   \"With Nuisance Par. \\n(Under Est.)\", \"With Nuisance Par. \\n(Over Est.)\"]\n",
    "        \n",
    "        \n",
    "        \n",
    "        \n",
    "        ax[0].errorbar(np.array(ams)*1e12*0.8, compute_mean(ps_standard_3),\n",
    "                           yerr = compute_std(ps_standard_3), fmt =fmts[1], color= colors[0],\n",
    "                              label = labels_[0])# + '\\n (r = 3$^\\circ$)')\n",
    "        ax[0].errorbar(np.array(ams)*1e12* 1., compute_mean(ps_standard_03),\n",
    "                           yerr = compute_std(ps_standard_03), fmt =fmts[0], color= colors[0],\n",
    "                      )#   label = labels_[0] + '\\n (r = 0.3$^\\circ$)')\n",
    "        ax[0].errorbar(np.array(ams)*1e12*0.8, compute_mean(ps_N_3),\n",
    "                           yerr = compute_std(ps_N_3), fmt =fmts[1], color= colors[1],\n",
    "                              label = labels_[1])#+ '\\n (r = 3$^\\circ$)')\n",
    "        ax[0].errorbar(np.array(ams)*1e12* 1., compute_mean(ps_N_03),\n",
    "                           yerr = compute_std(ps_N_03), fmt =fmts[0], color= colors[1],\n",
    "                      )# label = labels_[1] + '\\n (r = 0.3$^\\circ$)')\n",
    "        if false_est:\n",
    "            ax[0].errorbar(np.array(ams_false_est)*1e12*0.4, compute_mean(ps_N_under_3),\n",
    "                           yerr = compute_std(ps_N_under_3), fmt =fmts[1], color= colors[2],\n",
    "                              label = labels_[2])#+ '\\n (r = 3$^\\circ$)')\n",
    "            ax[0].errorbar(np.array(ams_false_est)*1e12* 0.6, compute_mean(ps_N_under_03),\n",
    "                               yerr = compute_std(ps_N_under_03), fmt =fmts[0], color= colors[2]\n",
    "                          )# label = labels_[2] + '\\n (r = 0.3$^\\circ$)')\n",
    "            ax[0].errorbar(np.array(ams_false_est)*1e12*1.2, compute_mean(ps_N_over_3),\n",
    "                               yerr = compute_std(ps_N_over_3), fmt =fmts[1], color= colors[3],\n",
    "                                  label = labels_[3] )#+ '\\n (r = 3$^\\circ$)')\n",
    "            ax[0].errorbar(np.array(ams_false_est)*1e12* 1.4, compute_mean(ps_N_over_03),\n",
    "                               yerr = compute_std(ps_N_over_03), fmt =fmts[0], color= colors[3],\n",
    "                          )  # label = labels_[3] + '\\n (r = 0.3$^\\circ$)')\n",
    "               \n",
    "        ax[0].set_xscale('log')\n",
    "        ax[0].set_xlabel(\"Input Amplitudes [$10^{-12}$ cm-2 s-1 TeV-1]\")\n",
    "        ax[0].set_ylabel(\"P-Value of Model Prediction\")\n",
    "        ax[0].hlines(1, xlim_all[0], xlim_all[1] ,color = \"grey\")\n",
    "        ax[0].hlines(0.95, xlim_all[0], xlim_all[1] ,color = \"grey\")\n",
    "        ax[0].legend()\n",
    "        ax[0].set_title(\"Fit Quality (p-value) - Point Source\")\n",
    "        return fig, ax[0]\n"
   ]
  },
  {
   "cell_type": "code",
   "execution_count": 15,
   "id": "db850347",
   "metadata": {},
   "outputs": [
    {
     "data": {
      "image/png": "[encoded data removed]",
      "text/plain": [
       "<Figure size 432x288 with 1 Axes>"
      ]
     },
     "metadata": {
      "needs_background": "light"
     },
     "output_type": "display_data"
    }
   ],
   "source": [
    "\n",
    "xlim_all = (0.005623413251903491, 1000)\n",
    "\n",
    "fig , ax1= plot_qualities(False)\n",
    "ylim = ax1.get_ylim()\n",
    "ax1.fill_betweenx( y = ylim ,\n",
    "                 x1 =ax1.get_xlim()[0] , x2=  float(a_threshold['pointsource_center'] )*1e12\n",
    "                 , color = 'darkmagenta', alpha = 0.2, hatch = '/')\n",
    "fig.savefig(\"plots/4_Point_source_pvalue.png\")\n",
    "fig.savefig(\"plots/4_Point_source_pvalue.pdf\")"
   ]
  },
  {
   "cell_type": "markdown",
   "id": "2c0f3bd1",
   "metadata": {},
   "source": [
    "## False Est. "
   ]
  },
  {
   "cell_type": "code",
   "execution_count": null,
   "id": "44c22938",
   "metadata": {},
   "outputs": [],
   "source": [
    "%%time\n",
    "\n",
    "compute = 1\n",
    "ams_false_est = [1e-10,1e-11, 1e-12]\n",
    "\n",
    "if compute:\n",
    "    ps_N_under_3 = []\n",
    "    ps_N_over_3 = []\n",
    "    ps_N_under_03 = []\n",
    "    ps_N_over_03 = []\n",
    "    for a in ams_false_est:\n",
    "        result = dict()\n",
    "        #with open('output/data_asimov_tests/4_p_values_false_est.yaml', 'r') as f:\n",
    "        #    result = json.load(f)\n",
    "        amplitude =  a*u.Unit('cm-2 s-1 TeV-1')\n",
    "        rnds = get_finished_rnds(amplitude)[:3]\n",
    "        analysis_1e9 = import_dataset_helper.analysis('pointsource_center',amplitude,rnds, True)\n",
    "        kk = -1\n",
    "\n",
    "        xaxis = analysis_1e9.datasets_standard[1].geoms['geom'].axes[0].center\n",
    "        energy_edges = analysis_1e9.datasets_standard[kk].counts.geom.axes['energy'].edges[i_start:i_end]\n",
    "\n",
    "\n",
    "        analysis_1e9.datasets_corr[-1].N_map().slice_by_idx(dict(energy=slice(6,9))).plot_grid(add_cbar =1);\n",
    "\n",
    "        max_ = plot_residuals(compute_residual(create_MapDataset(analysis_1e9.datasets_standard[0]), energy_edges), \n",
    "                              \"Example Residual Without Nuisance Parameters\", None)\n",
    "\n",
    "        plot_residuals(compute_residual(create_MapDataset(analysis_1e9.datasets_corr[kk]), energy_edges), \n",
    "                       \"Example Residual With Nuisance Parameters \\n Corr Est. ($\\mu$ +1 $\\sigma$)\", max_)\n",
    "\n",
    "        ps_N_under_3.append( np.array(compute_quality_values(analysis_1e9.datasets_under, 3)))\n",
    "        ps_N_over_3.append(np.array(compute_quality_values(analysis_1e9.datasets_over,3)))\n",
    "        ps_N_under_03.append( np.array(compute_quality_values(analysis_1e9.datasets_under, 0.3)))\n",
    "        ps_N_over_03.append(np.array(compute_quality_values(analysis_1e9.datasets_over,0.3)))\n",
    "\n",
    "        results = dict()\n",
    "        results['ps_N_under_3'] = [l.tolist() for l in ps_N_under_3]\n",
    "        results['ps_N_over_3'] = [l.tolist() for l in ps_N_over_3]\n",
    "        results['ps_N_under_03'] = [l.tolist() for l in ps_N_under_03]\n",
    "        results['ps_N_over_03'] = [l.tolist() for l in ps_N_over_03]\n",
    "        result[str(a)] = results\n",
    "\n",
    "        with open('output/data_asimov_tests/4_p_values_false_est.yaml', 'w') as outfile:\n",
    "            yaml.dump(result, outfile, default_flow_style=False)\n",
    "        print(ps_N_over_03)"
   ]
  },
  {
   "cell_type": "code",
   "execution_count": null,
   "id": "472382c8",
   "metadata": {},
   "outputs": [],
   "source": [
    "read_in = 1\n",
    "if read_in:\n",
    "    import yaml\n",
    "    with open(\"output/data_asimov_tests/4_p_values_false_est.yaml\", \"r\") as stream:\n",
    "        result = yaml.safe_load(stream)\n",
    "    ps_N_under_3.append(result[str(a)]['ps_N_under_3'])\n",
    "    ps_N_over_3.append(result[str(a)]['ps_N_over_3'])\n",
    "    ps_N_under_03.append(result[str(a)]['ps_N_under_03'])\n",
    "    ps_N_over_03.append(result[str(a)]['ps_N_over_03'])\n",
    "    \n"
   ]
  },
  {
   "cell_type": "code",
   "execution_count": null,
   "id": "40155dad",
   "metadata": {},
   "outputs": [],
   "source": [
    "\n",
    "xlim_all = (0.005623413251903491, 1000)\n",
    "\n",
    "fig , ax1= plot_qualities(True)\n",
    "ylim = ax1.get_ylim()\n",
    "ax1.fill_betweenx( y = ylim ,\n",
    "                 x1 =ax1.get_xlim()[0] , x2=  float(a_threshold['pointsource_center'] )*1e12\n",
    "                 , color = 'darkmagenta', alpha = 0.2, hatch = '/')\n",
    "fig.savefig(\"plots/4_Point_source_pvalue_false_est.png\")\n",
    "fig.savefig(\"plots/4_Point_source_pvalue_false_est.pdf\")"
   ]
  },
  {
   "cell_type": "code",
   "execution_count": null,
   "id": "de840cb9",
   "metadata": {},
   "outputs": [],
   "source": []
  }
 ],
 "metadata": {
  "kernelspec": {
   "display_name": "Python 3 (ipykernel)",
   "language": "python",
   "name": "python3"
  },
  "language_info": {
   "codemirror_mode": {
    "name": "ipython",
    "version": 3
   },
   "file_extension": ".py",
   "mimetype": "text/x-python",
   "name": "python",
   "nbconvert_exporter": "python",
   "pygments_lexer": "ipython3",
   "version": "3.9.10"
  },
  "varInspector": {
   "cols": {
    "lenName": 16,
    "lenType": 16,
    "lenVar": 40
   },
   "kernels_config": {
    "python": {
     "delete_cmd_postfix": "",
     "delete_cmd_prefix": "del ",
     "library": "var_list.py",
     "varRefreshCmd": "print(var_dic_list())"
    },
    "r": {
     "delete_cmd_postfix": ") ",
     "delete_cmd_prefix": "rm(",
     "library": "var_list.r",
     "varRefreshCmd": "cat(var_dic_list()) "
    }
   },
   "types_to_exclude": [
    "module",
    "function",
    "builtin_function_or_method",
    "instance",
    "_Feature"
   ],
   "window_display": false
  }
 },
 "nbformat": 4,
 "nbformat_minor": 5
}
