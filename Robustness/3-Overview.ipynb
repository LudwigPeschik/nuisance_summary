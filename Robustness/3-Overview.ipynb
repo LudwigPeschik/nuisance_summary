{
 "cells": [
  {
   "cell_type": "code",
   "execution_count": 1,
   "id": "d2bed2ee",
   "metadata": {},
   "outputs": [],
   "source": [
    "import matplotlib.pyplot as plt\n",
    "import numpy as np\n",
    "import astropy.units as u\n",
    "import gammapy\n",
    "\n",
    "# from gammapy.datasets import MapDataset\n",
    "from gammapy.maps import Map, MapAxis\n",
    "from astropy.coordinates import SkyCoord, Angle\n",
    "from gammapy.modeling import Fit, Parameter, Parameters, Covariance\n",
    "from gammapy.datasets import MapDataset #, MapDatasetNuisance\n",
    "from gammapy.modeling.models import (\n",
    "    PowerLawSpectralModel,\n",
    "    create_crab_spectral_model,\n",
    "    SkyModel,\n",
    "    PointSpatialModel, \n",
    "    ShellSpatialModel,\n",
    "    GeneralizedGaussianSpatialModel,\n",
    "    TemplateSpatialModel,\n",
    "    LogParabolaSpectralModel,\n",
    "    GaussianSpatialModel,\n",
    "    DiskSpatialModel,\n",
    "    PowerLawNormSpectralModel,\n",
    "    Models,\n",
    "    SpatialModel,\n",
    "    FoVBackgroundModel,\n",
    ")\n",
    "from regions import CircleSkyRegion, RectangleSkyRegion\n",
    "import yaml\n",
    "import sys\n",
    "import json\n",
    "sys.path.append(\n",
    "    \"/home/hpc/caph/mppi045h/3D_analysis/N_parameters_in_L/syserror_3d_bkgmodel/4-Fitting_nuisance_and_model_parameters\"\n",
    ")\n",
    "from my_dataset_maps_19 import MapDatasetNuisance\n",
    "from  my_fit_19 import Fit"
   ]
  },
  {
   "cell_type": "code",
   "execution_count": 2,
   "id": "a8b3fad8",
   "metadata": {},
   "outputs": [
    {
     "data": {
      "text/plain": [
       "array([1.e-14, 1.e-13, 1.e-12, 1.e-11, 1.e-10, 1.e-09])"
      ]
     },
     "execution_count": 2,
     "metadata": {},
     "output_type": "execute_result"
    }
   ],
   "source": [
    "amplitudes_write = np.logspace(-14, -9, 6)\n",
    "amplitudes_write"
   ]
  },
  {
   "cell_type": "code",
   "execution_count": 3,
   "id": "d9befcb5",
   "metadata": {},
   "outputs": [],
   "source": [
    "outputfolder = 'output/data_asimov_tests'\n",
    "\n",
    "amplitudes_write = np.logspace(-14, -9, 6)\n",
    "result = dict()\n",
    "for a in amplitudes_write:\n",
    "    result[(a)]= {\"started\":False}\n",
    "\n",
    "#with open(outputfolder+'/OOutput.json', 'w') as fp:\n",
    "#    json.dump(result, fp, indent=4)   \n",
    "\n",
    "    \n",
    "result_rnd = dict()\n",
    "for a in range(100):\n",
    "    result_rnd[(a)]= {\"started\":False}\n",
    "#with open(outputfolder+'/OOutput'+str(amplitudes_write[5])+'.json', 'w') as fp:\n",
    "#    json.dump(result_rnd, fp, indent=4)\tLC_TIME = \"de_DE.UTF-8\",\n",
    "\n",
    "    \n",
    "\n",
    "plotaa= '/home/hpc/caph/mppi045h/3D_analysis/N_parameters_in_L/publication/Robustness/plots'"
   ]
  },
  {
   "cell_type": "code",
   "execution_count": 4,
   "id": "3578e95f",
   "metadata": {},
   "outputs": [
    {
     "name": "stdout",
     "output_type": "stream",
     "text": [
      "\n",
      "Input Amplitude:\n",
      "1e-14\n",
      "Started:  3 out of 100: [97, 98, 99]\n",
      "Finished: 2 out of 100: [97, 98]\n",
      "\n",
      "Input Amplitude:\n",
      "1e-13\n",
      "Started:  0 out of 100: []\n",
      "Finished: 0 out of 100: []\n",
      "\n",
      "Input Amplitude:\n",
      "1e-12\n",
      "Started:  57 out of 100: [0, 1, 2, 3, 4, 5, 6, 7, 8, 9, 10, 11, 12, 13, 14, 15, 16, 17, 18, 20, 21, 22, 23, 24, 25, 26, 27, 28, 29, 30, 31, 32, 33, 34, 35, 36, 40, 41, 42, 43, 44, 45, 46, 47, 48, 49, 89, 90, 91, 92, 93, 94, 95, 96, 97, 98, 99]\n",
      "Finished: 56 out of 100: [0, 1, 2, 3, 4, 5, 6, 7, 8, 9, 10, 11, 12, 13, 14, 15, 16, 17, 18, 20, 21, 22, 23, 24, 25, 26, 27, 28, 29, 30, 31, 32, 33, 34, 35, 36, 40, 41, 42, 43, 44, 45, 46, 47, 48, 49, 90, 91, 92, 93, 94, 95, 96, 97, 98, 99]\n",
      "\n",
      "Input Amplitude:\n",
      "1e-11\n",
      "Started:  45 out of 100: [0, 1, 2, 3, 4, 5, 6, 7, 8, 9, 20, 21, 22, 23, 24, 25, 26, 27, 40, 41, 42, 43, 44, 45, 46, 60, 61, 62, 63, 64, 65, 66, 67, 68, 69, 80, 81, 82, 83, 84, 85, 86, 87, 88, 89]\n",
      "Finished: 42 out of 100: [0, 1, 2, 3, 4, 5, 6, 7, 8, 20, 21, 22, 23, 24, 25, 26, 40, 41, 42, 43, 44, 45, 46, 60, 61, 62, 63, 64, 65, 66, 67, 68, 80, 81, 82, 83, 84, 85, 86, 87, 88, 89]\n",
      "\n",
      "Input Amplitude:\n",
      "1e-10\n",
      "Started:  49 out of 100: [0, 1, 2, 3, 4, 5, 6, 7, 8, 20, 21, 22, 23, 24, 25, 26, 27, 28, 29, 40, 41, 42, 43, 44, 45, 46, 47, 48, 49, 60, 61, 62, 63, 64, 65, 66, 67, 68, 69, 80, 81, 82, 83, 84, 85, 86, 87, 88, 89]\n",
      "Finished: 47 out of 100: [0, 1, 2, 3, 4, 5, 6, 7, 8, 20, 21, 22, 23, 24, 25, 26, 27, 28, 40, 41, 42, 43, 44, 45, 46, 47, 48, 60, 61, 62, 63, 64, 65, 66, 67, 68, 69, 80, 81, 82, 83, 84, 85, 86, 87, 88, 89]\n",
      "\n",
      "Input Amplitude:\n",
      "1e-09\n",
      "Started:  9 out of 100: [0, 1, 2, 3, 4, 5, 6, 7, 8]\n",
      "Finished: 8 out of 100: [0, 1, 2, 3, 4, 5, 6, 7]\n"
     ]
    }
   ],
   "source": [
    "for a in amplitudes_write:\n",
    "    print()\n",
    "    print(\"Input Amplitude:\")\n",
    "    amplitude =a * u.Unit('cm-2 s-1 TeV-1')\n",
    "    print(a)\n",
    "    outputfile = '/OOutput'+str(amplitude.value)+'.json'\n",
    "\n",
    "    with open(outputfolder+outputfile, 'r') as f:\n",
    "        data = json.load(f)\n",
    "    count_started = 0\n",
    "    count_finished = 0\n",
    "\n",
    "    rnds = list(data.keys()) \n",
    "    rnd_started, rnd_finished = [], []\n",
    "    for i in range(len(rnds)):\n",
    "        if (data[str(rnds[i])]['started'] == True):\n",
    "            count_started += 1\n",
    "            rnd_started.append(int(rnds[i]))\n",
    "        try:\n",
    "            data[str(rnds[i])]['result'] \n",
    "            count_finished += 1\n",
    "            rnd_finished.append(int(rnds[i]))\n",
    "            \n",
    "        except:\n",
    "            None\n",
    "\n",
    "    print(f\"Started:  { count_started} out of {len(rnds)}: {rnd_started}\")\n",
    "    print(f\"Finished: { count_finished} out of {len(rnds)}: {rnd_finished}\")"
   ]
  },
  {
   "cell_type": "code",
   "execution_count": null,
   "id": "2e454b01",
   "metadata": {},
   "outputs": [],
   "source": []
  },
  {
   "cell_type": "code",
   "execution_count": null,
   "id": "d200f4cd",
   "metadata": {},
   "outputs": [],
   "source": []
  }
 ],
 "metadata": {
  "kernelspec": {
   "display_name": "Python 3 (ipykernel)",
   "language": "python",
   "name": "python3"
  },
  "language_info": {
   "codemirror_mode": {
    "name": "ipython",
    "version": 3
   },
   "file_extension": ".py",
   "mimetype": "text/x-python",
   "name": "python",
   "nbconvert_exporter": "python",
   "pygments_lexer": "ipython3",
   "version": "3.9.10"
  },
  "varInspector": {
   "cols": {
    "lenName": 16,
    "lenType": 16,
    "lenVar": 40
   },
   "kernels_config": {
    "python": {
     "delete_cmd_postfix": "",
     "delete_cmd_prefix": "del ",
     "library": "var_list.py",
     "varRefreshCmd": "print(var_dic_list())"
    },
    "r": {
     "delete_cmd_postfix": ") ",
     "delete_cmd_prefix": "rm(",
     "library": "var_list.r",
     "varRefreshCmd": "cat(var_dic_list()) "
    }
   },
   "types_to_exclude": [
    "module",
    "function",
    "builtin_function_or_method",
    "instance",
    "_Feature"
   ],
   "window_display": false
  }
 },
 "nbformat": 4,
 "nbformat_minor": 5
}
