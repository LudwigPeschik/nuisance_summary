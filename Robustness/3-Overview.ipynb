{
 "cells": [
  {
   "cell_type": "code",
   "execution_count": 1,
   "id": "d2bed2ee",
   "metadata": {},
   "outputs": [],
   "source": [
    "import matplotlib.pyplot as plt\n",
    "import numpy as np\n",
    "import astropy.units as u\n",
    "import gammapy\n",
    "\n",
    "# from gammapy.datasets import MapDataset\n",
    "from gammapy.maps import Map, MapAxis\n",
    "from astropy.coordinates import SkyCoord, Angle\n",
    "from gammapy.modeling import Fit, Parameter, Parameters, Covariance\n",
    "from gammapy.datasets import MapDataset #, MapDatasetNuisance\n",
    "from gammapy.modeling.models import (\n",
    "    PowerLawSpectralModel,\n",
    "    create_crab_spectral_model,\n",
    "    SkyModel,\n",
    "    PointSpatialModel, \n",
    "    ShellSpatialModel,\n",
    "    GeneralizedGaussianSpatialModel,\n",
    "    TemplateSpatialModel,\n",
    "    LogParabolaSpectralModel,\n",
    "    GaussianSpatialModel,\n",
    "    DiskSpatialModel,\n",
    "    PowerLawNormSpectralModel,\n",
    "    Models,\n",
    "    SpatialModel,\n",
    "    FoVBackgroundModel,\n",
    ")\n",
    "from regions import CircleSkyRegion, RectangleSkyRegion\n",
    "import yaml\n",
    "import sys\n",
    "import json\n",
    "sys.path.append(\n",
    "    \"/home/hpc/caph/mppi045h/3D_analysis/N_parameters_in_L/syserror_3d_bkgmodel/4-Fitting_nuisance_and_model_parameters\"\n",
    ")\n",
    "from my_dataset_maps_19 import MapDatasetNuisance\n",
    "from  my_fit_19 import Fit"
   ]
  },
  {
   "cell_type": "code",
   "execution_count": null,
   "id": "a8b3fad8",
   "metadata": {},
   "outputs": [],
   "source": []
  },
  {
   "cell_type": "code",
   "execution_count": 2,
   "id": "d9befcb5",
   "metadata": {},
   "outputs": [],
   "source": [
    "amplitudes_write = np.logspace(-14, -9, 6)\n",
    "outputfolder = 'output/data_asimov_tests'\n",
    "\n",
    "plotaa= '/home/hpc/caph/mppi045h/3D_analysis/N_parameters_in_L/publication/Robustness/plots'"
   ]
  },
  {
   "cell_type": "code",
   "execution_count": 3,
   "id": "3578e95f",
   "metadata": {},
   "outputs": [
    {
     "name": "stdout",
     "output_type": "stream",
     "text": [
      "\n",
      "Input Amplitude:\n",
      "1e-14\n",
      "Started:  20 out of 100: [0, 1, 2, 10, 11, 20, 21, 30, 31, 32, 40, 41, 50, 60, 70, 71, 80, 97, 98, 99]\n",
      "Finished: 4 out of 100: [0, 10, 31, 40]\n",
      "\n",
      "Input Amplitude:\n",
      "1e-13\n",
      "Started:  8 out of 100: [0, 10, 20, 30, 40, 41, 50, 60]\n",
      "Finished: 1 out of 100: [40]\n",
      "\n",
      "Input Amplitude:\n",
      "1e-12\n",
      "Started:  57 out of 100: [0, 1, 2, 3, 4, 5, 6, 7, 8, 9, 10, 11, 12, 13, 14, 15, 16, 17, 18, 20, 21, 22, 23, 24, 25, 26, 27, 28, 29, 30, 31, 32, 33, 34, 35, 36, 40, 41, 42, 43, 44, 45, 46, 47, 48, 49, 89, 90, 91, 92, 93, 94, 95, 96, 97, 98, 99]\n",
      "Finished: 56 out of 100: [0, 1, 2, 3, 4, 5, 6, 7, 8, 9, 10, 11, 12, 13, 14, 15, 16, 17, 18, 20, 21, 22, 23, 24, 25, 26, 27, 28, 29, 30, 31, 32, 33, 34, 35, 36, 40, 41, 42, 43, 44, 45, 46, 47, 48, 49, 90, 91, 92, 93, 94, 95, 96, 97, 98, 99]\n",
      "\n",
      "Input Amplitude:\n",
      "1e-11\n",
      "Started:  45 out of 100: [0, 1, 2, 3, 4, 5, 6, 7, 8, 9, 20, 21, 22, 23, 24, 25, 26, 27, 40, 41, 42, 43, 44, 45, 46, 60, 61, 62, 63, 64, 65, 66, 67, 68, 69, 80, 81, 82, 83, 84, 85, 86, 87, 88, 89]\n",
      "Finished: 42 out of 100: [0, 1, 2, 3, 4, 5, 6, 7, 8, 20, 21, 22, 23, 24, 25, 26, 40, 41, 42, 43, 44, 45, 46, 60, 61, 62, 63, 64, 65, 66, 67, 68, 80, 81, 82, 83, 84, 85, 86, 87, 88, 89]\n",
      "\n",
      "Input Amplitude:\n",
      "1e-10\n",
      "Started:  89 out of 100: [0, 1, 2, 3, 4, 5, 6, 7, 8, 9, 10, 11, 12, 13, 14, 15, 16, 17, 18, 19, 20, 21, 22, 23, 24, 25, 26, 27, 28, 29, 30, 31, 32, 33, 34, 35, 36, 37, 38, 39, 40, 41, 42, 43, 44, 45, 46, 47, 48, 49, 50, 51, 52, 53, 54, 55, 56, 57, 58, 59, 60, 61, 62, 63, 64, 65, 66, 67, 68, 69, 79, 80, 81, 82, 83, 84, 85, 86, 87, 88, 89, 90, 91, 92, 93, 94, 95, 96, 97]\n",
      "Finished: 88 out of 100: [0, 1, 2, 3, 4, 5, 6, 7, 8, 9, 10, 11, 12, 13, 14, 15, 16, 17, 18, 19, 20, 21, 22, 23, 24, 25, 26, 27, 28, 29, 30, 31, 32, 33, 34, 35, 36, 37, 38, 39, 40, 41, 42, 43, 44, 45, 46, 47, 48, 49, 50, 51, 52, 53, 54, 55, 56, 57, 58, 59, 60, 61, 62, 63, 64, 65, 66, 67, 68, 69, 79, 80, 81, 82, 83, 84, 85, 86, 87, 88, 89, 90, 91, 92, 93, 94, 95, 96]\n",
      "\n",
      "Input Amplitude:\n",
      "1e-09\n",
      "Started:  69 out of 100: [0, 1, 2, 3, 4, 5, 6, 7, 8, 9, 10, 11, 12, 13, 14, 15, 20, 21, 22, 23, 24, 25, 26, 27, 28, 29, 30, 31, 32, 33, 34, 35, 40, 41, 42, 43, 44, 45, 46, 47, 48, 49, 50, 51, 52, 53, 54, 55, 58, 59, 60, 61, 62, 80, 81, 82, 83, 84, 85, 86, 87, 88, 89, 90, 91, 92, 93, 94, 95]\n",
      "Finished: 64 out of 100: [0, 1, 2, 3, 4, 5, 6, 7, 8, 9, 10, 11, 12, 13, 14, 20, 21, 22, 23, 24, 25, 26, 27, 28, 29, 30, 31, 32, 33, 34, 40, 41, 42, 43, 44, 45, 46, 47, 48, 49, 50, 51, 52, 53, 54, 58, 59, 60, 61, 80, 81, 82, 83, 84, 85, 86, 87, 88, 89, 90, 91, 92, 93, 94]\n"
     ]
    }
   ],
   "source": [
    "finished = []\n",
    "started = []\n",
    "\n",
    "\n",
    "for a in amplitudes_write:\n",
    "    print()\n",
    "    print(\"Input Amplitude:\")\n",
    "    amplitude =a * u.Unit('cm-2 s-1 TeV-1')\n",
    "    print(a)\n",
    "    outputfile = '/OOutput'+str(amplitude.value)+'.json'\n",
    "\n",
    "    with open(outputfolder+outputfile, 'r') as f:\n",
    "        data = json.load(f)\n",
    "    count_started = 0\n",
    "    count_finished = 0\n",
    "\n",
    "    rnds = list(data.keys()) \n",
    "    rnd_started, rnd_finished = [], []\n",
    "    for i in range(len(rnds)):\n",
    "        if (data[str(rnds[i])]['started'] == True):\n",
    "            count_started += 1\n",
    "            rnd_started.append(int(rnds[i]))\n",
    "        try:\n",
    "            data[str(rnds[i])]['result'] \n",
    "            count_finished += 1\n",
    "            rnd_finished.append(int(rnds[i]))\n",
    "            \n",
    "        except:\n",
    "            None\n",
    "\n",
    "    print(f\"Started:  { count_started} out of {len(rnds)}: {rnd_started}\")\n",
    "    print(f\"Finished: { count_finished} out of {len(rnds)}: {rnd_finished}\")\n",
    "    finished.append(len(rnd_finished))\n",
    "    started.append(len(rnd_started))    "
   ]
  },
  {
   "cell_type": "code",
   "execution_count": 4,
   "id": "912fb700",
   "metadata": {},
   "outputs": [
    {
     "name": "stdout",
     "output_type": "stream",
     "text": [
      "[4, 1, 56, 42, 88, 64]\n"
     ]
    }
   ],
   "source": [
    "finished_quo  = [0, 1, 56, 42, 50, 12]\n",
    "print(finished)"
   ]
  },
  {
   "cell_type": "code",
   "execution_count": 5,
   "id": "d200f4cd",
   "metadata": {},
   "outputs": [
    {
     "data": {
      "image/png": "[encoded data removed]",
      "text/plain": [
       "<Figure size 432x288 with 1 Axes>"
      ]
     },
     "metadata": {
      "needs_background": "light"
     },
     "output_type": "display_data"
    }
   ],
   "source": [
    "plt.plot(amplitudes_write, started, color = 'black')\n",
    "\n",
    "plt.plot(amplitudes_write, finished, color = 'green')\n",
    "plt.plot(amplitudes_write, finished_quo, color = 'lightgreen')\n",
    "\n",
    "\n",
    "plt.xscale('log')"
   ]
  },
  {
   "cell_type": "code",
   "execution_count": null,
   "id": "b0a3d282",
   "metadata": {},
   "outputs": [],
   "source": []
  },
  {
   "cell_type": "code",
   "execution_count": null,
   "id": "8e1fb55e",
   "metadata": {},
   "outputs": [],
   "source": []
  }
 ],
 "metadata": {
  "kernelspec": {
   "display_name": "Python 3 (ipykernel)",
   "language": "python",
   "name": "python3"
  },
  "language_info": {
   "codemirror_mode": {
    "name": "ipython",
    "version": 3
   },
   "file_extension": ".py",
   "mimetype": "text/x-python",
   "name": "python",
   "nbconvert_exporter": "python",
   "pygments_lexer": "ipython3",
   "version": "3.9.10"
  },
  "varInspector": {
   "cols": {
    "lenName": 16,
    "lenType": 16,
    "lenVar": 40
   },
   "kernels_config": {
    "python": {
     "delete_cmd_postfix": "",
     "delete_cmd_prefix": "del ",
     "library": "var_list.py",
     "varRefreshCmd": "print(var_dic_list())"
    },
    "r": {
     "delete_cmd_postfix": ") ",
     "delete_cmd_prefix": "rm(",
     "library": "var_list.r",
     "varRefreshCmd": "cat(var_dic_list()) "
    }
   },
   "types_to_exclude": [
    "module",
    "function",
    "builtin_function_or_method",
    "instance",
    "_Feature"
   ],
   "window_display": false
  }
 },
 "nbformat": 4,
 "nbformat_minor": 5
}
