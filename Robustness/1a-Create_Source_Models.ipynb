{
 "cells": [
  {
   "cell_type": "code",
   "execution_count": 5,
   "id": "30646fc2",
   "metadata": {},
   "outputs": [],
   "source": [
    "import gammapy\n",
    "import astropy.units as u\n",
    "from astropy.coordinates import SkyCoord #, Angle\n",
    "from gammapy.modeling import Fit, Parameter, Parameters#, Covariance\n",
    "from gammapy.datasets import MapDataset #, MapDatasetNuisance\n",
    "from gammapy.modeling.models import (\n",
    "    PowerLawSpectralModel,\n",
    "    SkyModel,\n",
    "    PointSpatialModel,\n",
    "    GaussianSpatialModel,\n",
    "    Models,\n",
    "    FoVBackgroundModel,\n",
    ")"
   ]
  },
  {
   "cell_type": "code",
   "execution_count": 15,
   "id": "065793c1",
   "metadata": {},
   "outputs": [],
   "source": [
    "pointsource_center = PointSpatialModel(lon_0=83.6*u.deg, \n",
    "                                             lat_0=22.0*u.deg, \n",
    "                                             frame='icrs')\n",
    "    \n",
    "gaussian_center = GaussianSpatialModel(lon_0=83.6*u.deg, \n",
    "                                             lat_0=22.0*u.deg, \n",
    "                                            sigma = 0.5 *u.deg,\n",
    "                                             frame='icrs')\n",
    "gaussainsource_offcenter = GaussianSpatialModel(lon_0=83.6*u.deg + 1*u.deg, \n",
    "                                             lat_0=22.0*u.deg + 1*u.deg, \n",
    "                                            sigma = 0.5 *u.deg,\n",
    "                                             frame='icrs')\n",
    "largegaussiansource_center = GaussianSpatialModel(lon_0=83.6*u.deg, \n",
    "                                                 lat_0=22.0*u.deg, \n",
    "                                                sigma = 2 *u.deg,\n",
    "                                                 frame='icrs') \n",
    "    \n",
    "spectral_model_asimov = PowerLawSpectralModel(index=2.4,\n",
    "                                              amplitude=1e-24 *  u.Unit('cm-2 s-1 TeV-1'),\n",
    "                                              reference=\"1 TeV\") \n",
    "\n",
    "\n",
    "model_pointsource_center = SkyModel(spatial_model=pointsource_center, \n",
    "                        spectral_model=spectral_model_asimov, name=\"pointsource_center\")\n",
    "model_gaussian_center= SkyModel(spatial_model=gaussian_center, \n",
    "                        spectral_model=spectral_model_asimov, name=\"gaussiansource_center\")\n",
    "model_gaussainsource_offcenter= SkyModel(spatial_model=gaussainsource_offcenter, \n",
    "                        spectral_model=spectral_model_asimov, name=\"gaussiansource_offcenter\")\n",
    "model_largegaussiansource_center = SkyModel(spatial_model=largegaussiansource_center, \n",
    "                        spectral_model=spectral_model_asimov, name=\"largegaussiansource_center\")\n",
    "\n",
    "models= Models([model_pointsource_center,\n",
    "               model_gaussian_center,\n",
    "               model_gaussainsource_offcenter,\n",
    "               model_largegaussiansource_center])\n",
    "\n"
   ]
  },
  {
   "cell_type": "code",
   "execution_count": 16,
   "id": "f847b14e",
   "metadata": {},
   "outputs": [],
   "source": [
    "models.write(\"1a-Source_models.yaml\", overwrite= True)"
   ]
  },
  {
   "cell_type": "code",
   "execution_count": null,
   "id": "50655d98",
   "metadata": {},
   "outputs": [],
   "source": []
  }
 ],
 "metadata": {
  "kernelspec": {
   "display_name": "Python 3 (ipykernel)",
   "language": "python",
   "name": "python3"
  },
  "language_info": {
   "codemirror_mode": {
    "name": "ipython",
    "version": 3
   },
   "file_extension": ".py",
   "mimetype": "text/x-python",
   "name": "python",
   "nbconvert_exporter": "python",
   "pygments_lexer": "ipython3",
   "version": "3.9.10"
  },
  "varInspector": {
   "cols": {
    "lenName": 16,
    "lenType": 16,
    "lenVar": 40
   },
   "kernels_config": {
    "python": {
     "delete_cmd_postfix": "",
     "delete_cmd_prefix": "del ",
     "library": "var_list.py",
     "varRefreshCmd": "print(var_dic_list())"
    },
    "r": {
     "delete_cmd_postfix": ") ",
     "delete_cmd_prefix": "rm(",
     "library": "var_list.r",
     "varRefreshCmd": "cat(var_dic_list()) "
    }
   },
   "types_to_exclude": [
    "module",
    "function",
    "builtin_function_or_method",
    "instance",
    "_Feature"
   ],
   "window_display": false
  }
 },
 "nbformat": 4,
 "nbformat_minor": 5
}
