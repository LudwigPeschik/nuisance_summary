{
 "cells": [
  {
   "cell_type": "code",
   "execution_count": 1,
   "id": "c102068e",
   "metadata": {},
   "outputs": [
    {
     "name": "stdout",
     "output_type": "stream",
     "text": [
      "loaded gammapy version: 1.1.dev320+g92a6eb9f4 \n",
      "Supposed to be 1.0 (21-11-2022)\n"
     ]
    }
   ],
   "source": [
    "import gammapy \n",
    "print(f'loaded gammapy version: {gammapy.__version__} ' )\n",
    "print(f'Supposed to be 1.0 (21-11-2022)' )"
   ]
  },
  {
   "cell_type": "code",
   "execution_count": 2,
   "id": "e0c4dcf1",
   "metadata": {
    "execution": {
     "iopub.execute_input": "2022-03-17T11:24:36.091662Z",
     "iopub.status.busy": "2022-03-17T11:24:36.091167Z",
     "iopub.status.idle": "2022-03-17T11:25:00.872876Z",
     "shell.execute_reply": "2022-03-17T11:25:00.871690Z"
    }
   },
   "outputs": [],
   "source": [
    "#get_ipython().system('jupyter nbconvert --to script 1-Nui_Par_Fitting.ipynb')\n",
    "import pyximport\n",
    "\n",
    "pyximport.install()\n",
    "import matplotlib.pyplot as plt\n",
    "import numpy as np\n",
    "import astropy.units as u\n",
    "import gammapy\n",
    "\n",
    "# from gammapy.datasets import MapDataset\n",
    "from gammapy.maps import Map\n",
    "from astropy.coordinates import SkyCoord, Angle\n",
    "from gammapy.modeling import Fit,  Parameters, Covariance , Parameter\n",
    "from gammapy.datasets import MapDataset ,Datasets#, MapDatasetNuisance\n",
    "from gammapy.modeling.models import (\n",
    "    PowerLawSpectralModel,\n",
    "    create_crab_spectral_model,\n",
    "    SkyModel,\n",
    "    PointSpatialModel,\n",
    "    ShellSpatialModel,\n",
    "    GeneralizedGaussianSpatialModel,\n",
    "    TemplateSpatialModel,\n",
    "    LogParabolaSpectralModel,\n",
    "    GaussianSpatialModel,\n",
    "    DiskSpatialModel,\n",
    "    PowerLawNormSpectralModel,\n",
    "    Models,\n",
    "    SpatialModel,\n",
    "    FoVBackgroundModel,\n",
    "    PowerLawNuisanceSpectralModel,\n",
    "    PowerLawNormNuisanceSpectralModel\n",
    ")\n",
    "from gammapy.estimators import TSMapEstimator, ExcessMapEstimator\n",
    "\n",
    "from regions import CircleSkyRegion, RectangleSkyRegion\n",
    "import yaml\n",
    "import sys\n",
    "\n",
    "from Dataset_Creation import sys_dataset\n"
   ]
  },
  {
   "cell_type": "markdown",
   "id": "23adcef0",
   "metadata": {},
   "source": [
    "## Read dataset"
   ]
  },
  {
   "cell_type": "code",
   "execution_count": 3,
   "id": "f94dc89c",
   "metadata": {},
   "outputs": [
    {
     "name": "stdout",
     "output_type": "stream",
     "text": [
      "spatial binsize =  [0.08] deg\n",
      "MapDataset\n",
      "----------\n",
      "\n",
      "  Name                            : qHz4QdXT \n",
      "\n",
      "  Total counts                    : 388209 \n",
      "  Total background counts         : 360331.31\n",
      "  Total excess counts             : 27877.69\n",
      "\n",
      "  Predicted counts                : 361333.07\n",
      "  Predicted background counts     : 360331.34\n",
      "  Predicted excess counts         : 1001.73\n",
      "\n",
      "  Exposure min                    : 2.07e-01 m2 s\n",
      "  Exposure max                    : 2.41e+11 m2 s\n",
      "\n",
      "  Number of total bins            : 540000 \n",
      "  Number of fit bins              : 180191 \n",
      "\n",
      "  Fit statistic type              : cash\n",
      "  Fit statistic value (-2 log(L)) : -924522.99\n",
      "\n",
      "  Number of models                : 2 \n",
      "  Number of parameters            : 11\n",
      "  Number of free parameters       : 7\n",
      "\n",
      "  Component 0: SkyModel\n",
      "  \n",
      "    Name                      : Source\n",
      "    Datasets names            : None\n",
      "    Spectral model type       : PowerLawSpectralModel\n",
      "    Spatial  model type       : GaussianSpatialModel\n",
      "    Temporal model type       : \n",
      "    Parameters:\n",
      "      index                         :      2.300   +/-    0.00             \n",
      "      amplitude                     :   1.00e-12   +/- 0.0e+00 1 / (cm2 s TeV)\n",
      "      reference             (frozen):      1.000       TeV         \n",
      "      lon_0                         :     83.631   +/-    0.00 deg         \n",
      "      lat_0                         :     22.018   +/-    0.00 deg         \n",
      "      sigma                         :      0.019   +/-    0.00 deg         \n",
      "      e                     (frozen):      0.000                   \n",
      "      phi                   (frozen):      0.000       deg         \n",
      "  \n",
      "  Component 1: FoVBackgroundModel\n",
      "  \n",
      "    Name                      : qHz4QdXT-bkg\n",
      "    Datasets names            : ['qHz4QdXT']\n",
      "    Spectral model type       : PowerLawNormSpectralModel\n",
      "    Parameters:\n",
      "      norm                          :      1.000   +/-    0.00             \n",
      "      tilt                          :      0.000   +/-    0.00             \n",
      "      reference             (frozen):      1.000       TeV         \n",
      "  \n",
      "  \n"
     ]
    },
    {
     "data": {
      "image/png": "[encoded data removed]",
      "text/plain": [
       "<Figure size 640x480 with 2 Axes>"
      ]
     },
     "metadata": {},
     "output_type": "display_data"
    }
   ],
   "source": [
    "source = 'Crab'\n",
    "path = '/home/vault/caph/mppi062h/repositories/HESS_3Dbkg_syserror/2-error_in_dataset'\n",
    "path_crab = '/home/hpc/caph/mppi045h/3D_analysis/N_parameters_in_L/nuisance_summary/Crab'\n",
    "\n",
    "\n",
    "dataset_load = MapDataset.read(f'{path}/{source}/stacked.fits')\n",
    "dataset_load = dataset_load.downsample(4)\n",
    "models = Models.read(f\"{path_crab}/standard_model.yml\")\n",
    "model_spectrum  = PowerLawSpectralModel(\n",
    "    index=2.3,\n",
    "    amplitude=\"1e-12 TeV-1 cm-2 s-1\",    )\n",
    "source_model = SkyModel(spatial_model = models['main source'].spatial_model ,\n",
    "                       spectral_model = model_spectrum,\n",
    "                       name = \"Source\")    \n",
    "models = Models(source_model)\n",
    "\n",
    "bkg_model = FoVBackgroundModel(dataset_name=dataset_load.name)\n",
    "bkg_model.parameters['tilt'].frozen  = False\n",
    "models.append(bkg_model)\n",
    "dataset_load.models = models\n",
    "\n",
    "dataset_asimov = dataset_load.copy()\n",
    "dataset_asimov.counts = dataset_load.npred()\n",
    "models = Models(source_model.copy())\n",
    "bkg_model = FoVBackgroundModel(dataset_name=dataset_asimov.name)\n",
    "bkg_model.parameters['tilt'].frozen  = False\n",
    "models.append(bkg_model)\n",
    "dataset_asimov.models = models\n",
    "\n",
    "    \n",
    "dataset_load.counts.sum_over_axes().plot(add_cbar=1)\n",
    "binsize = dataset_load.geoms[\"geom\"].width[1] / dataset_load.geoms[\"geom\"].data_shape[1]\n",
    "print(\n",
    "    \"spatial binsize = \",\n",
    "    binsize\n",
    ")\n",
    "\n",
    "print(dataset_load)"
   ]
  },
  {
   "cell_type": "markdown",
   "id": "2e0399d4",
   "metadata": {},
   "source": [
    "## Amplitude"
   ]
  },
  {
   "cell_type": "markdown",
   "id": "7ebe9fed",
   "metadata": {},
   "source": [
    "#### Setting up the amplitude nuisance"
   ]
  },
  {
   "cell_type": "code",
   "execution_count": 4,
   "id": "57376f64",
   "metadata": {},
   "outputs": [
    {
     "name": "stdout",
     "output_type": "stream",
     "text": [
      "[-2.e-02  1.e-25  2.e-02  4.e-02  6.e-02  8.e-02  1.e-01]\n"
     ]
    }
   ],
   "source": [
    "shifts_a = np.linspace(0,0.1,6)\n",
    "shifts_a = np.insert(shifts_a, 0, shifts_a[-2]- shifts_a[-1]) # Standard dataset, but plot on the left this way\n",
    "shifts_a[1] = 1e-25 # cannot put 0 in it --> 1/ 0 = np.nan\n",
    "shift = +0.1\n",
    "labels_xa = ['Standard'] + [str(i) for i in shifts_a[1:]]\n",
    "labels_xa[1] = str(0)\n",
    "print(shifts_a)\n"
   ]
  },
  {
   "cell_type": "markdown",
   "id": "30300fe3",
   "metadata": {},
   "source": [
    "#### Setting up the index nuisance"
   ]
  },
  {
   "cell_type": "code",
   "execution_count": 5,
   "id": "92b67d73",
   "metadata": {},
   "outputs": [
    {
     "name": "stdout",
     "output_type": "stream",
     "text": [
      "[-8.33333333e-04  1.00000000e-25  8.33333333e-04  1.66666667e-03\n",
      "  2.50000000e-03  3.33333333e-03]\n",
      "['Standard', '0', '0.000833', '0.00167', '0.0025', '0.00333']\n"
     ]
    }
   ],
   "source": [
    "delta_shift = 0.08\n",
    "n = 24\n",
    "tilt = +delta_shift/n \n",
    "\n",
    "\n",
    "tilts_i = np.linspace(0,tilt,5)\n",
    "tilts_i = np.insert(tilts_i, 0, tilts_i[-2]- tilts_i[-1]) # Standard dataset, but plot on the left this way\n",
    "tilts_i[1] = 1e-25 # cannot put 0 in it --> 1/ 0 = np.nan\n",
    "\n",
    "labels_xi = ['Standard'] + [f'{i:.3}' for i in tilts_i[1:]]\n",
    "labels_xi[1] = str(0)\n",
    "\n",
    "print(tilts_i)\n",
    "print(labels_xi)"
   ]
  },
  {
   "cell_type": "code",
   "execution_count": null,
   "id": "927b155d",
   "metadata": {},
   "outputs": [],
   "source": []
  },
  {
   "cell_type": "code",
   "execution_count": 6,
   "id": "b6c3b316",
   "metadata": {
    "scrolled": true
   },
   "outputs": [
    {
     "name": "stdout",
     "output_type": "stream",
     "text": [
      "5\n",
      "5\n",
      "5\n",
      "5\n",
      "5\n",
      "5\n",
      "5\n",
      "5\n",
      "5\n",
      "5\n",
      "5\n",
      "5\n",
      "5\n",
      "5\n",
      "5\n",
      "5\n",
      "5\n",
      "5\n",
      "5\n",
      "5\n",
      "5\n",
      "5\n",
      "5\n",
      "5\n",
      "5\n",
      "5\n",
      "5\n",
      "5\n",
      "5\n",
      "5\n",
      "5\n",
      "5\n",
      "5\n",
      "5\n",
      "5\n",
      "5\n",
      "5\n",
      "5\n",
      "5\n",
      "5\n",
      "5\n",
      "5\n",
      "5\n",
      "5\n",
      "5\n",
      "5\n",
      "5\n",
      "5\n",
      "5\n",
      "5\n",
      "5\n",
      "5\n",
      "5\n",
      "5\n",
      "5\n",
      "5\n",
      "5\n",
      "5\n",
      "5\n",
      "5\n",
      "5\n",
      "5\n",
      "5\n",
      "5\n",
      "5\n",
      "5\n",
      "5\n",
      "5\n",
      "5\n",
      "5\n",
      "5\n",
      "5\n",
      "5\n",
      "5\n",
      "5\n",
      "5\n",
      "5\n",
      "5\n",
      "5\n",
      "5\n",
      "5\n",
      "5\n",
      "5\n",
      "5\n"
     ]
    }
   ],
   "source": [
    "sigma_i = tilt \n",
    "\n",
    "datasets = []\n",
    "\n",
    "for j, s_i in enumerate(tilts_i):\n",
    "    datasets_i = []\n",
    "\n",
    "\n",
    "    for i, s_a in enumerate(shifts_a):\n",
    "        sys = sys_dataset(dataset_asimov= dataset_asimov,\n",
    "                            shift = shift, \n",
    "                            tilt = tilt,\n",
    "                            rnd = False)\n",
    "        data = sys.create_dataset_N()\n",
    "        zero = 1e-24\n",
    "        penalising_covmatrix = [[1/s_i**2, zero], [zero , 1/s_a**2]]\n",
    "        penalising_invcovmatrix =  penalising_covmatrix\n",
    "        data.penalising_invcovmatrix = penalising_invcovmatrix\n",
    "        if i ==0:\n",
    "            data.models.parameters['amplitude_nuisance'].frozen = True\n",
    "            data.models.parameters['index_nuisance'].frozen = True\n",
    "\n",
    "        datasets_i.append(data)     \n",
    "    datasets.append(datasets_i) \n",
    "datasets = np.array(datasets)"
   ]
  },
  {
   "cell_type": "code",
   "execution_count": 7,
   "id": "120a6f2d",
   "metadata": {
    "scrolled": true
   },
   "outputs": [
    {
     "name": "stdout",
     "output_type": "stream",
     "text": [
      "Fitting dataset number ...  0 -0.0008333333333333335 -0.020000000000000004\n",
      "Stat sum afer  -753580.087167005\n",
      "Fitting dataset number ...  1 -0.0008333333333333335 1e-25\n",
      "Stat sum afer  -753580.0871039463\n",
      "Fitting dataset number ...  2 -0.0008333333333333335 0.02\n",
      "Stat sum afer  -753580.0870935422\n",
      "Fitting dataset number ...  3 -0.0008333333333333335 0.04\n",
      "Stat sum afer  -753580.0876955673\n",
      "Fitting dataset number ...  4 -0.0008333333333333335 0.06\n",
      "Stat sum afer  -753580.0886172741\n",
      "Fitting dataset number ...  5 -0.0008333333333333335 0.08\n",
      "Stat sum afer  -753580.0887248894\n",
      "Fitting dataset number ...  6 -0.0008333333333333335 0.1\n",
      "Stat sum afer  -753580.0881607381\n",
      "Fitting dataset number ...  7 1e-25 -0.020000000000000004\n",
      "Stat sum afer  -753580.087167005\n",
      "Fitting dataset number ...  8 1e-25 1e-25\n",
      "Stat sum afer  -753580.087167005\n",
      "Fitting dataset number ...  9 1e-25 0.02\n",
      "Stat sum afer  -753580.0871032543\n",
      "Fitting dataset number ...  10 1e-25 0.04\n",
      "Stat sum afer  -753580.0877114023\n",
      "Fitting dataset number ...  11 1e-25 0.06\n",
      "Stat sum afer  -753580.0890900535\n",
      "Fitting dataset number ...  12 1e-25 0.08\n",
      "Stat sum afer  -753580.0887005132\n",
      "Fitting dataset number ...  13 1e-25 0.1\n",
      "Stat sum afer  -753580.0893603284\n",
      "Fitting dataset number ...  14 0.0008333333333333334 -0.020000000000000004\n",
      "Stat sum afer  -753580.087167005\n",
      "Fitting dataset number ...  15 0.0008333333333333334 1e-25\n",
      "Stat sum afer  -753580.0871039463\n",
      "Fitting dataset number ...  16 0.0008333333333333334 0.02\n",
      "Stat sum afer  -753580.0870935422\n",
      "Fitting dataset number ...  17 0.0008333333333333334 0.04\n",
      "Stat sum afer  -753580.0876955673\n",
      "Fitting dataset number ...  18 0.0008333333333333334 0.06\n",
      "Stat sum afer  -753580.0886172741\n",
      "Fitting dataset number ...  19 0.0008333333333333334 0.08\n",
      "Stat sum afer  -753580.0887248894\n",
      "Fitting dataset number ...  20 0.0008333333333333334 0.1\n",
      "Stat sum afer  -753580.0881607381\n",
      "Fitting dataset number ...  21 0.0016666666666666668 -0.020000000000000004\n",
      "Stat sum afer  -753580.087167005\n",
      "Fitting dataset number ...  22 0.0016666666666666668 1e-25\n",
      "Stat sum afer  -753580.0870994214\n",
      "Fitting dataset number ...  23 0.0016666666666666668 0.02\n",
      "Stat sum afer  -753580.0870787048\n",
      "Fitting dataset number ...  24 0.0016666666666666668 0.04\n",
      "Stat sum afer  -753580.0875664063\n",
      "Fitting dataset number ...  25 0.0016666666666666668 0.06\n",
      "Stat sum afer  -753580.0872472298\n",
      "Fitting dataset number ...  26 0.0016666666666666668 0.08\n",
      "Stat sum afer  -753580.0876442732\n",
      "Fitting dataset number ...  27 0.0016666666666666668 0.1\n",
      "Stat sum afer  -753580.0878817758\n",
      "Fitting dataset number ...  28 0.0025 -0.020000000000000004\n",
      "Stat sum afer  -753580.087167005\n",
      "Fitting dataset number ...  29 0.0025 1e-25\n",
      "Stat sum afer  -753580.0870596872\n",
      "Fitting dataset number ...  30 0.0025 0.02\n",
      "Stat sum afer  -753580.087075096\n",
      "Fitting dataset number ...  31 0.0025 0.04\n",
      "Stat sum afer  -753580.0871882479\n",
      "Fitting dataset number ...  32 0.0025 0.06\n",
      "Stat sum afer  -753580.0871577123\n",
      "Fitting dataset number ...  33 0.0025 0.08\n",
      "Stat sum afer  -753580.0874944729\n",
      "Fitting dataset number ...  34 0.0025 0.1\n",
      "Stat sum afer  -753580.0876157968\n",
      "Fitting dataset number ...  35 0.0033333333333333335 -0.020000000000000004\n",
      "Stat sum afer  -753580.087167005\n",
      "Fitting dataset number ...  36 0.0033333333333333335 1e-25\n",
      "Stat sum afer  -753580.0870350971\n",
      "Fitting dataset number ...  37 0.0033333333333333335 0.02\n",
      "Stat sum afer  -753580.0871089634\n",
      "Fitting dataset number ...  38 0.0033333333333333335 0.04\n",
      "Stat sum afer  -753580.0870790683\n",
      "Fitting dataset number ...  39 0.0033333333333333335 0.06\n",
      "Stat sum afer  -753580.0869120231\n",
      "Fitting dataset number ...  40 0.0033333333333333335 0.08\n",
      "Stat sum afer  -753580.0875051965\n",
      "Fitting dataset number ...  41 0.0033333333333333335 0.1\n",
      "Stat sum afer  -753580.0876213979\n",
      "saving ... \n"
     ]
    }
   ],
   "source": [
    "fitting = True\n",
    "\n",
    "if fitting:\n",
    "    \n",
    "    nui_ampli_all_N  = np.empty_like(datasets)\n",
    "    nui_ampli_err_all_N  = np.empty_like(datasets)\n",
    "    nui_index_all_N  = np.empty_like(datasets)\n",
    "    nui_index_err_all_N  = np.empty_like(datasets)\n",
    "    index_all_N  = np.empty_like(datasets)\n",
    "    index_err_all_N  = np.empty_like(datasets)\n",
    "    amplitude_all_N  = np.empty_like(datasets)\n",
    "    amplitude_err_all_N  = np.empty_like(datasets)\n",
    "    stat_all_N  = np.empty_like(datasets)\n",
    "    \n",
    "    counts = 0\n",
    "    for j, s_i in enumerate(tilts_i):\n",
    "        for i, s_a in enumerate(shifts_a):\n",
    "            dataset = datasets[j][i]\n",
    "            print(\"Fitting dataset number ... \", counts, tilts_i[j], shifts_a[i])\n",
    "\n",
    "            fit_cor = Fit(store_trace=False)\n",
    "            result_cor = fit_cor.run(dataset)\n",
    "            print(\"Stat sum afer \",  dataset.stat_sum())\n",
    "            counts +=1 \n",
    "            \n",
    "            \n",
    "            nui_ampli_all_N[j][i] = float(dataset.models.parameters['amplitude_nuisance'].value)\n",
    "            nui_ampli_err_all_N[j][i] = float(dataset.models.parameters['amplitude_nuisance'].error)\n",
    "            nui_index_all_N[j][i] = float(dataset.models.parameters['index_nuisance'].value)\n",
    "            nui_index_err_all_N[j][i] = float(dataset.models.parameters['index_nuisance'].error)\n",
    "            index_all_N[j][i] = float(dataset.models.parameters['index'].value)\n",
    "            index_err_all_N[j][i] = float(dataset.models.parameters['index'].error)\n",
    "            amplitude_all_N[j][i] = float(dataset.models.parameters['amplitude'].value)\n",
    "            amplitude_err_all_N[j][i] = float(dataset.models.parameters['amplitude'].error)\n",
    "            stat_all_N[j][i] = float(dataset.stat_sum())\n",
    "            \n",
    "                          \n",
    "    print(\"saving ... \")    \n",
    "    with open('data/4_nui_ampli_all_N.yaml', 'w') as file:\n",
    "        documents = yaml.dump(nui_ampli_all_N.tolist(), file)\n",
    "    with open('data/4_nui_ampli_err_all_N.yaml', 'w') as file:\n",
    "        documents = yaml.dump(nui_ampli_err_all_N.tolist(), file)\n",
    "    with open('data/4_nui_index_all_N.yaml', 'w') as file:\n",
    "        documents = yaml.dump(nui_index_all_N.tolist(), file)\n",
    "    with open('data/4_nui_index_err_all_N.yaml', 'w') as file:\n",
    "        documents = yaml.dump(nui_index_err_all_N.tolist(), file)\n",
    "    with open('data/4_index_all_N.yaml', 'w') as file:\n",
    "        documents = yaml.dump(index_all_N.tolist(), file)\n",
    "    with open('data/4_index_err_all_N.yaml', 'w') as file:\n",
    "        documents = yaml.dump(index_err_all_N.tolist(), file)\n",
    "    with open('data/4_amplitude_all_N.yaml', 'w') as file:\n",
    "        documents = yaml.dump(amplitude_all_N.tolist(), file)\n",
    "    with open('data/4_amplitude_err_all_N.yaml', 'w') as file:\n",
    "        documents = yaml.dump(amplitude_err_all_N.tolist(), file)\n",
    "    with open('data/4_stat_all_N.yaml', 'w') as file:\n",
    "        documents = yaml.dump(stat_all_N.tolist(), file)"
   ]
  },
  {
   "cell_type": "code",
   "execution_count": 8,
   "id": "4f8e2525",
   "metadata": {},
   "outputs": [],
   "source": [
    "if fitting == False:\n",
    "    print(\"reading ... \")    \n",
    "    with open('data/4_nui_ampli_all_N.yaml') as file:\n",
    "        nui_ampli_all_N = yaml.load( file, Loader=yaml.FullLoader)\n",
    "    with open('data/4_nui_ampli_err_all_N.yaml') as file:\n",
    "        nui_ampli_err_all_N = yaml.load( file, Loader=yaml.FullLoader)\n",
    "    with open('data/4_nui_index_all_N.yaml') as file:\n",
    "        nui_index_all_N = yaml.load( file, Loader=yaml.FullLoader)\n",
    "    with open('data/4_nui_index_err_all_N.yaml') as file:\n",
    "        nui_index_err_all_N = yaml.load( file, Loader=yaml.FullLoader)\n",
    "    with open('data/4_index_all_N.yaml') as file:\n",
    "        index_all_N = yaml.load( file, Loader=yaml.FullLoader)\n",
    "    with open('data/4_index_err_all_N.yaml') as file:\n",
    "        index_err_all_N = yaml.load( file, Loader=yaml.FullLoader)\n",
    "    with open('data/4_amplitude_all_N.yaml') as file:\n",
    "        amplitude_all_N = yaml.load( file, Loader=yaml.FullLoader)\n",
    "    with open('data/4_amplitude_err_all_N.yaml') as file:\n",
    "        amplitude_err_all_N = yaml.load( file, Loader=yaml.FullLoader)\n",
    "    with open('data/4_stat_all_N.yaml') as file:\n",
    "        stat_all_N = yaml.load( file, Loader=yaml.FullLoader)\n"
   ]
  },
  {
   "cell_type": "code",
   "execution_count": null,
   "id": "62d39762",
   "metadata": {},
   "outputs": [],
   "source": []
  },
  {
   "cell_type": "code",
   "execution_count": null,
   "id": "3cee9d38",
   "metadata": {},
   "outputs": [],
   "source": []
  },
  {
   "cell_type": "code",
   "execution_count": 9,
   "id": "af2fd019",
   "metadata": {},
   "outputs": [
    {
     "data": {
      "text/plain": [
       "Text(0.5, 0, 'Penalty Strength on Amplitude Nuisance ')"
      ]
     },
     "execution_count": 9,
     "metadata": {},
     "output_type": "execute_result"
    },
    {
     "data": {
      "image/png": "[encoded data removed]",
      "text/plain": [
       "<Figure size 640x480 with 3 Axes>"
      ]
     },
     "metadata": {},
     "output_type": "display_data"
    }
   ],
   "source": [
    "from gammapy.stats.fit_statistics import gaussian_penality\n",
    "fig , axs = plt.subplots(3,1, sharex=True)\n",
    "j = -1\n",
    "for i, d in enumerate(datasets[j]):\n",
    "    axs[0].errorbar(shifts_a[i], nui_ampli_all_N[j][i],\n",
    "                    yerr = nui_ampli_err_all_N[j][i], fmt = 'x', color = 'blue')\n",
    "    pen = nui_ampli_all_N[j][i]**2 / shifts_a[i] ** 2\n",
    "    pen = gaussian_penality(d.models.parameters.penalised_parameters, \n",
    "                            d.penalising_invcovmatrix)\n",
    "    axs[1].plot(shifts_a[i], pen, 'x', color = 'red')\n",
    "    \n",
    "    \n",
    "    axs[2].errorbar(shifts_a[i], amplitude_all_N[j][i],\n",
    "                    yerr = amplitude_err_all_N[j][i], fmt = 'x', color = 'green')\n",
    "    \n",
    "axs[0].set_xticks(shifts_a,labels_xa)    \n",
    "axs[1].set_xticks(shifts_a,labels_xa)    \n",
    "axs[0].set_ylabel(\"Amplitude Nuisance\")\n",
    "axs[1].set_ylabel(\"Penalty Term\")\n",
    "axs[1].set_xlabel(\"Penalty Strength on Amplitude Nuisance \")"
   ]
  },
  {
   "cell_type": "code",
   "execution_count": 10,
   "id": "af10b9ef",
   "metadata": {},
   "outputs": [
    {
     "name": "stdout",
     "output_type": "stream",
     "text": [
      "0\n",
      "1\n",
      "2\n",
      "3\n",
      "4\n",
      "5\n"
     ]
    },
    {
     "data": {
      "text/plain": [
       "Text(0.5, 0, 'Penalty Strength on Index Nuisance ')"
      ]
     },
     "execution_count": 10,
     "metadata": {},
     "output_type": "execute_result"
    },
    {
     "data": {
      "image/png": "[encoded data removed]",
      "text/plain": [
       "<Figure size 640x480 with 3 Axes>"
      ]
     },
     "metadata": {},
     "output_type": "display_data"
    }
   ],
   "source": [
    "fig , axs = plt.subplots(3,1, sharex=True)\n",
    "i = -1\n",
    "for j, d in enumerate(datasets[:,i]):\n",
    "    print(j)\n",
    "    axs[0].errorbar(tilts_i[j], nui_ampli_all_N[j][i],\n",
    "                    yerr = nui_ampli_err_all_N[j][i], fmt = 'x', color = 'blue')\n",
    "    pen = nui_ampli_all_N[j][i]**2 / tilts_i[j] ** 2\n",
    "    pen = gaussian_penality(d.models.parameters.penalised_parameters, \n",
    "                            d.penalising_invcovmatrix)\n",
    "    axs[1].plot(tilts_i[j], pen, 'x', color = 'red')\n",
    "    axs[2].errorbar(tilts_i[j], index_all_N[j][i],\n",
    "                    yerr = index_err_all_N[j][i], fmt = 'x', color = 'green')\n",
    "axs[0].set_xticks(tilts_i,labels_xi)    \n",
    "axs[1].set_xticks(tilts_i,labels_xi)    \n",
    "axs[0].set_ylabel(\"Index Nuisance\")\n",
    "axs[1].set_ylabel(\"Penalty Term\")\n",
    "axs[1].set_xlabel(\"Penalty Strength on Index Nuisance \")"
   ]
  },
  {
   "cell_type": "code",
   "execution_count": null,
   "id": "2c2bc9c1",
   "metadata": {},
   "outputs": [],
   "source": []
  }
 ],
 "metadata": {
  "kernelspec": {
   "display_name": "Python 3 (ipykernel)",
   "language": "python",
   "name": "python3"
  },
  "language_info": {
   "codemirror_mode": {
    "name": "ipython",
    "version": 3
   },
   "file_extension": ".py",
   "mimetype": "text/x-python",
   "name": "python",
   "nbconvert_exporter": "python",
   "pygments_lexer": "ipython3",
   "version": "3.8.15"
  },
  "varInspector": {
   "cols": {
    "lenName": 16,
    "lenType": 16,
    "lenVar": 40
   },
   "kernels_config": {
    "python": {
     "delete_cmd_postfix": "",
     "delete_cmd_prefix": "del ",
     "library": "var_list.py",
     "varRefreshCmd": "print(var_dic_list())"
    },
    "r": {
     "delete_cmd_postfix": ") ",
     "delete_cmd_prefix": "rm(",
     "library": "var_list.r",
     "varRefreshCmd": "cat(var_dic_list()) "
    }
   },
   "types_to_exclude": [
    "module",
    "function",
    "builtin_function_or_method",
    "instance",
    "_Feature"
   ],
   "window_display": false
  }
 },
 "nbformat": 4,
 "nbformat_minor": 5
}
