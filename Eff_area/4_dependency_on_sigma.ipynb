{
 "cells": [
  {
   "cell_type": "markdown",
   "id": "5f08e599",
   "metadata": {},
   "source": [
    "## Check the dependecy on sigma (Penaltity) on the best-Fit Nuisance Parameter"
   ]
  },
  {
   "cell_type": "code",
   "execution_count": 1,
   "id": "a7d30ed3",
   "metadata": {},
   "outputs": [
    {
     "name": "stdout",
     "output_type": "stream",
     "text": [
      "loaded gammapy version: 1.0 \n",
      "Supposed to be 1.0 (21-11-2022)\n"
     ]
    }
   ],
   "source": [
    "import gammapy \n",
    "print(f'loaded gammapy version: {gammapy.__version__} ' )\n",
    "print(f'Supposed to be 1.0 (21-11-2022)' )"
   ]
  },
  {
   "cell_type": "code",
   "execution_count": 2,
   "id": "522c2c02",
   "metadata": {},
   "outputs": [],
   "source": [
    "#get_ipython().system('jupyter nbconvert --to script 1-Nui_Par_Fitting.ipynb')\n",
    "import pyximport\n",
    "\n",
    "pyximport.install()\n",
    "import matplotlib.pyplot as plt\n",
    "import numpy as np\n",
    "import astropy.units as u\n",
    "import gammapy\n",
    "\n",
    "# from gammapy.datasets import MapDataset\n",
    "from gammapy.maps import Map\n",
    "from astropy.coordinates import SkyCoord, Angle\n",
    "from gammapy.modeling import Fit, Parameter, Parameters, Covariance\n",
    "from gammapy.datasets import MapDataset ,Datasets#, MapDatasetNuisance\n",
    "from gammapy.modeling.models import (\n",
    "    PowerLawSpectralModel,\n",
    "    create_crab_spectral_model,\n",
    "    SkyModel,\n",
    "    PointSpatialModel,\n",
    "    ShellSpatialModel,\n",
    "    GeneralizedGaussianSpatialModel,\n",
    "    TemplateSpatialModel,\n",
    "    LogParabolaSpectralModel,\n",
    "    GaussianSpatialModel,\n",
    "    DiskSpatialModel,\n",
    "    PowerLawNormSpectralModel,\n",
    "    Models,\n",
    "    SpatialModel,\n",
    "    FoVBackgroundModel,\n",
    ")\n",
    "from gammapy.estimators import TSMapEstimator, ExcessMapEstimator\n",
    "\n",
    "from regions import CircleSkyRegion, RectangleSkyRegion\n",
    "import yaml\n",
    "import sys\n",
    "\n",
    "sys.path.append(\n",
    "    \"/home/hpc/caph/mppi045h/3D_analysis/N_parameters_in_L/syserror_3d_bkgmodel/4-Fitting_nuisance_and_model_parameters\"\n",
    ")\n",
    "from MapDatasetNuisanceE import MapDatasetNuisanceE\n",
    "from  my_fit_20 import Fit\n",
    "import my_dataset_core_20_e , my_fit_20_e\n",
    "from Dataset_Creation import sys_dataset\n"
   ]
  },
  {
   "cell_type": "code",
   "execution_count": 3,
   "id": "1a24c39b",
   "metadata": {},
   "outputs": [],
   "source": [
    "from  my_fit_20_e import Registry\n",
    "registry= Registry()\n",
    "\n",
    "def covariance_ (fit_compute, datasets_compute):\n",
    "    parameters = Parameters.from_stack([datasets_compute.models.parameters, \n",
    "                                        datasets_compute.N_parameters])\n",
    "    parameters = parameters.free_parameters\n",
    "    kwargs = fit_compute.covariance_opts.copy()\n",
    "    kwargs[\"minuit\"] = fit_compute.minuit\n",
    "    backend = kwargs.pop(\"backend\", fit_compute.backend)\n",
    "    compute = registry.get(\"covariance\", backend)\n",
    "\n",
    "    with parameters.restore_status():\n",
    "        if fit_compute.backend == \"minuit\":\n",
    "            method = \"hesse\"\n",
    "        else:\n",
    "            method = \"\"\n",
    "        factor_matrix, info = compute(\n",
    "            parameters=parameters, function=datasets_compute.stat_sum, **kwargs\n",
    "        )\n",
    "        covariance = Covariance.from_factor_matrix(\n",
    "            parameters=parameters, matrix=factor_matrix\n",
    "        )\n",
    "\n",
    "        #covariance = covariance.get_subcovariance(datasets_compute.models.parameters)\n",
    "    return covariance"
   ]
  },
  {
   "cell_type": "markdown",
   "id": "23adcef0",
   "metadata": {},
   "source": [
    "## Read dataset"
   ]
  },
  {
   "cell_type": "code",
   "execution_count": 4,
   "id": "f94dc89c",
   "metadata": {},
   "outputs": [
    {
     "name": "stdout",
     "output_type": "stream",
     "text": [
      "spatial binsize =  [0.08] deg\n"
     ]
    }
   ],
   "source": [
    "source = 'Crab'\n",
    "path = '/home/vault/caph/mppi062h/repositories/HESS_3Dbkg_syserror/2-error_in_dataset'\n",
    "path_crab = '/home/hpc/caph/mppi045h/3D_analysis/N_parameters_in_L/nuisance_summary/Crab'\n",
    "\n",
    "\n",
    "dataset_load = MapDataset.read(f'{path}/{source}/stacked.fits')\n",
    "dataset_load = dataset_load.downsample(4)\n",
    "models = Models.read(f\"{path_crab}/standard_model.yml\")\n",
    "model_spectrum  = PowerLawSpectralModel(\n",
    "    index=2.3,\n",
    "    amplitude=\"1e-12 TeV-1 cm-2 s-1\",    )\n",
    "source_model = SkyModel(spatial_model = models['main source'].spatial_model ,\n",
    "                       spectral_model = model_spectrum,\n",
    "                       name = \"Source\")    \n",
    "models = Models(source_model)\n",
    "\n",
    "bkg_model = FoVBackgroundModel(dataset_name=dataset_load.name)\n",
    "bkg_model.parameters['tilt'].frozen  = False\n",
    "models.append(bkg_model)\n",
    "dataset_load.models = models\n",
    "\n",
    "dataset_asimov = dataset_load.copy()\n",
    "dataset_asimov.counts = dataset_load.npred()\n",
    "models = Models(source_model.copy(name=\"Source\"))\n",
    "bkg_model = FoVBackgroundModel(dataset_name=dataset_asimov.name)\n",
    "bkg_model.parameters['tilt'].frozen  = False\n",
    "models.append(bkg_model)\n",
    "dataset_asimov.models = models\n",
    "\n",
    "    \n",
    "binsize = dataset_load.geoms[\"geom\"].width[1] / dataset_load.geoms[\"geom\"].data_shape[1]\n",
    "print(\n",
    "    \"spatial binsize = \",\n",
    "    binsize\n",
    ")\n",
    "\n"
   ]
  },
  {
   "cell_type": "code",
   "execution_count": 5,
   "id": "007fe486",
   "metadata": {},
   "outputs": [],
   "source": [
    "factor_pos = +0.1\n",
    "sigmas = np.linspace(0,0.2,10)"
   ]
  },
  {
   "cell_type": "code",
   "execution_count": 6,
   "id": "3158a4ce",
   "metadata": {},
   "outputs": [],
   "source": [
    "datasets = []\n",
    "for sigma in sigmas:\n",
    "    sys = sys_dataset(dataset_asimov, factor_pos,False )\n",
    "    datasets.append(sys.create_dataset_N(sigma)) "
   ]
  },
  {
   "cell_type": "code",
   "execution_count": 7,
   "id": "03175daf",
   "metadata": {
    "scrolled": true
   },
   "outputs": [
    {
     "name": "stdout",
     "output_type": "stream",
     "text": [
      "CPU times: user 2 µs, sys: 2 µs, total: 4 µs\n",
      "Wall time: 6.68 µs\n"
     ]
    }
   ],
   "source": [
    "%%time\n",
    "\n",
    "fitting = False\n",
    "\n",
    "if fitting:\n",
    "    nui_err_all_N = []\n",
    "    for i, dataset in enumerate(datasets):\n",
    "        print(\"Fitting dataset number \", i, \" ... \")\n",
    "        fit_cor = Fit(store_trace=False)\n",
    "        result_cor = fit_cor.run([dataset])\n",
    "        print(result_cor)\n",
    "        covariance  = covariance_(fit_cor, dataset)\n",
    "        eff_area_error = np.sqrt(covariance.get_subcovariance([dataset.N_parameters[0]]))\n",
    "        nui_err_all_N.append(float(eff_area_error))\n",
    "        \n",
    "    nui_all_N = []\n",
    "    norm_all_N = []\n",
    "    norm_err_all_N = []\n",
    "    amplitude_all_N = []\n",
    "    amplitude_err_all_N = []\n",
    "    \n",
    "    for dataset in datasets:\n",
    "        nui_all_N.append(float(dataset.N_parameters.value[0]))\n",
    "        norm_all_N.append(float(dataset.models.parameters['norm'].value))\n",
    "        norm_err_all_N.append(float(dataset.models.parameters['norm'].error))\n",
    "        amplitude_all_N.append(float(dataset.models.parameters['amplitude'].value))\n",
    "        amplitude_err_all_N.append(float(dataset.models.parameters['amplitude'].error))\n",
    "                          \n",
    "    print(\"saving ... \")    \n",
    "    with open('data/4_nui_all_N.yaml', 'w') as file:\n",
    "        documents = yaml.dump(nui_all_N, file)\n",
    "    with open('data/4_nui_err_all_N.yaml', 'w') as file:\n",
    "        documents = yaml.dump(nui_err_all_N, file)\n",
    "    with open('data/4_norm_all_N.yaml', 'w') as file:\n",
    "        documents = yaml.dump(norm_all_N, file)\n",
    "    with open('data/4_norm_err_all_N.yaml', 'w') as file:\n",
    "        documents = yaml.dump(norm_err_all_N, file)\n",
    "    with open('data/4_amplitude_all_N.yaml', 'w') as file:\n",
    "        documents = yaml.dump(amplitude_all_N, file)\n",
    "    with open('data/4_amplitude_err_all_N.yaml', 'w') as file:\n",
    "        documents = yaml.dump(amplitude_err_all_N, file)"
   ]
  },
  {
   "cell_type": "code",
   "execution_count": 8,
   "id": "cf4f82c4",
   "metadata": {},
   "outputs": [
    {
     "name": "stdout",
     "output_type": "stream",
     "text": [
      "reading ... \n"
     ]
    }
   ],
   "source": [
    "if fitting == False:\n",
    "    print(\"reading ... \")    \n",
    "    \n",
    "    with open('data/4_nui_all_N.yaml') as file:\n",
    "        nui_all_N = yaml.load( file, Loader=yaml.FullLoader)\n",
    "    with open('data/4_nui_err_all_N.yaml') as file:\n",
    "        nui_err_all_N = yaml.load( file, Loader=yaml.FullLoader)\n",
    "    with open('data/4_norm_all_N.yaml') as file:\n",
    "        norm_all_N = yaml.load( file, Loader=yaml.FullLoader)\n",
    "    with open('data/4_norm_err_all_N.yaml') as file:\n",
    "        norm_err_all_N = yaml.load( file, Loader=yaml.FullLoader)\n",
    "    with open('data/4_amplitude_all_N.yaml') as file:\n",
    "        amplitude_all_N = yaml.load( file, Loader=yaml.FullLoader)\n",
    "    with open('data/4_amplitude_err_all_N.yaml') as file:\n",
    "        amplitude_err_all_N = yaml.load( file, Loader=yaml.FullLoader)"
   ]
  },
  {
   "cell_type": "markdown",
   "id": "d7798e9d",
   "metadata": {},
   "source": [
    "## Check the order of parameters and the covariance matrix!! "
   ]
  },
  {
   "cell_type": "code",
   "execution_count": null,
   "id": "36333259",
   "metadata": {},
   "outputs": [],
   "source": []
  },
  {
   "cell_type": "code",
   "execution_count": 28,
   "id": "bbc1f5e4",
   "metadata": {},
   "outputs": [
    {
     "data": {
      "image/png": "[encoded data removed]",
      "text/plain": [
       "<Figure size 640x480 with 3 Axes>"
      ]
     },
     "metadata": {},
     "output_type": "display_data"
    }
   ],
   "source": [
    "fig,ax = plt.subplots(3,1)\n",
    "\n",
    "ax[0].errorbar(x = sigmas, y = nui_all_N, yerr= nui_err_all_N,  fmt='x', )\n",
    "ax[0].set_xlabel(\"Penalty Sigma\")\n",
    "ax[0].set_ylabel(\"Best-Fit Nuisance Parameter\")\n",
    "ax[0].hlines(factor_pos, np.min(sigmas),np.max(sigmas), label = \"Input\", color = 'grey')\n",
    "ax[0].vlines(factor_pos, ax[0].get_ylim()[0], ax[0].get_ylim()[1], label = \"Input\", color = 'red')\n",
    "\n",
    "ax[1].errorbar(x = sigmas, y = norm_all_N, yerr= norm_err_all_N,  fmt='x', )\n",
    "ax[1].set_xlabel(\"Penalty Sigma\")\n",
    "ax[1].set_ylabel(\"Best-Fit Norm\")\n",
    "ax[1].hlines(1, np.min(sigmas),np.max(sigmas), label = \"Input\", color = 'grey')\n",
    "ax[1].vlines(factor_pos, ax[1].get_ylim()[0], ax[1].get_ylim()[1], label = \"Input\", color = 'red')\n",
    "\n",
    "ax[2].errorbar(x = sigmas, y = np.array(amplitude_all_N) /1e-12, yerr= np.array(amplitude_err_all_N) /1e-12,\n",
    "               fmt='x', )\n",
    "ax[2].set_xlabel(\"Penalty Sigma\")\n",
    "ax[2].set_ylabel(\"Best-Fit Amplitude\")\n",
    "ax[2].hlines(1, np.min(sigmas),np.max(sigmas), label = \"Input\", color = 'grey')\n",
    "ax[2].vlines(factor_pos, ax[2].get_ylim()[0], ax[2].get_ylim()[1], label = \"Input\", color = 'red')\n",
    "\n",
    "for axx in ax:\n",
    "    axx.legend()\n",
    "plt.tight_layout()\n",
    "fig.savefig(\"plots/4_nui_vs_sigma.pdf\")"
   ]
  },
  {
   "cell_type": "code",
   "execution_count": 36,
   "id": "3c83a0fb",
   "metadata": {},
   "outputs": [
    {
     "name": "stdout",
     "output_type": "stream",
     "text": [
      "err_stat 0.024828551333102192\n",
      "err_sys 0.3942529991054968\n",
      "err 0.10148121795202052\n"
     ]
    }
   ],
   "source": [
    "err_stat = norm_err_all_N[0]\n",
    "err_sys = norm_err_all_N[4]\n",
    "sigmas[4]\n",
    "\n",
    "print('err_stat' , err_stat)\n",
    "print('err_sys' , err_sys)\n",
    "print('err' , np.sqrt(err_stat **2 + (norm_all_N[4] * sigmas[4] )**2))"
   ]
  },
  {
   "cell_type": "code",
   "execution_count": null,
   "id": "66854f14",
   "metadata": {},
   "outputs": [],
   "source": []
  }
 ],
 "metadata": {
  "kernelspec": {
   "display_name": "Python 3 (ipykernel)",
   "language": "python",
   "name": "python3"
  },
  "language_info": {
   "codemirror_mode": {
    "name": "ipython",
    "version": 3
   },
   "file_extension": ".py",
   "mimetype": "text/x-python",
   "name": "python",
   "nbconvert_exporter": "python",
   "pygments_lexer": "ipython3",
   "version": "3.9.13"
  },
  "varInspector": {
   "cols": {
    "lenName": 16,
    "lenType": 16,
    "lenVar": 40
   },
   "kernels_config": {
    "python": {
     "delete_cmd_postfix": "",
     "delete_cmd_prefix": "del ",
     "library": "var_list.py",
     "varRefreshCmd": "print(var_dic_list())"
    },
    "r": {
     "delete_cmd_postfix": ") ",
     "delete_cmd_prefix": "rm(",
     "library": "var_list.r",
     "varRefreshCmd": "cat(var_dic_list()) "
    }
   },
   "types_to_exclude": [
    "module",
    "function",
    "builtin_function_or_method",
    "instance",
    "_Feature"
   ],
   "window_display": false
  }
 },
 "nbformat": 4,
 "nbformat_minor": 5
}
