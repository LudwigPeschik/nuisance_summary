{
 "cells": [
  {
   "cell_type": "code",
   "execution_count": 1,
   "id": "c102068e",
   "metadata": {},
   "outputs": [
    {
     "name": "stdout",
     "output_type": "stream",
     "text": [
      "loaded gammapy version: 1.1.dev320+g92a6eb9f4 \n",
      "Supposed to be 1.0 (21-12-2022)\n"
     ]
    }
   ],
   "source": [
    "import gammapy \n",
    "print(f'loaded gammapy version: {gammapy.__version__} ' )\n",
    "print(f'Supposed to be 1.0 (21-12-2022)' )"
   ]
  },
  {
   "cell_type": "code",
   "execution_count": 2,
   "id": "e0c4dcf1",
   "metadata": {
    "execution": {
     "iopub.execute_input": "2022-03-17T11:24:36.091662Z",
     "iopub.status.busy": "2022-03-17T11:24:36.091167Z",
     "iopub.status.idle": "2022-03-17T11:25:00.872876Z",
     "shell.execute_reply": "2022-03-17T11:25:00.871690Z"
    }
   },
   "outputs": [],
   "source": [
    "#get_ipython().system('jupyter nbconvert --to script 1-Nui_Par_Fitting.ipynb')\n",
    "import pyximport\n",
    "\n",
    "pyximport.install()\n",
    "import matplotlib.pyplot as plt\n",
    "import numpy as np\n",
    "import astropy.units as u\n",
    "import gammapy\n",
    "\n",
    "# from gammapy.datasets import MapDataset\n",
    "from gammapy.maps import Map\n",
    "from astropy.coordinates import SkyCoord, Angle\n",
    "from gammapy.modeling import Fit, Parameter, Parameters, Covariance\n",
    "from gammapy.datasets import MapDataset , Datasets#, MapDatasetNuisance\n",
    "from gammapy.modeling.models import (\n",
    "    PowerLawSpectralModel,\n",
    "    create_crab_spectral_model,\n",
    "    SkyModel,\n",
    "    PointSpatialModel,\n",
    "    ShellSpatialModel,\n",
    "    GeneralizedGaussianSpatialModel,\n",
    "    TemplateSpatialModel,\n",
    "    LogParabolaSpectralModel,\n",
    "    GaussianSpatialModel,\n",
    "    DiskSpatialModel,\n",
    "    PowerLawNormSpectralModel,\n",
    "    Models,\n",
    "    SpatialModel,\n",
    "    FoVBackgroundModel,\n",
    ")\n",
    "from gammapy.estimators import TSMapEstimator, ExcessMapEstimator\n",
    "from gammapy.estimators import FluxPoints\n",
    "from gammapy.estimators import  FluxPointsEstimator\n",
    "\n",
    "from regions import CircleSkyRegion, RectangleSkyRegion\n",
    "import yaml\n",
    "import sys\n",
    "\n",
    "#sys.path.append(\n",
    "#    \"/home/hpc/caph/mppi045h/3D_analysis/N_parameters_in_L/syserror_3d_bkgmodel/4-Fitting_nuisance_and_model_parameters\"\n",
    "#)\n",
    "#from my_dataset_maps_20 import MapDatasetNuisance\n",
    "#from MapDatasetNuisanceE import MapDatasetNuisanceE\n",
    "#from  my_fit_20 import Fit\n",
    "from Dataset_Creation import sys_dataset"
   ]
  },
  {
   "cell_type": "code",
   "execution_count": null,
   "id": "d7f3e0ff",
   "metadata": {},
   "outputs": [],
   "source": []
  },
  {
   "cell_type": "markdown",
   "id": "23adcef0",
   "metadata": {},
   "source": [
    "## Read dataset"
   ]
  },
  {
   "cell_type": "code",
   "execution_count": 3,
   "id": "f94dc89c",
   "metadata": {},
   "outputs": [
    {
     "name": "stdout",
     "output_type": "stream",
     "text": [
      "spatial binsize =  [0.08] deg\n",
      "MapDataset\n",
      "----------\n",
      "\n",
      "  Name                            : mFeqBDP9 \n",
      "\n",
      "  Total counts                    : 388209 \n",
      "  Total background counts         : 360331.31\n",
      "  Total excess counts             : 27877.69\n",
      "\n",
      "  Predicted counts                : 361333.07\n",
      "  Predicted background counts     : 360331.34\n",
      "  Predicted excess counts         : 1001.73\n",
      "\n",
      "  Exposure min                    : 2.07e-01 m2 s\n",
      "  Exposure max                    : 2.41e+11 m2 s\n",
      "\n",
      "  Number of total bins            : 540000 \n",
      "  Number of fit bins              : 180191 \n",
      "\n",
      "  Fit statistic type              : cash\n",
      "  Fit statistic value (-2 log(L)) : -924522.99\n",
      "\n",
      "  Number of models                : 2 \n",
      "  Number of parameters            : 11\n",
      "  Number of free parameters       : 7\n",
      "\n",
      "  Component 0: SkyModel\n",
      "  \n",
      "    Name                      : Source\n",
      "    Datasets names            : None\n",
      "    Spectral model type       : PowerLawSpectralModel\n",
      "    Spatial  model type       : GaussianSpatialModel\n",
      "    Temporal model type       : \n",
      "    Parameters:\n",
      "      index                         :      2.300   +/-    0.00             \n",
      "      amplitude                     :   1.00e-12   +/- 0.0e+00 1 / (cm2 s TeV)\n",
      "      reference             (frozen):      1.000       TeV         \n",
      "      lon_0                         :     83.631   +/-    0.00 deg         \n",
      "      lat_0                         :     22.018   +/-    0.00 deg         \n",
      "      sigma                         :      0.019   +/-    0.00 deg         \n",
      "      e                     (frozen):      0.000                   \n",
      "      phi                   (frozen):      0.000       deg         \n",
      "  \n",
      "  Component 1: FoVBackgroundModel\n",
      "  \n",
      "    Name                      : mFeqBDP9-bkg\n",
      "    Datasets names            : ['mFeqBDP9']\n",
      "    Spectral model type       : PowerLawNormSpectralModel\n",
      "    Parameters:\n",
      "      norm                          :      1.000   +/-    0.00             \n",
      "      tilt                          :      0.000   +/-    0.00             \n",
      "      reference             (frozen):      1.000       TeV         \n",
      "  \n",
      "  \n"
     ]
    },
    {
     "data": {
      "image/png": "[encoded data removed]",
      "text/plain": [
       "<Figure size 640x480 with 2 Axes>"
      ]
     },
     "metadata": {},
     "output_type": "display_data"
    }
   ],
   "source": [
    "source = 'Crab'\n",
    "path = '/home/vault/caph/mppi062h/repositories/HESS_3Dbkg_syserror/2-error_in_dataset'\n",
    "path_crab = '/home/hpc/caph/mppi045h/3D_analysis/N_parameters_in_L/nuisance_summary/Crab'\n",
    "\n",
    "\n",
    "dataset_standard = MapDataset.read(f'{path}/{source}/stacked.fits')\n",
    "dataset_standard = dataset_standard.downsample(4)\n",
    "models = Models.read(f\"{path_crab}/standard_model.yml\")\n",
    "model_spectrum  = PowerLawSpectralModel(\n",
    "    index=2.3,\n",
    "    amplitude=\"1e-12 TeV-1 cm-2 s-1\",    )\n",
    "source_model = SkyModel(spatial_model = models['main source'].spatial_model ,\n",
    "                       spectral_model = model_spectrum,\n",
    "                       name = \"Source\")    \n",
    "models = Models(source_model)\n",
    "\n",
    "bkg_model = FoVBackgroundModel(dataset_name=dataset_standard.name)\n",
    "bkg_model.parameters['tilt'].frozen  = False\n",
    "models.append(bkg_model)\n",
    "dataset_standard.models = models\n",
    "\n",
    "dataset_asimov = dataset_standard.copy()\n",
    "dataset_asimov.counts = dataset_standard.npred()\n",
    "models = Models(source_model.copy())\n",
    "bkg_model = FoVBackgroundModel(dataset_name=dataset_asimov.name)\n",
    "bkg_model.parameters['tilt'].frozen  = False\n",
    "models.append(bkg_model)\n",
    "dataset_asimov.models = models\n",
    "\n",
    "    \n",
    "dataset_standard.counts.sum_over_axes().plot(add_cbar=1)\n",
    "binsize = dataset_standard.geoms[\"geom\"].width[1] / dataset_standard.geoms[\"geom\"].data_shape[1]\n",
    "print(\n",
    "    \"spatial binsize = \",\n",
    "    binsize\n",
    ")\n",
    "\n",
    "print(dataset_standard)"
   ]
  },
  {
   "cell_type": "markdown",
   "id": "256ed44a",
   "metadata": {},
   "source": [
    "## Varying the Exposure"
   ]
  },
  {
   "cell_type": "code",
   "execution_count": 4,
   "id": "260723d7",
   "metadata": {},
   "outputs": [],
   "source": [
    "savefig = False\n",
    "factor = +0.\n",
    "sigma = 0.1"
   ]
  },
  {
   "cell_type": "code",
   "execution_count": 5,
   "id": "5e4d5630",
   "metadata": {},
   "outputs": [
    {
     "name": "stdout",
     "output_type": "stream",
     "text": [
      "200\n",
      "200 200\n"
     ]
    }
   ],
   "source": [
    "infos = np.loadtxt(\"data/6a_P_draw_info.txt\")\n",
    "pars = np.loadtxt(\"data/6a_P_draw_par.txt\")\n",
    "flux = np.loadtxt(\"data/6a_P_draw_flux.txt\")\n",
    "flux2e = np.loadtxt(\"data/6a_P_draw_flux2e.txt\")\n",
    "\n",
    "\n",
    "lem = len(infos)\n",
    "N_max = 1000\n",
    "N = np.min([lem, N_max])\n",
    "\n",
    "print(N)\n",
    "\n",
    "factor_rnds = infos[:N_max,0]\n",
    "stat_sums = infos[:N_max,1]\n",
    "\n",
    "\n",
    "#amplitude', 'index', 'norm', 'tilt\n",
    "amplitudes = pars[:N_max,0:2] \n",
    "indices = pars[:N_max,2:4] \n",
    "norms = pars[:N_max,4:6]\n",
    "tilt = pars[:N_max,6:8]\n",
    "\n",
    "\n",
    "fluxpoints = []\n",
    "for f in factor_rnds:\n",
    "    try:\n",
    "        ff = FluxPoints.read(f'data/fluxpoints/6_fluxpoints_{f:.6}.fits') \n",
    "    except:\n",
    "        pass\n",
    "    fluxpoints.append(ff)\n",
    "print(len(fluxpoints), len(factor_rnds))    \n"
   ]
  },
  {
   "cell_type": "code",
   "execution_count": 6,
   "id": "bb7b400d",
   "metadata": {},
   "outputs": [
    {
     "name": "stdout",
     "output_type": "stream",
     "text": [
      "4\n",
      "4\n"
     ]
    }
   ],
   "source": [
    "sys_d_cor = sys_dataset(dataset_asimov, factor, False)\n",
    "dataset_asimov = sys_d_cor.create_dataset()\n",
    "dataset_asimov_N = sys_d_cor.create_dataset_N()\n",
    "\n",
    "penalising_covmatrix = [[1/sigma**2]]\n",
    "penalising_invcovmatrix =  penalising_covmatrix\n",
    "dataset_asimov_N.penalising_invcovmatrix = penalising_invcovmatrix\n",
    "\n",
    "\n",
    "fit_cor = Fit(store_trace=False)\n",
    "\n",
    "result_cor = fit_cor.run([dataset_asimov])    \n",
    "result_cor = fit_cor.run([dataset_asimov_N]) \n",
    "dataset_asimov_N.models[0].parameters['amplitude_nuisance'].frozen = True"
   ]
  },
  {
   "cell_type": "code",
   "execution_count": 7,
   "id": "7a0d18e1",
   "metadata": {},
   "outputs": [],
   "source": [
    "mask = dataset_asimov.mask.data[:,60,60]\n",
    "ebins = dataset_asimov.counts.geom.axes[0].center[mask]\n",
    "energy_bounds = (ebins[0] , ebins[-1] ) *u.TeV"
   ]
  },
  {
   "cell_type": "code",
   "execution_count": 8,
   "id": "8d57ee5c",
   "metadata": {},
   "outputs": [
    {
     "name": "stdout",
     "output_type": "stream",
     "text": [
      "index\n",
      "amplitude\n",
      "index\n",
      "amplitude\n",
      "index\n",
      "amplitude\n",
      "index\n",
      "amplitude\n"
     ]
    },
    {
     "data": {
      "image/png": "[encoded data removed]",
      "text/plain": [
       "<Figure size 500x300 with 1 Axes>"
      ]
     },
     "metadata": {},
     "output_type": "display_data"
    }
   ],
   "source": [
    "true_energy = dataset_asimov.exposure.geom.axes[0].center.value\n",
    "energy_bounds = (ebins[0] , ebins[-1] ) *u.TeV\n",
    "fig, axs = plt.subplots(1,1, figsize = (5,3))\n",
    "dataset_asimov_N.models[0].spectral_model.plot(energy_bounds,  energy_power = 2, ax = axs,\n",
    "                                label = \"\", color = \"green\")    \n",
    "\n",
    "dataset_asimov_N.models[0].spectral_model.plot_error(energy_bounds,  energy_power = 2, ax = axs,\n",
    "                                label = \"$1\\sigma$ Standard\", facecolor = \"green\", alpha = 0.5)    \n",
    "    \n",
    "dataset_asimov.models[0].spectral_model.plot(energy_bounds,  energy_power = 2, ax = axs,\n",
    "                                label = \"\", color = \"red\")    \n",
    "\n",
    "dataset_asimov.models[0].spectral_model.plot_error(energy_bounds,  energy_power = 2, ax = axs,\n",
    "                                label = \"$1\\sigma$ Nuisance\", facecolor = \"red\", alpha = 0.6)\n",
    "\n",
    "dataset_standard.models[0].spectral_model.plot(energy_bounds, linestyle=':', energy_power = 2, ax = axs,\n",
    "                                label = \"Input\", color = \"black\", )\n",
    "\n",
    "axs.set_xlabel('')\n",
    "axs.legend()\n",
    "axs.set_title(f\"N = {N}\")\n",
    "plt.tight_layout()\n"
   ]
  },
  {
   "cell_type": "code",
   "execution_count": 9,
   "id": "994044fe",
   "metadata": {},
   "outputs": [
    {
     "data": {
      "image/png": "[encoded data removed]",
      "text/plain": [
       "<Figure size 400x233.333 with 1 Axes>"
      ]
     },
     "metadata": {},
     "output_type": "display_data"
    }
   ],
   "source": [
    "fig, axs = plt.subplots(1,1, figsize = (4,7/3))\n",
    "\n",
    "count, bins, ignored = plt.hist(factor_rnds, 30, density=True, color = 'steelblue')\n",
    "sigma = 0.1\n",
    "mu = 0\n",
    "plt.plot(bins, 1/(sigma * np.sqrt(2 * np.pi)) *\n",
    "               np.exp( - (bins - mu)**2 / (2 * sigma**2) ),\n",
    "         linewidth=2, color='r', label = f'$\\mu = {mu}; \\sigma = {sigma}$')\n",
    "\n",
    "plt.xlabel(\"Systematic [%]\")\n",
    "plt.title(f\"N = {N}\")\n",
    "plt.legend()\n",
    "\n",
    "x = axs.get_xlim()\n",
    "deltax = np.max([ mu - x[0] , x[1] - mu ])\n",
    "axs.set_xlim(mu -deltax, \n",
    "                mu + deltax)\n",
    "\n",
    "if savefig:\n",
    "    fig.savefig(f\"plots/6_rnd_sys_{factor}_{N}.pdf\")   \n"
   ]
  },
  {
   "cell_type": "markdown",
   "id": "f816b8b2",
   "metadata": {},
   "source": [
    "## Compute Asimov Fluxpoints\n",
    "\n",
    "does not work because of the is_norm in the model"
   ]
  },
  {
   "cell_type": "code",
   "execution_count": 10,
   "id": "4bf940ac",
   "metadata": {
    "scrolled": true
   },
   "outputs": [
    {
     "name": "stdout",
     "output_type": "stream",
     "text": [
      "len pen pars: 0\n",
      "len free pars: 1\n",
      "flux: len pen par: 0\n",
      "len pen pars: 0\n",
      "len free pars: 1\n",
      "flux: len pen par: 0\n",
      "len pen pars: 0\n",
      "len free pars: 1\n",
      "flux: len pen par: 0\n",
      "len pen pars: 0\n",
      "len free pars: 1\n",
      "flux: len pen par: 0\n",
      "len pen pars: 0\n",
      "len free pars: 1\n",
      "flux: len pen par: 0\n",
      "len pen pars: 0\n",
      "len free pars: 1\n",
      "flux: len pen par: 0\n",
      "len pen pars: 0\n",
      "len free pars: 1\n",
      "flux: len pen par: 0\n",
      "len pen pars: 0\n",
      "len free pars: 1\n",
      "flux: len pen par: 0\n",
      "len pen pars: 0\n",
      "len free pars: 1\n",
      "flux: len pen par: 0\n",
      "len pen pars: 0\n",
      "len free pars: 1\n",
      "flux: len pen par: 0\n",
      "len pen pars: 0\n",
      "len free pars: 1\n",
      "flux: len pen par: 0\n",
      "len pen pars: 0\n",
      "len free pars: 1\n",
      "flux: len pen par: 0\n",
      "len pen pars: 0\n",
      "len free pars: 1\n",
      "flux: len pen par: 0\n",
      "len pen pars: 0\n",
      "len free pars: 1\n",
      "flux: len pen par: 0\n",
      "len pen pars: 0\n",
      "len free pars: 1\n",
      "flux: len pen par: 0\n",
      "len pen pars: 0\n",
      "len free pars: 1\n",
      "flux: len pen par: 0\n",
      "len pen pars: 0\n",
      "len free pars: 1\n",
      "flux: len pen par: 0\n",
      "len pen pars: 0\n",
      "len free pars: 1\n",
      "flux: len pen par: 0\n",
      "len pen pars: 0\n",
      "len free pars: 1\n",
      "flux: len pen par: 0\n",
      "len pen pars: 0\n",
      "len free pars: 1\n",
      "flux: len pen par: 0\n",
      "len pen pars: 0\n",
      "len free pars: 1\n",
      "flux: len pen par: 0\n",
      "len pen pars: 0\n",
      "len free pars: 1\n",
      "flux: len pen par: 0\n",
      "len pen pars: 0\n",
      "len free pars: 1\n",
      "flux: len pen par: 0\n",
      "len pen pars: 0\n",
      "len free pars: 1\n",
      "flux: len pen par: 0\n"
     ]
    }
   ],
   "source": [
    "\n",
    "energy_edges = dataset_asimov.geoms['geom'].axes[0].edges\n",
    "esti  = FluxPointsEstimator(energy_edges= energy_edges,\n",
    "                           reoptimize = False)\n",
    "fluxpoints_asimov = esti.run([dataset_asimov])\n"
   ]
  },
  {
   "cell_type": "code",
   "execution_count": 14,
   "id": "f9a1ce49",
   "metadata": {},
   "outputs": [
    {
     "ename": "ValueError",
     "evalue": "'Source' is not in list",
     "output_type": "error",
     "traceback": [
      "\u001b[0;31m---------------------------------------------------------------------------\u001b[0m",
      "\u001b[0;31mValueError\u001b[0m                                Traceback (most recent call last)",
      "Cell \u001b[0;32mIn[14], line 2\u001b[0m\n\u001b[1;32m      1\u001b[0m dataset_asimov_N_helper \u001b[38;5;241m=\u001b[39m dataset_asimov_N\u001b[38;5;241m.\u001b[39mcopy()\n\u001b[0;32m----> 2\u001b[0m second_model \u001b[38;5;241m=\u001b[39m \u001b[43mdataset_asimov_N\u001b[49m\u001b[38;5;241;43m.\u001b[39;49m\u001b[43mmodels\u001b[49m\u001b[43m[\u001b[49m\u001b[38;5;124;43m'\u001b[39;49m\u001b[38;5;124;43mSource\u001b[39;49m\u001b[38;5;124;43m'\u001b[39;49m\u001b[43m]\u001b[49m\u001b[38;5;241m.\u001b[39mcopy(name\u001b[38;5;241m=\u001b[39m \u001b[38;5;124m\"\u001b[39m\u001b[38;5;124mHelperModel\u001b[39m\u001b[38;5;124m\"\u001b[39m)\n\u001b[1;32m      3\u001b[0m second_model\u001b[38;5;241m.\u001b[39mparameters[\u001b[38;5;124m'\u001b[39m\u001b[38;5;124mamplitude\u001b[39m\u001b[38;5;124m'\u001b[39m]\u001b[38;5;241m.\u001b[39mvalue \u001b[38;5;241m=\u001b[39m \u001b[38;5;241m1e-12\u001b[39m\n\u001b[1;32m      5\u001b[0m second_model\u001b[38;5;241m.\u001b[39mparameters\u001b[38;5;241m.\u001b[39mfreeze_all()\n",
      "File \u001b[0;32m~/gammapy/gammapy/modeling/models/core.py:617\u001b[0m, in \u001b[0;36mDatasetModels.__getitem__\u001b[0;34m(self, key)\u001b[0m\n\u001b[1;32m    615\u001b[0m     \u001b[38;5;28;01mreturn\u001b[39;00m \u001b[38;5;28mself\u001b[39m\u001b[38;5;241m.\u001b[39m\u001b[38;5;18m__class__\u001b[39m(\u001b[38;5;28mlist\u001b[39m(np\u001b[38;5;241m.\u001b[39marray(\u001b[38;5;28mself\u001b[39m\u001b[38;5;241m.\u001b[39m_models)[key]))\n\u001b[1;32m    616\u001b[0m \u001b[38;5;28;01melse\u001b[39;00m:\n\u001b[0;32m--> 617\u001b[0m     \u001b[38;5;28;01mreturn\u001b[39;00m \u001b[38;5;28mself\u001b[39m\u001b[38;5;241m.\u001b[39m_models[\u001b[38;5;28;43mself\u001b[39;49m\u001b[38;5;241;43m.\u001b[39;49m\u001b[43mindex\u001b[49m\u001b[43m(\u001b[49m\u001b[43mkey\u001b[49m\u001b[43m)\u001b[49m]\n",
      "File \u001b[0;32m~/gammapy/gammapy/modeling/models/core.py:623\u001b[0m, in \u001b[0;36mDatasetModels.index\u001b[0;34m(self, key)\u001b[0m\n\u001b[1;32m    621\u001b[0m     \u001b[38;5;28;01mreturn\u001b[39;00m key\n\u001b[1;32m    622\u001b[0m \u001b[38;5;28;01melif\u001b[39;00m \u001b[38;5;28misinstance\u001b[39m(key, \u001b[38;5;28mstr\u001b[39m):\n\u001b[0;32m--> 623\u001b[0m     \u001b[38;5;28;01mreturn\u001b[39;00m \u001b[38;5;28;43mself\u001b[39;49m\u001b[38;5;241;43m.\u001b[39;49m\u001b[43mnames\u001b[49m\u001b[38;5;241;43m.\u001b[39;49m\u001b[43mindex\u001b[49m\u001b[43m(\u001b[49m\u001b[43mkey\u001b[49m\u001b[43m)\u001b[49m\n\u001b[1;32m    624\u001b[0m \u001b[38;5;28;01melif\u001b[39;00m \u001b[38;5;28misinstance\u001b[39m(key, ModelBase):\n\u001b[1;32m    625\u001b[0m     \u001b[38;5;28;01mreturn\u001b[39;00m \u001b[38;5;28mself\u001b[39m\u001b[38;5;241m.\u001b[39m_models\u001b[38;5;241m.\u001b[39mindex(key)\n",
      "\u001b[0;31mValueError\u001b[0m: 'Source' is not in list"
     ]
    }
   ],
   "source": [
    "dataset_asimov_N_helper = dataset_asimov_N.copy()\n",
    "second_model = dataset_asimov_N.models['Source'].copy(name= \"HelperModel\")\n",
    "second_model.parameters['amplitude'].value = 1e-12\n",
    "\n",
    "second_model.parameters.freeze_all()\n",
    "second_model.parameters['amplitude_nuisance'].frozen = False\n",
    "\n",
    "bkg_model = FoVBackgroundModel(dataset_name=dataset_asimov_N_helper.name,\n",
    "                                      )#spectral_model = bkg_spectralmodel)\n",
    "bkg_model.parameters['tilt'].value  = dataset_asimov_N.background_model.parameters['tilt'].value\n",
    "bkg_model.parameters['norm'].value  = dataset_asimov_N.background_model.parameters['norm'].value\n",
    "bkg_model.parameters.freeze_all()\n",
    "\n",
    "models = Models(dataset_asimov_N.models.copy())\n",
    "models.append(second_model)\n",
    "models.append(bkg_model)\n",
    "\n",
    "dataset_asimov_N.models = models\n",
    "\n",
    "print(dataset_asimov_N.models)"
   ]
  },
  {
   "cell_type": "code",
   "execution_count": null,
   "id": "59ac026b",
   "metadata": {
    "scrolled": true
   },
   "outputs": [],
   "source": [
    "\n",
    "fluxpoints_asimov_N = esti.run(dataset_asimov_N)\n",
    "dataset_asimov_N.models[0].parameters['amplitude_nuisance'].frozen = True"
   ]
  },
  {
   "cell_type": "code",
   "execution_count": null,
   "id": "ea5cac53",
   "metadata": {},
   "outputs": [],
   "source": [
    "datasets = Datasets(dataset_asimov_N)\n",
    "\n",
    "energy_min = 1*u.TeV\n",
    "energy_max = 10 * u.TeV\n",
    "datasets_sliced = datasets.slice_by_energy(\n",
    "            energy_min=energy_min, energy_max=energy_max\n",
    "        )\n",
    "\n",
    "datasets_sliced.models = datasets.models.copy()\n",
    "\n",
    "print(\"len pen pars:\", len(datasets_sliced.parameters.penalised_parameters))\n"
   ]
  },
  {
   "cell_type": "code",
   "execution_count": null,
   "id": "d15c7601",
   "metadata": {},
   "outputs": [],
   "source": []
  },
  {
   "cell_type": "code",
   "execution_count": null,
   "id": "4589c579",
   "metadata": {},
   "outputs": [],
   "source": []
  },
  {
   "cell_type": "code",
   "execution_count": null,
   "id": "c38770be",
   "metadata": {},
   "outputs": [],
   "source": [
    "true_energy = dataset_asimov.exposure.geom.axes[0].center.value\n",
    "energy_bounds = (ebins[0] , ebins[-1] ) *u.TeV\n",
    "fig, axs = plt.subplots(1,1, figsize = (5,3))\n",
    "dataset_asimov_N.models[0].spectral_model.plot(energy_bounds,  energy_power = 2, ax = axs,\n",
    "                                label = \"\", color = \"green\")    \n",
    "\n",
    "dataset_asimov_N.models[0].spectral_model.plot_error(energy_bounds,  energy_power = 2, ax = axs,\n",
    "                                label = \"$1\\sigma$ Standard\", facecolor = \"green\", alpha = 0.5)    \n",
    "    \n",
    "dataset_asimov.models[0].spectral_model.plot(energy_bounds,  energy_power = 2, ax = axs,\n",
    "                                label = \"\", color = \"red\")    \n",
    "\n",
    "dataset_asimov.models[0].spectral_model.plot_error(energy_bounds,  energy_power = 2, ax = axs,\n",
    "                                label = \"$1\\sigma$ Nuisance\", facecolor = \"red\", alpha = 0.6)\n",
    "\n",
    "dataset_standard.models[0].spectral_model.plot(energy_bounds, linestyle=':', energy_power = 2, ax = axs,\n",
    "                                label = \"Input\", color = \"black\", )\n",
    "\n",
    "axs.set_xlabel('')\n",
    "axs.legend()\n",
    "axs.set_title(f\"N = {N}\")\n",
    "\n",
    "plt.tight_layout()\n"
   ]
  },
  {
   "cell_type": "code",
   "execution_count": null,
   "id": "1582f251",
   "metadata": {},
   "outputs": [],
   "source": [
    "def plot_shifted (ff, shift):\n",
    "    return ff.energy_ref* shift, ff.e2dnde.data[:,0,0],  ff.e2dnde_err.data[:,0,0], "
   ]
  },
  {
   "cell_type": "code",
   "execution_count": null,
   "id": "af5d02ab",
   "metadata": {},
   "outputs": [],
   "source": [
    "fig, axs = plt.subplots(1,1, figsize = (5,3))\n",
    "\n",
    "dataset_asimov_N.models[0].spectral_model.plot_error(energy_bounds,  energy_power = 2, ax = axs,\n",
    "                                label = \"$1\\sigma$ Standard\", facecolor = \"green\", alpha = 0.5)    \n",
    "    \n",
    "dataset_asimov.models[0].spectral_model.plot_error(energy_bounds,  energy_power = 2, ax = axs,\n",
    "                                label = \"$1\\sigma$ Nuisance\", facecolor = \"red\", alpha = 0.6)\n",
    "\n",
    "dataset_standard.models[0].spectral_model.plot(energy_bounds, linestyle=':', energy_power = 2, ax = axs,\n",
    "                                label = \"Input\", color = \"black\", )\n",
    "\n",
    "\n",
    "\n",
    "\n",
    "e_, f_, ferr_ = plot_shifted(fluxpoints_asimov, 1.1)\n",
    "axs.errorbar(e_, f_, yerr = ferr_, color = 'darkred', fmt='o')  \n",
    "\n",
    "e_, f_, ferr_ = plot_shifted(fluxpoints_asimov_N, 1.)\n",
    "axs.errorbar(e_, f_, yerr = ferr_, color = 'darkgreen', fmt='o')  \n",
    "\n",
    "\n",
    "axs.set_xlabel('')\n",
    "axs.legend()\n",
    "axs.set_title(f\"N = {N}\")\n",
    "plt.tight_layout()\n"
   ]
  },
  {
   "cell_type": "code",
   "execution_count": null,
   "id": "18a13cc1",
   "metadata": {},
   "outputs": [],
   "source": [
    "e2dnde = []\n",
    "for f in fluxpoints:\n",
    "    e2dnde.append(f.e2dnde.data[:,0,0])\n",
    "e2dnde = np.array(e2dnde)   \n",
    "\n",
    "for f in fluxpoints:\n",
    "    plt.plot(f.energy_ref* 1.1, f.e2dnde.data[:,:,0]    , color = 'grey', alpha = 0.2)\n",
    "    \n",
    "    \n",
    "plt.errorbar(f.energy_ref, e2dnde.mean(axis = 0), yerr = e2dnde.std(axis=0) , \n",
    "            )\n",
    "\n",
    "plt.loglog()"
   ]
  },
  {
   "cell_type": "code",
   "execution_count": null,
   "id": "77094a24",
   "metadata": {},
   "outputs": [],
   "source": [
    "fig, axs = plt.subplots(1,1, figsize = (7,5))\n",
    "\n",
    "dataset_asimov_N.models[0].spectral_model.plot_error(energy_bounds,  energy_power = 2, ax = axs,\n",
    "                                label = \"$1\\sigma$ Standard\", facecolor = \"green\", alpha = 0.5)    \n",
    "    \n",
    "dataset_asimov.models[0].spectral_model.plot_error(energy_bounds,  energy_power = 2, ax = axs,\n",
    "                                label = \"$1\\sigma$ Nuisance\", facecolor = \"red\", alpha = 0.6)\n",
    "\n",
    "dataset_standard.models[0].spectral_model.plot(energy_bounds, linestyle=':', energy_power = 2, ax = axs,\n",
    "                                label = \"Input\", color = \"black\", )\n",
    "\n",
    "\n",
    "e_, f_, ferr_ = plot_shifted(fluxpoints_asimov, 1.05)\n",
    "axs.errorbar(e_, f_, yerr = ferr_, color = 'darkred', fmt='x')  \n",
    "\n",
    "e_, f_, ferr_ = plot_shifted(fluxpoints_asimov_N, 1.)\n",
    "axs.errorbar(e_, f_, yerr = ferr_, color = 'darkgreen', fmt='x')  \n",
    "\n",
    "plt.errorbar(f.energy_ref* 1.1, e2dnde.mean(axis = 0), yerr = e2dnde.std(axis=0) , \n",
    "            )\n",
    "\n",
    "axs.set_xlabel('')\n",
    "axs.legend()\n",
    "axs.set_title(f\"N = {N}\")\n",
    "\n",
    "plt.tight_layout()\n"
   ]
  },
  {
   "cell_type": "code",
   "execution_count": null,
   "id": "964975d9",
   "metadata": {},
   "outputs": [],
   "source": []
  }
 ],
 "metadata": {
  "kernelspec": {
   "display_name": "Python 3 (ipykernel)",
   "language": "python",
   "name": "python3"
  },
  "language_info": {
   "codemirror_mode": {
    "name": "ipython",
    "version": 3
   },
   "file_extension": ".py",
   "mimetype": "text/x-python",
   "name": "python",
   "nbconvert_exporter": "python",
   "pygments_lexer": "ipython3",
   "version": "3.8.15"
  },
  "varInspector": {
   "cols": {
    "lenName": 16,
    "lenType": 16,
    "lenVar": 40
   },
   "kernels_config": {
    "python": {
     "delete_cmd_postfix": "",
     "delete_cmd_prefix": "del ",
     "library": "var_list.py",
     "varRefreshCmd": "print(var_dic_list())"
    },
    "r": {
     "delete_cmd_postfix": ") ",
     "delete_cmd_prefix": "rm(",
     "library": "var_list.r",
     "varRefreshCmd": "cat(var_dic_list()) "
    }
   },
   "types_to_exclude": [
    "module",
    "function",
    "builtin_function_or_method",
    "instance",
    "_Feature"
   ],
   "window_display": false
  }
 },
 "nbformat": 4,
 "nbformat_minor": 5
}
