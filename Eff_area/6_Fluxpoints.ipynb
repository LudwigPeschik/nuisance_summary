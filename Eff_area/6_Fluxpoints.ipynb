{
 "cells": [
  {
   "cell_type": "code",
   "execution_count": 1,
   "id": "c102068e",
   "metadata": {},
   "outputs": [
    {
     "name": "stdout",
     "output_type": "stream",
     "text": [
      "loaded gammapy version: 1.0 \n",
      "Supposed to be 1.0 (21-12-2022)\n"
     ]
    }
   ],
   "source": [
    "import gammapy \n",
    "print(f'loaded gammapy version: {gammapy.__version__} ' )\n",
    "print(f'Supposed to be 1.0 (21-12-2022)' )"
   ]
  },
  {
   "cell_type": "code",
   "execution_count": 2,
   "id": "e0c4dcf1",
   "metadata": {
    "execution": {
     "iopub.execute_input": "2022-03-17T11:24:36.091662Z",
     "iopub.status.busy": "2022-03-17T11:24:36.091167Z",
     "iopub.status.idle": "2022-03-17T11:25:00.872876Z",
     "shell.execute_reply": "2022-03-17T11:25:00.871690Z"
    }
   },
   "outputs": [],
   "source": [
    "#get_ipython().system('jupyter nbconvert --to script 1-Nui_Par_Fitting.ipynb')\n",
    "import pyximport\n",
    "\n",
    "pyximport.install()\n",
    "import matplotlib.pyplot as plt\n",
    "import numpy as np\n",
    "import astropy.units as u\n",
    "import gammapy\n",
    "\n",
    "# from gammapy.datasets import MapDataset\n",
    "from gammapy.maps import Map\n",
    "from astropy.coordinates import SkyCoord, Angle\n",
    "from gammapy.modeling import Fit,  Parameters, Covariance , Parameter\n",
    "from gammapy.datasets import MapDataset, Datasets#, MapDatasetNuisance\n",
    "from gammapy.modeling.models import (\n",
    "    PowerLawSpectralModel,\n",
    "    create_crab_spectral_model,\n",
    "    SkyModel,\n",
    "    PointSpatialModel,\n",
    "    ShellSpatialModel,\n",
    "    GeneralizedGaussianSpatialModel,\n",
    "    TemplateSpatialModel,\n",
    "    LogParabolaSpectralModel,\n",
    "    GaussianSpatialModel,\n",
    "    DiskSpatialModel,\n",
    "    PowerLawNormSpectralModel,\n",
    "    Models,\n",
    "    SpatialModel,\n",
    "    FoVBackgroundModel,\n",
    "    ExpCutoffPowerLawSpectralModel\n",
    ")\n",
    "from gammapy.estimators import TSMapEstimator, ExcessMapEstimator\n",
    "from gammapy.estimators import FluxPoints, FluxPointsEstimator\n",
    "\n",
    "from regions import CircleSkyRegion, RectangleSkyRegion\n",
    "import yaml\n",
    "import sys\n",
    "\n",
    "from Dataset_Creation import sys_dataset"
   ]
  },
  {
   "cell_type": "code",
   "execution_count": null,
   "id": "d7f3e0ff",
   "metadata": {},
   "outputs": [],
   "source": []
  },
  {
   "cell_type": "markdown",
   "id": "23adcef0",
   "metadata": {},
   "source": [
    "## Read dataset"
   ]
  },
  {
   "cell_type": "code",
   "execution_count": 3,
   "id": "f94dc89c",
   "metadata": {},
   "outputs": [
    {
     "name": "stdout",
     "output_type": "stream",
     "text": [
      "spatial binsize =  [0.08] deg\n",
      "MapDataset\n",
      "----------\n",
      "\n",
      "  Name                            : 1MUXqVCD \n",
      "\n",
      "  Total counts                    : 361088 \n",
      "  Total background counts         : 360331.31\n",
      "  Total excess counts             : 756.96\n",
      "\n",
      "  Predicted counts                : 361088.27\n",
      "  Predicted background counts     : 360331.34\n",
      "  Predicted excess counts         : 756.93\n",
      "\n",
      "  Exposure min                    : 2.07e-01 m2 s\n",
      "  Exposure max                    : 2.41e+11 m2 s\n",
      "\n",
      "  Number of total bins            : 540000 \n",
      "  Number of fit bins              : 180191 \n",
      "\n",
      "  Fit statistic type              : cash\n",
      "  Fit statistic value (-2 log(L)) : -752490.77\n",
      "\n",
      "  Number of models                : 2 \n",
      "  Number of parameters            : 13\n",
      "  Number of free parameters       : 8\n",
      "\n",
      "  Component 0: SkyModel\n",
      "  \n",
      "    Name                      : Source\n",
      "    Datasets names            : None\n",
      "    Spectral model type       : ExpCutoffPowerLawSpectralModel\n",
      "    Spatial  model type       : GaussianSpatialModel\n",
      "    Temporal model type       : \n",
      "    Parameters:\n",
      "      index                         :      2.300   +/-    0.00             \n",
      "      amplitude                     :   1.00e-12   +/- 0.0e+00 1 / (cm2 s TeV)\n",
      "      reference             (frozen):      1.000       TeV         \n",
      "      lambda_                       :      0.100   +/-    0.00 1 / TeV     \n",
      "      alpha                 (frozen):      1.000                   \n",
      "      lon_0                         :     83.631   +/-    0.00 deg         \n",
      "      lat_0                         :     22.018   +/-    0.00 deg         \n",
      "      sigma                         :      0.020   +/-    0.00 deg         \n",
      "      e                     (frozen):      0.000                   \n",
      "      phi                   (frozen):      0.000       deg         \n",
      "  \n",
      "  Component 1: FoVBackgroundModel\n",
      "  \n",
      "    Name                      : 1MUXqVCD-bkg\n",
      "    Datasets names            : ['1MUXqVCD']\n",
      "    Spectral model type       : PowerLawNormSpectralModel\n",
      "    Parameters:\n",
      "      norm                          :      1.000   +/-    0.00             \n",
      "      tilt                          :      0.000   +/-    0.00             \n",
      "      reference             (frozen):      1.000       TeV         \n",
      "  \n",
      "  \n"
     ]
    },
    {
     "data": {
      "image/png": "[encoded data removed]",
      "text/plain": [
       "<Figure size 640x480 with 2 Axes>"
      ]
     },
     "metadata": {},
     "output_type": "display_data"
    }
   ],
   "source": [
    "dataset_asimov = MapDataset.read(\"c:/users/yt02izug/downloads/dataset_asimov/dataset_asimov.fits\")\n",
    "# Create the spatial model \n",
    "model_spatial = GaussianSpatialModel(\n",
    "    lon_0=\"83.631 deg\",\n",
    "    lat_0=\"22.018 deg\",\n",
    "    sigma=\"0.02 deg\",\n",
    "    )\n",
    "\n",
    "# Create the spectral model \n",
    "model_spectrum  = ExpCutoffPowerLawSpectralModel(\n",
    "    index=2.3,\n",
    "    amplitude=\"1e-12 TeV-1 cm-2 s-1\",\n",
    "    lambda_=\"0.1 TeV-1\")\n",
    "\n",
    "# combine the spectral and the spatial model\n",
    "source_model = SkyModel(spatial_model = model_spatial ,\n",
    "                       spectral_model = model_spectrum,\n",
    "                       name = \"Source\")    \n",
    "models = Models(source_model)\n",
    "\n",
    "# Create the model for the Background\n",
    "bkg_model = FoVBackgroundModel(dataset_name=dataset_asimov.name)\n",
    "bkg_model.parameters['tilt'].frozen  = False\n",
    "models.append(bkg_model)\n",
    "\n",
    "# set the models in the dataset\n",
    "dataset_asimov.models = models\n",
    "# set counts\n",
    "dataset_asimov.counts = dataset_asimov.npred()\n",
    "    \n",
    "dataset_asimov.counts.sum_over_axes().plot(add_cbar=1)\n",
    "binsize = dataset_asimov.geoms[\"geom\"].width[1] / dataset_asimov.geoms[\"geom\"].data_shape[1]\n",
    "print(\n",
    "    \"spatial binsize = \",\n",
    "    binsize\n",
    ")\n",
    "\n",
    "print(dataset_asimov)"
   ]
  },
  {
   "cell_type": "markdown",
   "id": "256ed44a",
   "metadata": {},
   "source": [
    "## Varying the Exposure"
   ]
  },
  {
   "cell_type": "code",
   "execution_count": 4,
   "id": "260723d7",
   "metadata": {},
   "outputs": [],
   "source": [
    "savefig = True\n",
    "picformat = 'svg'\n",
    "\n",
    "shift = -0.085\n",
    "tilt = -0.015"
   ]
  },
  {
   "cell_type": "code",
   "execution_count": 5,
   "id": "bb7b400d",
   "metadata": {},
   "outputs": [],
   "source": [
    "sys_ = sys_dataset(dataset_asimov= dataset_asimov,\n",
    "                        shift = shift, \n",
    "                        tilt = tilt,\n",
    "                        rnd = False)\n",
    "dataset_asimov = sys_.create_dataset()\n",
    "dataset_asimov_N = sys_.create_dataset_N()\n",
    "\n",
    "zero = 1e-24\n",
    "## additional parameter bias and resolution (ereco) but are frozen\n",
    "penalising_invcovmatrix = np.zeros((4, 4))\n",
    "np.fill_diagonal(penalising_invcovmatrix,\n",
    "                 [1/shift**2, 1/tilt**2, 1/zero**2, 1/zero**2])\n",
    "dataset_asimov_N.penalising_invcovmatrix = penalising_invcovmatrix\n",
    "\n",
    "\n",
    "fit_cor = Fit(store_trace=False)\n",
    "\n",
    "result_cor = fit_cor.run([dataset_asimov])    \n",
    "result_cor = fit_cor.run([dataset_asimov_N]) "
   ]
  },
  {
   "cell_type": "code",
   "execution_count": 6,
   "id": "587f9852",
   "metadata": {},
   "outputs": [],
   "source": [
    "dataset_asimov_N.models[-1].parameters['norm_nuisance'].frozen = True\n",
    "dataset_asimov_N.models[-1].parameters['tilt_nuisance'].frozen = True"
   ]
  },
  {
   "cell_type": "code",
   "execution_count": 7,
   "id": "0512e23f",
   "metadata": {},
   "outputs": [],
   "source": [
    "mask = dataset_asimov.mask.data[:,60,60]\n",
    "ebins = dataset_asimov.counts.geom.axes[0].center[mask]\n",
    "energy_bounds = (ebins[0] , ebins[-1] ) *u.TeV"
   ]
  },
  {
   "cell_type": "code",
   "execution_count": 8,
   "id": "7084690e",
   "metadata": {},
   "outputs": [
    {
     "data": {
      "image/png": "[encoded data removed]",
      "text/plain": [
       "<Figure size 600x400 with 1 Axes>"
      ]
     },
     "metadata": {},
     "output_type": "display_data"
    }
   ],
   "source": [
    "true_energy = dataset_asimov.exposure.geom.axes[0].center.value\n",
    "energy_bounds = (ebins[0] , ebins[-1] ) *u.TeV\n",
    "fig, axs = plt.subplots(1,1, figsize = (6,4))\n",
    "dataset_asimov_N.models[0].spectral_model.plot(energy_bounds,  energy_power = 2, ax = axs,\n",
    "                                label = \"\", color = \"green\")    \n",
    "\n",
    "dataset_asimov_N.models[0].spectral_model.plot_error(energy_bounds,  energy_power = 2, ax = axs,\n",
    "                                label = \"$1\\sigma$ Standard\", facecolor = \"green\", alpha = 0.5)    \n",
    "    \n",
    "dataset_asimov.models[0].spectral_model.plot(energy_bounds,  energy_power = 2, ax = axs,\n",
    "                                label = \"\", color = \"red\")    \n",
    "\n",
    "dataset_asimov.models[0].spectral_model.plot_error(energy_bounds,  energy_power = 2, ax = axs,\n",
    "                                label = \"$1\\sigma$ Nuisance\", facecolor = \"red\", alpha = 0.6)\n",
    "\n",
    "dataset_asimov.models[0].spectral_model.plot(energy_bounds, linestyle=':', energy_power = 2, ax = axs,\n",
    "                                label = \"Input\", color = \"black\", )\n",
    "\n",
    "axs.set_xlabel('')\n",
    "axs.legend()\n",
    "plt.tight_layout()\n"
   ]
  },
  {
   "cell_type": "markdown",
   "id": "f816b8b2",
   "metadata": {},
   "source": [
    "## Compute Asimov Fluxpoints\n"
   ]
  },
  {
   "cell_type": "code",
   "execution_count": 9,
   "id": "4bf940ac",
   "metadata": {
    "scrolled": true
   },
   "outputs": [
    {
     "name": "stdout",
     "output_type": "stream",
     "text": [
      "norm 1.0 0\n",
      "norm 1.0 0\n",
      "norm 1.0 0\n",
      "norm 1.0 0\n",
      "norm 1.0 0\n",
      "norm 0.9976119282813286 1.1085288206208617\n",
      "norm 0.9981011473757356 0.43376003040035066\n",
      "norm 0.9984243990536895 0.22560274753747225\n",
      "norm 0.9988502708638232 0.1988997722135137\n",
      "norm 0.9993102077895838 0.2059163521723338\n",
      "norm 0.999832189789069 0.22156952440160607\n",
      "norm 1.0004392018836257 0.24851291322956137\n",
      "norm 1.0011761678121942 0.2896806965064845\n",
      "norm 1.0021101211328494 0.34206535134170035\n",
      "norm 1.0032582034544186 0.42539636325017594\n",
      "norm 1.0046464678287523 0.5594094108973229\n",
      "norm 1.006031304992858 0.7724067584468421\n",
      "norm 1.0084014266191086 1.1546828626814736\n",
      "norm 1.0102618425120107 1.8999800579249044\n",
      "norm 1.0136799087896158 3.4443933517925616\n",
      "norm 1.017245069226579 7.332532043305936\n",
      "norm 1.0211828107964454 19.06251523634289\n",
      "norm 1.0250804335665964 64.33973901463824\n",
      "norm 1.0 0\n"
     ]
    }
   ],
   "source": [
    "compute_fluxpoints = 1\n",
    "if compute_fluxpoints:\n",
    "    energy_edges = dataset_asimov.geoms['geom'].axes[0].edges\n",
    "    esti  = FluxPointsEstimator(energy_edges= energy_edges,\n",
    "                               reoptimize = False)\n",
    "    fluxpoints_asimov = esti.run([dataset_asimov])\n",
    "    fluxpoints_asimov.write(\"data/6_fluxpoints_asimov.fits\", overwrite = True)\n",
    "else:\n",
    "    fluxpoints_asimov = FluxPoints.read(\"data/6_fluxpoints_asimov.fits\")\n",
    "    "
   ]
  },
  {
   "cell_type": "code",
   "execution_count": 10,
   "id": "59ac026b",
   "metadata": {
    "scrolled": true
   },
   "outputs": [
    {
     "name": "stdout",
     "output_type": "stream",
     "text": [
      "norm 1.0 0\n",
      "norm_nuisance -0.00024120157480023293 0.0893172477560676\n",
      "tilt_nuisance 3.6603950795038095e-05 0.014977869182601262\n",
      "bias 0.0 0.0\n",
      "resolution 0.0 0.0\n"
     ]
    },
    {
     "ename": "ValueError",
     "evalue": "matmul: Input operand 1 has a mismatch in its core dimension 0, with gufunc signature (n?,k),(k,m?)->(n?,m?) (size 24 is different from 1)",
     "output_type": "error",
     "traceback": [
      "\u001b[1;31m---------------------------------------------------------------------------\u001b[0m",
      "\u001b[1;31mValueError\u001b[0m                                Traceback (most recent call last)",
      "Input \u001b[1;32mIn [10]\u001b[0m, in \u001b[0;36m<cell line: 1>\u001b[1;34m()\u001b[0m\n\u001b[0;32m      8\u001b[0m         dataset_asimov_N\u001b[38;5;241m.\u001b[39mmodels\u001b[38;5;241m.\u001b[39mparameters[\u001b[38;5;124m'\u001b[39m\u001b[38;5;124mnorm_nuisance\u001b[39m\u001b[38;5;124m'\u001b[39m]\u001b[38;5;241m.\u001b[39mfrozen \u001b[38;5;241m=\u001b[39m \u001b[38;5;28;01mFalse\u001b[39;00m\n\u001b[0;32m      9\u001b[0m         dataset_asimov_N\u001b[38;5;241m.\u001b[39mmodels\u001b[38;5;241m.\u001b[39mparameters[\u001b[38;5;124m'\u001b[39m\u001b[38;5;124mtilt_nuisance\u001b[39m\u001b[38;5;124m'\u001b[39m]\u001b[38;5;241m.\u001b[39mfrozen \u001b[38;5;241m=\u001b[39m \u001b[38;5;28;01mFalse\u001b[39;00m\n\u001b[1;32m---> 10\u001b[0m         fluxpoints_asimov_N \u001b[38;5;241m=\u001b[39m \u001b[43mesti_N\u001b[49m\u001b[38;5;241;43m.\u001b[39;49m\u001b[43mrun\u001b[49m\u001b[43m(\u001b[49m\u001b[43mdataset_asimov_N\u001b[49m\u001b[43m)\u001b[49m\n\u001b[0;32m     12\u001b[0m     fluxpoints_asimov_N\u001b[38;5;241m.\u001b[39mwrite(\u001b[38;5;124m\"\u001b[39m\u001b[38;5;124mdata/6_fluxpoints_asimov_N.fits\u001b[39m\u001b[38;5;124m\"\u001b[39m, overwrite \u001b[38;5;241m=\u001b[39m \u001b[38;5;28;01mTrue\u001b[39;00m)\n\u001b[0;32m     13\u001b[0m \u001b[38;5;28;01melse\u001b[39;00m:\n",
      "File \u001b[1;32m~\\miniconda3\\envs\\gammapy-1.0-irf\\lib\\site-packages\\gammapy\\estimators\\points\\sed.py:113\u001b[0m, in \u001b[0;36mFluxPointsEstimator.run\u001b[1;34m(self, datasets)\u001b[0m\n\u001b[0;32m    109\u001b[0m rows \u001b[38;5;241m=\u001b[39m []\n\u001b[0;32m    110\u001b[0m \u001b[38;5;28;01mfor\u001b[39;00m energy_min, energy_max \u001b[38;5;129;01min\u001b[39;00m progress_bar(\n\u001b[0;32m    111\u001b[0m     \u001b[38;5;28mzip\u001b[39m(\u001b[38;5;28mself\u001b[39m\u001b[38;5;241m.\u001b[39menergy_edges[:\u001b[38;5;241m-\u001b[39m\u001b[38;5;241m1\u001b[39m], \u001b[38;5;28mself\u001b[39m\u001b[38;5;241m.\u001b[39menergy_edges[\u001b[38;5;241m1\u001b[39m:]), desc\u001b[38;5;241m=\u001b[39m\u001b[38;5;124m\"\u001b[39m\u001b[38;5;124mEnergy bins\u001b[39m\u001b[38;5;124m\"\u001b[39m\n\u001b[0;32m    112\u001b[0m ):\n\u001b[1;32m--> 113\u001b[0m     row \u001b[38;5;241m=\u001b[39m \u001b[38;5;28;43mself\u001b[39;49m\u001b[38;5;241;43m.\u001b[39;49m\u001b[43mestimate_flux_point\u001b[49m\u001b[43m(\u001b[49m\n\u001b[0;32m    114\u001b[0m \u001b[43m        \u001b[49m\u001b[43mdatasets\u001b[49m\u001b[43m,\u001b[49m\n\u001b[0;32m    115\u001b[0m \u001b[43m        \u001b[49m\u001b[43menergy_min\u001b[49m\u001b[38;5;241;43m=\u001b[39;49m\u001b[43menergy_min\u001b[49m\u001b[43m,\u001b[49m\n\u001b[0;32m    116\u001b[0m \u001b[43m        \u001b[49m\u001b[43menergy_max\u001b[49m\u001b[38;5;241;43m=\u001b[39;49m\u001b[43menergy_max\u001b[49m\u001b[43m,\u001b[49m\n\u001b[0;32m    117\u001b[0m \u001b[43m    \u001b[49m\u001b[43m)\u001b[49m\n\u001b[0;32m    118\u001b[0m     rows\u001b[38;5;241m.\u001b[39mappend(row)\n\u001b[0;32m    120\u001b[0m meta \u001b[38;5;241m=\u001b[39m {\n\u001b[0;32m    121\u001b[0m     \u001b[38;5;124m\"\u001b[39m\u001b[38;5;124mn_sigma\u001b[39m\u001b[38;5;124m\"\u001b[39m: \u001b[38;5;28mself\u001b[39m\u001b[38;5;241m.\u001b[39mn_sigma,\n\u001b[0;32m    122\u001b[0m     \u001b[38;5;124m\"\u001b[39m\u001b[38;5;124mn_sigma_ul\u001b[39m\u001b[38;5;124m\"\u001b[39m: \u001b[38;5;28mself\u001b[39m\u001b[38;5;241m.\u001b[39mn_sigma_ul,\n\u001b[0;32m    123\u001b[0m     \u001b[38;5;124m\"\u001b[39m\u001b[38;5;124msed_type_init\u001b[39m\u001b[38;5;124m\"\u001b[39m: \u001b[38;5;124m\"\u001b[39m\u001b[38;5;124mlikelihood\u001b[39m\u001b[38;5;124m\"\u001b[39m,\n\u001b[0;32m    124\u001b[0m }\n",
      "File \u001b[1;32m~\\miniconda3\\envs\\gammapy-1.0-irf\\lib\\site-packages\\gammapy\\estimators\\points\\sed.py:160\u001b[0m, in \u001b[0;36mFluxPointsEstimator.estimate_flux_point\u001b[1;34m(self, datasets, energy_min, energy_max)\u001b[0m\n\u001b[0;32m    158\u001b[0m \u001b[38;5;28;01mif\u001b[39;00m \u001b[38;5;28mlen\u001b[39m(datasets_sliced) \u001b[38;5;241m>\u001b[39m \u001b[38;5;241m0\u001b[39m:\n\u001b[0;32m    159\u001b[0m     datasets_sliced\u001b[38;5;241m.\u001b[39mmodels \u001b[38;5;241m=\u001b[39m datasets\u001b[38;5;241m.\u001b[39mmodels\u001b[38;5;241m.\u001b[39mcopy()\n\u001b[1;32m--> 160\u001b[0m     \u001b[38;5;28;01mreturn\u001b[39;00m \u001b[38;5;28;43msuper\u001b[39;49m\u001b[43m(\u001b[49m\u001b[43m)\u001b[49m\u001b[38;5;241;43m.\u001b[39;49m\u001b[43mrun\u001b[49m\u001b[43m(\u001b[49m\u001b[43mdatasets\u001b[49m\u001b[38;5;241;43m=\u001b[39;49m\u001b[43mdatasets_sliced\u001b[49m\u001b[43m)\u001b[49m\n\u001b[0;32m    161\u001b[0m \u001b[38;5;28;01melse\u001b[39;00m:\n\u001b[0;32m    162\u001b[0m     log\u001b[38;5;241m.\u001b[39mwarning(\u001b[38;5;124mf\u001b[39m\u001b[38;5;124m\"\u001b[39m\u001b[38;5;124mNo dataset contribute in range \u001b[39m\u001b[38;5;132;01m{\u001b[39;00menergy_min\u001b[38;5;132;01m}\u001b[39;00m\u001b[38;5;124m-\u001b[39m\u001b[38;5;132;01m{\u001b[39;00menergy_max\u001b[38;5;132;01m}\u001b[39;00m\u001b[38;5;124m\"\u001b[39m)\n",
      "File \u001b[1;32m~\\miniconda3\\envs\\gammapy-1.0-irf\\lib\\site-packages\\gammapy\\estimators\\flux.py:189\u001b[0m, in \u001b[0;36mFluxEstimator.run\u001b[1;34m(self, datasets)\u001b[0m\n\u001b[0;32m    187\u001b[0m models[\u001b[38;5;28mself\u001b[39m\u001b[38;5;241m.\u001b[39msource]\u001b[38;5;241m.\u001b[39mspectral_model \u001b[38;5;241m=\u001b[39m model\n\u001b[0;32m    188\u001b[0m datasets\u001b[38;5;241m.\u001b[39mmodels \u001b[38;5;241m=\u001b[39m models\n\u001b[1;32m--> 189\u001b[0m result\u001b[38;5;241m.\u001b[39mupdate(\u001b[38;5;28;43msuper\u001b[39;49m\u001b[43m(\u001b[49m\u001b[43m)\u001b[49m\u001b[38;5;241;43m.\u001b[39;49m\u001b[43mrun\u001b[49m\u001b[43m(\u001b[49m\u001b[43mdatasets\u001b[49m\u001b[43m,\u001b[49m\u001b[43m \u001b[49m\u001b[43mmodel\u001b[49m\u001b[38;5;241;43m.\u001b[39;49m\u001b[43mnorm\u001b[49m\u001b[43m)\u001b[49m)\n\u001b[0;32m    191\u001b[0m datasets\u001b[38;5;241m.\u001b[39mmodels[\u001b[38;5;28mself\u001b[39m\u001b[38;5;241m.\u001b[39msource]\u001b[38;5;241m.\u001b[39mspectral_model\u001b[38;5;241m.\u001b[39mnorm\u001b[38;5;241m.\u001b[39mvalue \u001b[38;5;241m=\u001b[39m result[\u001b[38;5;124m\"\u001b[39m\u001b[38;5;124mnorm\u001b[39m\u001b[38;5;124m\"\u001b[39m]\n\u001b[0;32m    192\u001b[0m result\u001b[38;5;241m.\u001b[39mupdate(\u001b[38;5;28mself\u001b[39m\u001b[38;5;241m.\u001b[39mestimate_npred_excess(datasets\u001b[38;5;241m=\u001b[39mdatasets))\n",
      "File \u001b[1;32m~\\miniconda3\\envs\\gammapy-1.0-irf\\lib\\site-packages\\gammapy\\estimators\\parameter.py:320\u001b[0m, in \u001b[0;36mParameterEstimator.run\u001b[1;34m(self, datasets, parameter)\u001b[0m\n\u001b[0;32m    318\u001b[0m \u001b[38;5;28;01mfor\u001b[39;00m p \u001b[38;5;129;01min\u001b[39;00m datasets\u001b[38;5;241m.\u001b[39mparameters\u001b[38;5;241m.\u001b[39mfree_parameters:\n\u001b[0;32m    319\u001b[0m     \u001b[38;5;28mprint\u001b[39m(p\u001b[38;5;241m.\u001b[39mname, p\u001b[38;5;241m.\u001b[39mvalue, p\u001b[38;5;241m.\u001b[39merror)\n\u001b[1;32m--> 320\u001b[0m result\u001b[38;5;241m.\u001b[39mupdate(\u001b[38;5;28;43mself\u001b[39;49m\u001b[38;5;241;43m.\u001b[39;49m\u001b[43mestimate_ts\u001b[49m\u001b[43m(\u001b[49m\u001b[43mdatasets\u001b[49m\u001b[43m,\u001b[49m\u001b[43m \u001b[49m\u001b[43mparameter\u001b[49m\u001b[43m)\u001b[49m)\n\u001b[0;32m    321\u001b[0m \u001b[38;5;28;01mfor\u001b[39;00m p \u001b[38;5;129;01min\u001b[39;00m datasets\u001b[38;5;241m.\u001b[39mparameters\u001b[38;5;241m.\u001b[39mpenalised_parameters:\n\u001b[0;32m    322\u001b[0m     p\u001b[38;5;241m.\u001b[39mfrozen \u001b[38;5;241m=\u001b[39m \u001b[38;5;28;01mTrue\u001b[39;00m\n",
      "File \u001b[1;32m~\\miniconda3\\envs\\gammapy-1.0-irf\\lib\\site-packages\\gammapy\\estimators\\parameter.py:117\u001b[0m, in \u001b[0;36mParameterEstimator.estimate_ts\u001b[1;34m(self, datasets, parameter)\u001b[0m\n\u001b[0;32m     99\u001b[0m \u001b[38;5;28;01mdef\u001b[39;00m \u001b[38;5;21mestimate_ts\u001b[39m(\u001b[38;5;28mself\u001b[39m, datasets, parameter):\n\u001b[0;32m    100\u001b[0m \u001b[38;5;250m    \u001b[39m\u001b[38;5;124;03m\"\"\"Estimate parameter ts\u001b[39;00m\n\u001b[0;32m    101\u001b[0m \n\u001b[0;32m    102\u001b[0m \u001b[38;5;124;03m    Parameters\u001b[39;00m\n\u001b[1;32m   (...)\u001b[0m\n\u001b[0;32m    115\u001b[0m \u001b[38;5;124;03m            * \"npred\" : predicted number of counts per dataset\u001b[39;00m\n\u001b[0;32m    116\u001b[0m \u001b[38;5;124;03m    \"\"\"\u001b[39;00m\n\u001b[1;32m--> 117\u001b[0m     npred \u001b[38;5;241m=\u001b[39m \u001b[38;5;28;43mself\u001b[39;49m\u001b[38;5;241;43m.\u001b[39;49m\u001b[43mestimate_npred\u001b[49m\u001b[43m(\u001b[49m\u001b[43mdatasets\u001b[49m\u001b[38;5;241;43m=\u001b[39;49m\u001b[43mdatasets\u001b[49m\u001b[43m)\u001b[49m\n\u001b[0;32m    119\u001b[0m     \u001b[38;5;28;01mif\u001b[39;00m \u001b[38;5;129;01mnot\u001b[39;00m np\u001b[38;5;241m.\u001b[39many(datasets\u001b[38;5;241m.\u001b[39mcontributes_to_stat):\n\u001b[0;32m    120\u001b[0m         stat \u001b[38;5;241m=\u001b[39m np\u001b[38;5;241m.\u001b[39mnan\n",
      "File \u001b[1;32m~\\miniconda3\\envs\\gammapy-1.0-irf\\lib\\site-packages\\gammapy\\estimators\\parameter.py:287\u001b[0m, in \u001b[0;36mParameterEstimator.estimate_npred\u001b[1;34m(datasets)\u001b[0m\n\u001b[0;32m    285\u001b[0m \u001b[38;5;28;01mfor\u001b[39;00m dataset \u001b[38;5;129;01min\u001b[39;00m datasets:\n\u001b[0;32m    286\u001b[0m     mask \u001b[38;5;241m=\u001b[39m dataset\u001b[38;5;241m.\u001b[39mmask\n\u001b[1;32m--> 287\u001b[0m     npred\u001b[38;5;241m.\u001b[39mappend(\u001b[43mdataset\u001b[49m\u001b[38;5;241;43m.\u001b[39;49m\u001b[43mnpred\u001b[49m\u001b[43m(\u001b[49m\u001b[43m)\u001b[49m\u001b[38;5;241m.\u001b[39mdata[mask]\u001b[38;5;241m.\u001b[39msum())\n\u001b[0;32m    289\u001b[0m \u001b[38;5;28;01mreturn\u001b[39;00m {\u001b[38;5;124m\"\u001b[39m\u001b[38;5;124mnpred\u001b[39m\u001b[38;5;124m\"\u001b[39m: np\u001b[38;5;241m.\u001b[39marray(npred), \u001b[38;5;124m\"\u001b[39m\u001b[38;5;124mdatasets\u001b[39m\u001b[38;5;124m\"\u001b[39m: datasets\u001b[38;5;241m.\u001b[39mnames}\n",
      "File \u001b[1;32m~\\miniconda3\\envs\\gammapy-1.0-irf\\lib\\site-packages\\gammapy\\datasets\\map.py:453\u001b[0m, in \u001b[0;36mMapDataset.npred\u001b[1;34m(self)\u001b[0m\n\u001b[0;32m    445\u001b[0m \u001b[38;5;28;01mdef\u001b[39;00m \u001b[38;5;21mnpred\u001b[39m(\u001b[38;5;28mself\u001b[39m):\n\u001b[0;32m    446\u001b[0m \u001b[38;5;250m    \u001b[39m\u001b[38;5;124;03m\"\"\"Total predicted source and background counts\u001b[39;00m\n\u001b[0;32m    447\u001b[0m \n\u001b[0;32m    448\u001b[0m \u001b[38;5;124;03m    Returns\u001b[39;00m\n\u001b[1;32m   (...)\u001b[0m\n\u001b[0;32m    451\u001b[0m \u001b[38;5;124;03m        Total predicted counts\u001b[39;00m\n\u001b[0;32m    452\u001b[0m \u001b[38;5;124;03m    \"\"\"\u001b[39;00m\n\u001b[1;32m--> 453\u001b[0m     npred_total \u001b[38;5;241m=\u001b[39m \u001b[38;5;28;43mself\u001b[39;49m\u001b[38;5;241;43m.\u001b[39;49m\u001b[43mnpred_signal\u001b[49m\u001b[43m(\u001b[49m\u001b[43m)\u001b[49m\n\u001b[0;32m    455\u001b[0m     \u001b[38;5;28;01mif\u001b[39;00m \u001b[38;5;28mself\u001b[39m\u001b[38;5;241m.\u001b[39mbackground:\n\u001b[0;32m    456\u001b[0m         npred_total \u001b[38;5;241m+\u001b[39m\u001b[38;5;241m=\u001b[39m \u001b[38;5;28mself\u001b[39m\u001b[38;5;241m.\u001b[39mnpred_background()\n",
      "File \u001b[1;32m~\\miniconda3\\envs\\gammapy-1.0-irf\\lib\\site-packages\\gammapy\\datasets\\map.py:580\u001b[0m, in \u001b[0;36mMapDataset.npred_signal\u001b[1;34m(self, model_name)\u001b[0m\n\u001b[0;32m    578\u001b[0m \u001b[38;5;28;01mif\u001b[39;00m \u001b[38;5;28mself\u001b[39m\u001b[38;5;241m.\u001b[39mirf_model \u001b[38;5;129;01mis\u001b[39;00m \u001b[38;5;129;01mnot\u001b[39;00m \u001b[38;5;28;01mNone\u001b[39;00m \u001b[38;5;129;01mand\u001b[39;00m \u001b[38;5;28mself\u001b[39m\u001b[38;5;241m.\u001b[39m_irf_parameters_changed:\n\u001b[0;32m    579\u001b[0m     exposure \u001b[38;5;241m=\u001b[39m \u001b[38;5;28mself\u001b[39m\u001b[38;5;241m.\u001b[39mnpred_exposure()\n\u001b[1;32m--> 580\u001b[0m     edisp \u001b[38;5;241m=\u001b[39m \u001b[38;5;28;43mself\u001b[39;49m\u001b[38;5;241;43m.\u001b[39;49m\u001b[43mnpred_edisp\u001b[49m\u001b[43m(\u001b[49m\u001b[43m)\u001b[49m\n\u001b[0;32m    581\u001b[0m     evaluator\u001b[38;5;241m.\u001b[39mupdate(\n\u001b[0;32m    582\u001b[0m         exposure,\n\u001b[0;32m    583\u001b[0m         \u001b[38;5;28mself\u001b[39m\u001b[38;5;241m.\u001b[39mpsf,\n\u001b[1;32m   (...)\u001b[0m\n\u001b[0;32m    586\u001b[0m         \u001b[38;5;28mself\u001b[39m\u001b[38;5;241m.\u001b[39mmask_image,\n\u001b[0;32m    587\u001b[0m     )\n\u001b[0;32m    589\u001b[0m \u001b[38;5;28;01mif\u001b[39;00m evaluator\u001b[38;5;241m.\u001b[39mcontributes:\n",
      "File \u001b[1;32m~\\miniconda3\\envs\\gammapy-1.0-irf\\lib\\site-packages\\gammapy\\datasets\\map.py:495\u001b[0m, in \u001b[0;36mMapDataset.npred_edisp\u001b[1;34m(self)\u001b[0m\n\u001b[0;32m    490\u001b[0m         edisp_kernel \u001b[38;5;241m=\u001b[39m edisp\u001b[38;5;241m.\u001b[39mget_edisp_kernel()\n\u001b[0;32m    491\u001b[0m         gaussian \u001b[38;5;241m=\u001b[39m \u001b[38;5;28mself\u001b[39m\u001b[38;5;241m.\u001b[39mirf_model\u001b[38;5;241m.\u001b[39mevaluate_gaussian(\n\u001b[0;32m    492\u001b[0m             energy_axis_true\u001b[38;5;241m=\u001b[39medisp_kernel\u001b[38;5;241m.\u001b[39maxes[\u001b[38;5;124m\"\u001b[39m\u001b[38;5;124menergy_true\u001b[39m\u001b[38;5;124m\"\u001b[39m],\n\u001b[0;32m    493\u001b[0m             energy_axis\u001b[38;5;241m=\u001b[39medisp_kernel\u001b[38;5;241m.\u001b[39maxes[\u001b[38;5;124m\"\u001b[39m\u001b[38;5;124menergy_true\u001b[39m\u001b[38;5;124m\"\u001b[39m],\n\u001b[0;32m    494\u001b[0m         )\n\u001b[1;32m--> 495\u001b[0m         edisp_kernel\u001b[38;5;241m.\u001b[39mdata \u001b[38;5;241m=\u001b[39m \u001b[43mnp\u001b[49m\u001b[38;5;241;43m.\u001b[39;49m\u001b[43mmatmul\u001b[49m\u001b[43m(\u001b[49m\u001b[43medisp_kernel\u001b[49m\u001b[38;5;241;43m.\u001b[39;49m\u001b[43mdata\u001b[49m\u001b[43m,\u001b[49m\u001b[43m \u001b[49m\u001b[43mgaussian\u001b[49m\u001b[38;5;241;43m.\u001b[39;49m\u001b[43mdata\u001b[49m\u001b[43m)\u001b[49m\n\u001b[0;32m    496\u001b[0m     \u001b[38;5;28;01mreturn\u001b[39;00m EDispKernelMap\u001b[38;5;241m.\u001b[39mfrom_edisp_kernel(edisp_kernel)\n\u001b[0;32m    497\u001b[0m \u001b[38;5;28;01melse\u001b[39;00m:\n",
      "\u001b[1;31mValueError\u001b[0m: matmul: Input operand 1 has a mismatch in its core dimension 0, with gufunc signature (n?,k),(k,m?)->(n?,m?) (size 24 is different from 1)"
     ]
    }
   ],
   "source": [
    "if compute_fluxpoints:\n",
    "\n",
    "    esti_N  = FluxPointsEstimator(energy_edges= energy_edges,\n",
    "                               reoptimize = True)\n",
    "    ## modify the covariance matrix, because only one nuisance parameter here\n",
    "    #penalising_covmatrix = [[1/sigma_a**2]]\n",
    "    #penalising_invcovmatrix =  penalising_covmatrix\n",
    "    #dataset_asimov_N.penalising_invcovmatrix = penalising_invcovmatrix\n",
    "    with dataset_asimov_N.models.restore_status():\n",
    "        dataset_asimov_N.models.parameters.freeze_all()\n",
    "        dataset_asimov_N.models.parameters['norm_nuisance'].frozen = False\n",
    "        dataset_asimov_N.models.parameters['tilt_nuisance'].frozen = False\n",
    "        fluxpoints_asimov_N = esti_N.run(dataset_asimov_N)\n",
    "\n",
    "    fluxpoints_asimov_N.write(\"data/6_fluxpoints_asimov_N.fits\", overwrite = True)\n",
    "else:\n",
    "    fluxpoints_asimov_N = FluxPoints.read(\"data/6_fluxpoints_asimov_N.fits\",)"
   ]
  },
  {
   "cell_type": "code",
   "execution_count": null,
   "id": "55710c06",
   "metadata": {},
   "outputs": [],
   "source": [
    "def plot_shifted (ff, shift):\n",
    "    return ff.energy_ref* shift, ff.e2dnde.data[:,0,0],  ff.e2dnde_err.data[:,0,0], "
   ]
  },
  {
   "cell_type": "code",
   "execution_count": null,
   "id": "8cf582df",
   "metadata": {},
   "outputs": [],
   "source": [
    "fig, axs = plt.subplots(1,1, figsize = (6,4))\n",
    "dataset_asimov_N.models[0].spectral_model.plot_error(energy_bounds,  energy_power = 2, ax = axs,\n",
    "                                label = \"$1\\sigma$ Nuisance\", facecolor = \"green\", alpha = 0.5)    \n",
    "    \n",
    "dataset_asimov.models[0].spectral_model.plot_error(energy_bounds,  energy_power = 2, ax = axs,\n",
    "                                label = \"$1\\sigma$ Standard\", facecolor = \"red\", alpha = 0.6)\n",
    "\n",
    "dataset_asimov.models[0].spectral_model.plot(energy_bounds, linestyle=':', energy_power = 2, ax = axs,\n",
    "                                label = \"Input\", color = \"black\", )\n",
    "\n",
    "\n",
    "\n",
    "\n",
    "e_, f_, ferr_ = plot_shifted(fluxpoints_asimov, 1.1)\n",
    "axs.errorbar(e_, f_, yerr = ferr_, color = 'darkred', fmt='o')  \n",
    "\n",
    "e_, f_, ferr_ = plot_shifted(fluxpoints_asimov_N, 1.)\n",
    "axs.errorbar(e_, f_, yerr = ferr_, color = 'darkgreen', fmt='o')  \n",
    "\n",
    "\n",
    "axs.legend()\n",
    "plt.tight_layout()\n",
    "if savefig:\n",
    "    fig.savefig(f\"plots/6_fluxpoints_asimov.\"+ picformat)\n"
   ]
  },
  {
   "cell_type": "code",
   "execution_count": null,
   "id": "21361eca",
   "metadata": {},
   "outputs": [],
   "source": []
  }
 ],
 "metadata": {
  "kernelspec": {
   "display_name": "Python 3 (ipykernel)",
   "language": "python",
   "name": "python3"
  },
  "language_info": {
   "codemirror_mode": {
    "name": "ipython",
    "version": 3
   },
   "file_extension": ".py",
   "mimetype": "text/x-python",
   "name": "python",
   "nbconvert_exporter": "python",
   "pygments_lexer": "ipython3",
   "version": "3.9.16"
  },
  "varInspector": {
   "cols": {
    "lenName": 16,
    "lenType": 16,
    "lenVar": 40
   },
   "kernels_config": {
    "python": {
     "delete_cmd_postfix": "",
     "delete_cmd_prefix": "del ",
     "library": "var_list.py",
     "varRefreshCmd": "print(var_dic_list())"
    },
    "r": {
     "delete_cmd_postfix": ") ",
     "delete_cmd_prefix": "rm(",
     "library": "var_list.r",
     "varRefreshCmd": "cat(var_dic_list()) "
    }
   },
   "types_to_exclude": [
    "module",
    "function",
    "builtin_function_or_method",
    "instance",
    "_Feature"
   ],
   "window_display": false
  }
 },
 "nbformat": 4,
 "nbformat_minor": 5
}
