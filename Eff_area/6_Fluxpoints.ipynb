{
 "cells": [
  {
   "cell_type": "code",
   "execution_count": 1,
   "id": "c102068e",
   "metadata": {},
   "outputs": [
    {
     "name": "stdout",
     "output_type": "stream",
     "text": [
      "loaded gammapy version: 1.1.dev320+g92a6eb9f4 \n",
      "Supposed to be 1.0 (21-12-2022)\n"
     ]
    }
   ],
   "source": [
    "import gammapy \n",
    "print(f'loaded gammapy version: {gammapy.__version__} ' )\n",
    "print(f'Supposed to be 1.0 (21-12-2022)' )"
   ]
  },
  {
   "cell_type": "code",
   "execution_count": 2,
   "id": "e0c4dcf1",
   "metadata": {
    "execution": {
     "iopub.execute_input": "2022-03-17T11:24:36.091662Z",
     "iopub.status.busy": "2022-03-17T11:24:36.091167Z",
     "iopub.status.idle": "2022-03-17T11:25:00.872876Z",
     "shell.execute_reply": "2022-03-17T11:25:00.871690Z"
    }
   },
   "outputs": [],
   "source": [
    "#get_ipython().system('jupyter nbconvert --to script 1-Nui_Par_Fitting.ipynb')\n",
    "import pyximport\n",
    "\n",
    "pyximport.install()\n",
    "import matplotlib.pyplot as plt\n",
    "import numpy as np\n",
    "import astropy.units as u\n",
    "import gammapy\n",
    "\n",
    "# from gammapy.datasets import MapDataset\n",
    "from gammapy.maps import Map\n",
    "from astropy.coordinates import SkyCoord, Angle\n",
    "from gammapy.modeling import Fit, Parameter, Parameters, Covariance\n",
    "from gammapy.datasets import MapDataset , Datasets#, MapDatasetNuisance\n",
    "from gammapy.modeling.models import (\n",
    "    PowerLawSpectralModel,\n",
    "    create_crab_spectral_model,\n",
    "    SkyModel,\n",
    "    PointSpatialModel,\n",
    "    ShellSpatialModel,\n",
    "    GeneralizedGaussianSpatialModel,\n",
    "    TemplateSpatialModel,\n",
    "    LogParabolaSpectralModel,\n",
    "    GaussianSpatialModel,\n",
    "    DiskSpatialModel,\n",
    "    PowerLawNormSpectralModel,\n",
    "    Models,\n",
    "    SpatialModel,\n",
    "    FoVBackgroundModel,\n",
    ")\n",
    "from gammapy.estimators import TSMapEstimator, ExcessMapEstimator\n",
    "from gammapy.estimators import FluxPoints\n",
    "from gammapy.estimators import  FluxPointsEstimator\n",
    "\n",
    "from regions import CircleSkyRegion, RectangleSkyRegion\n",
    "import yaml\n",
    "import sys\n",
    "\n",
    "#sys.path.append(\n",
    "#    \"/home/hpc/caph/mppi045h/3D_analysis/N_parameters_in_L/syserror_3d_bkgmodel/4-Fitting_nuisance_and_model_parameters\"\n",
    "#)\n",
    "#from my_dataset_maps_20 import MapDatasetNuisance\n",
    "#from MapDatasetNuisanceE import MapDatasetNuisanceE\n",
    "#from  my_fit_20 import Fit\n",
    "from Dataset_Creation import sys_dataset"
   ]
  },
  {
   "cell_type": "code",
   "execution_count": null,
   "id": "d7f3e0ff",
   "metadata": {},
   "outputs": [],
   "source": []
  },
  {
   "cell_type": "markdown",
   "id": "23adcef0",
   "metadata": {},
   "source": [
    "## Read dataset"
   ]
  },
  {
   "cell_type": "code",
   "execution_count": 3,
   "id": "f94dc89c",
   "metadata": {},
   "outputs": [
    {
     "name": "stdout",
     "output_type": "stream",
     "text": [
      "spatial binsize =  [0.08] deg\n",
      "MapDataset\n",
      "----------\n",
      "\n",
      "  Name                            : cJnz4c2- \n",
      "\n",
      "  Total counts                    : 388209 \n",
      "  Total background counts         : 360331.31\n",
      "  Total excess counts             : 27877.69\n",
      "\n",
      "  Predicted counts                : 361333.07\n",
      "  Predicted background counts     : 360331.34\n",
      "  Predicted excess counts         : 1001.73\n",
      "\n",
      "  Exposure min                    : 2.07e-01 m2 s\n",
      "  Exposure max                    : 2.41e+11 m2 s\n",
      "\n",
      "  Number of total bins            : 540000 \n",
      "  Number of fit bins              : 180191 \n",
      "\n",
      "  Fit statistic type              : cash\n",
      "  Fit statistic value (-2 log(L)) : -924522.99\n",
      "\n",
      "  Number of models                : 2 \n",
      "  Number of parameters            : 11\n",
      "  Number of free parameters       : 7\n",
      "\n",
      "  Component 0: SkyModel\n",
      "  \n",
      "    Name                      : Source\n",
      "    Datasets names            : None\n",
      "    Spectral model type       : PowerLawSpectralModel\n",
      "    Spatial  model type       : GaussianSpatialModel\n",
      "    Temporal model type       : \n",
      "    Parameters:\n",
      "      index                         :      2.300   +/-    0.00             \n",
      "      amplitude                     :   1.00e-12   +/- 0.0e+00 1 / (cm2 s TeV)\n",
      "      reference             (frozen):      1.000       TeV         \n",
      "      lon_0                         :     83.631   +/-    0.00 deg         \n",
      "      lat_0                         :     22.018   +/-    0.00 deg         \n",
      "      sigma                         :      0.019   +/-    0.00 deg         \n",
      "      e                     (frozen):      0.000                   \n",
      "      phi                   (frozen):      0.000       deg         \n",
      "  \n",
      "  Component 1: FoVBackgroundModel\n",
      "  \n",
      "    Name                      : cJnz4c2--bkg\n",
      "    Datasets names            : ['cJnz4c2-']\n",
      "    Spectral model type       : PowerLawNormSpectralModel\n",
      "    Parameters:\n",
      "      norm                          :      1.000   +/-    0.00             \n",
      "      tilt                          :      0.000   +/-    0.00             \n",
      "      reference             (frozen):      1.000       TeV         \n",
      "  \n",
      "  \n"
     ]
    },
    {
     "data": {
      "image/png": "[encoded data removed]",
      "text/plain": [
       "<Figure size 640x480 with 2 Axes>"
      ]
     },
     "metadata": {},
     "output_type": "display_data"
    }
   ],
   "source": [
    "source = 'Crab'\n",
    "path = '/home/vault/caph/mppi062h/repositories/HESS_3Dbkg_syserror/2-error_in_dataset'\n",
    "path_crab = '/home/hpc/caph/mppi045h/3D_analysis/N_parameters_in_L/nuisance_summary/Crab'\n",
    "\n",
    "\n",
    "dataset_standard = MapDataset.read(f'{path}/{source}/stacked.fits')\n",
    "dataset_standard = dataset_standard.downsample(4)\n",
    "models = Models.read(f\"{path_crab}/standard_model.yml\")\n",
    "model_spectrum  = PowerLawSpectralModel(\n",
    "    index=2.3,\n",
    "    amplitude=\"1e-12 TeV-1 cm-2 s-1\",    )\n",
    "source_model = SkyModel(spatial_model = models['main source'].spatial_model ,\n",
    "                       spectral_model = model_spectrum,\n",
    "                       name = \"Source\")    \n",
    "models = Models(source_model)\n",
    "\n",
    "bkg_model = FoVBackgroundModel(dataset_name=dataset_standard.name)\n",
    "bkg_model.parameters['tilt'].frozen  = False\n",
    "models.append(bkg_model)\n",
    "dataset_standard.models = models\n",
    "\n",
    "dataset_asimov = dataset_standard.copy()\n",
    "dataset_asimov.counts = dataset_standard.npred()\n",
    "models = Models(source_model.copy())\n",
    "bkg_model = FoVBackgroundModel(dataset_name=dataset_asimov.name)\n",
    "bkg_model.parameters['tilt'].frozen  = False\n",
    "models.append(bkg_model)\n",
    "dataset_asimov.models = models\n",
    "\n",
    "    \n",
    "dataset_standard.counts.sum_over_axes().plot(add_cbar=1)\n",
    "binsize = dataset_standard.geoms[\"geom\"].width[1] / dataset_standard.geoms[\"geom\"].data_shape[1]\n",
    "print(\n",
    "    \"spatial binsize = \",\n",
    "    binsize\n",
    ")\n",
    "\n",
    "print(dataset_standard)"
   ]
  },
  {
   "cell_type": "markdown",
   "id": "256ed44a",
   "metadata": {},
   "source": [
    "## Varying the Exposure"
   ]
  },
  {
   "cell_type": "code",
   "execution_count": 4,
   "id": "260723d7",
   "metadata": {},
   "outputs": [],
   "source": [
    "savefig = True\n",
    "picformat = 'svg'\n",
    "shift = +0.\n",
    "sigma_a = 0.1\n",
    "\n",
    "delta_shift = 0.08\n",
    "tilt = -delta_shift/24\n",
    "sigma_i = tilt\n"
   ]
  },
  {
   "cell_type": "code",
   "execution_count": 6,
   "id": "bb7b400d",
   "metadata": {},
   "outputs": [
    {
     "name": "stdout",
     "output_type": "stream",
     "text": [
      "5\n",
      "5\n"
     ]
    }
   ],
   "source": [
    "sys_ = sys_dataset(dataset_asimov= dataset_asimov,\n",
    "                        shift = shift, \n",
    "                        tilt = tilt,\n",
    "                        rnd = False)\n",
    "dataset_asimov = sys_.create_dataset()\n",
    "dataset_asimov_N = sys_.create_dataset_N()\n",
    "\n",
    "zero = 1e-24\n",
    "penalising_covmatrix = [[1/sigma_i**2, zero], [zero , 1/sigma_a**2]]\n",
    "penalising_invcovmatrix =  penalising_covmatrix\n",
    "dataset_asimov_N.penalising_invcovmatrix = penalising_invcovmatrix\n",
    "\n",
    "\n",
    "fit_cor = Fit(store_trace=False)\n",
    "\n",
    "result_cor = fit_cor.run([dataset_asimov])    \n",
    "result_cor = fit_cor.run([dataset_asimov_N]) \n",
    "dataset_asimov_N.models[0].parameters['amplitude_nuisance'].frozen = True\n",
    "dataset_asimov_N.models[0].parameters['index_nuisance'].frozen = True"
   ]
  },
  {
   "cell_type": "code",
   "execution_count": 7,
   "id": "0512e23f",
   "metadata": {},
   "outputs": [],
   "source": [
    "mask = dataset_asimov.mask.data[:,60,60]\n",
    "ebins = dataset_asimov.counts.geom.axes[0].center[mask]\n",
    "energy_bounds = (ebins[0] , ebins[-1] ) *u.TeV"
   ]
  },
  {
   "cell_type": "code",
   "execution_count": 8,
   "id": "7084690e",
   "metadata": {},
   "outputs": [
    {
     "name": "stdout",
     "output_type": "stream",
     "text": [
      "index\n",
      "amplitude\n",
      "index\n",
      "amplitude\n",
      "index\n",
      "amplitude\n",
      "index\n",
      "amplitude\n"
     ]
    },
    {
     "data": {
      "image/png": "[encoded data removed]",
      "text/plain": [
       "<Figure size 500x300 with 1 Axes>"
      ]
     },
     "metadata": {},
     "output_type": "display_data"
    }
   ],
   "source": [
    "true_energy = dataset_asimov.exposure.geom.axes[0].center.value\n",
    "energy_bounds = (ebins[0] , ebins[-1] ) *u.TeV\n",
    "fig, axs = plt.subplots(1,1, figsize = (5,3))\n",
    "dataset_asimov_N.models[0].spectral_model.plot(energy_bounds,  energy_power = 2, ax = axs,\n",
    "                                label = \"\", color = \"green\")    \n",
    "\n",
    "dataset_asimov_N.models[0].spectral_model.plot_error(energy_bounds,  energy_power = 2, ax = axs,\n",
    "                                label = \"$1\\sigma$ Standard\", facecolor = \"green\", alpha = 0.5)    \n",
    "    \n",
    "dataset_asimov.models[0].spectral_model.plot(energy_bounds,  energy_power = 2, ax = axs,\n",
    "                                label = \"\", color = \"red\")    \n",
    "\n",
    "dataset_asimov.models[0].spectral_model.plot_error(energy_bounds,  energy_power = 2, ax = axs,\n",
    "                                label = \"$1\\sigma$ Nuisance\", facecolor = \"red\", alpha = 0.6)\n",
    "\n",
    "dataset_standard.models[0].spectral_model.plot(energy_bounds, linestyle=':', energy_power = 2, ax = axs,\n",
    "                                label = \"Input\", color = \"black\", )\n",
    "\n",
    "axs.set_xlabel('')\n",
    "axs.legend()\n",
    "plt.tight_layout()\n"
   ]
  },
  {
   "cell_type": "markdown",
   "id": "f816b8b2",
   "metadata": {},
   "source": [
    "## Compute Asimov Fluxpoints\n"
   ]
  },
  {
   "cell_type": "code",
   "execution_count": 15,
   "id": "4bf940ac",
   "metadata": {
    "scrolled": true
   },
   "outputs": [
    {
     "name": "stdout",
     "output_type": "stream",
     "text": [
      "norm 1.0 0\n",
      "flux: len pen par: 0\n",
      "norm 1.0 0\n",
      "flux: len pen par: 0\n",
      "norm 1.0 0\n",
      "flux: len pen par: 0\n",
      "norm 1.0 0\n",
      "flux: len pen par: 0\n",
      "norm 1.0 0\n",
      "flux: len pen par: 0\n",
      "norm 0.9984868751893686 1.0568448053109327\n",
      "flux: len pen par: 0\n",
      "norm 0.9985818187333065 0.4080995894068876\n",
      "flux: len pen par: 0\n",
      "norm 0.9987954899853645 0.20846902656700161\n",
      "flux: len pen par: 0\n",
      "norm 0.9989971069027476 0.17952204614786527\n",
      "flux: len pen par: 0\n",
      "norm 0.9992174260867578 0.18035027393974093\n",
      "flux: len pen par: 0\n",
      "norm 0.9994478998037314 0.18682800428300025\n",
      "flux: len pen par: 0\n",
      "norm 0.9996936429310292 0.19938738671942274\n",
      "flux: len pen par: 0\n",
      "norm 1.0 0.21708858153486976\n",
      "flux: len pen par: 0\n",
      "norm 1.0002476471767265 0.2355464586373958\n",
      "flux: len pen par: 0\n",
      "norm 1.0005636274399452 0.2606284059978735\n",
      "flux: len pen par: 0\n",
      "norm 1.00085924400013 0.2922059476858756\n",
      "flux: len pen par: 0\n",
      "norm 1.0011796952799394 0.32782342220578464\n",
      "flux: len pen par: 0\n",
      "norm 1.0015103804323222 0.3719996529520047\n",
      "flux: len pen par: 0\n",
      "norm 1.0018553210290644 0.4247593762110208\n",
      "flux: len pen par: 0\n",
      "norm 1.0022172359560377 0.48033705113423747\n",
      "flux: len pen par: 0\n",
      "norm 1.0025898803317512 0.5469533013443466\n",
      "flux: len pen par: 0\n",
      "norm 1.0029823086128238 0.6332565747955602\n",
      "flux: len pen par: 0\n",
      "norm 1.0033817761669566 0.759331851899455\n",
      "flux: len pen par: 0\n",
      "norm 1.0 0\n",
      "flux: len pen par: 0\n"
     ]
    }
   ],
   "source": [
    "compute_fluxpoints = 1\n",
    "if compute_fluxpoints:\n",
    "    energy_edges = dataset_asimov.geoms['geom'].axes[0].edges\n",
    "    esti  = FluxPointsEstimator(energy_edges= energy_edges,\n",
    "                               reoptimize = False)\n",
    "    fluxpoints_asimov = esti.run([dataset_asimov])\n",
    "    fluxpoints_asimov.write(\"data/6_fluxpoints_asimov.fits\", overwrite = True)\n",
    "else:\n",
    "    fluxpoints_asimov = FluxPoints.read(\"data/6_fluxpoints_asimov.fits\", )\n",
    "    "
   ]
  },
  {
   "cell_type": "code",
   "execution_count": 32,
   "id": "59ac026b",
   "metadata": {
    "scrolled": true
   },
   "outputs": [
    {
     "name": "stdout",
     "output_type": "stream",
     "text": [
      "norm 1.0 0\n",
      "norm_nuisance 0.0 0\n",
      "freeze for error\n",
      "flux: len pen par: 1\n",
      "norm 1.0 0\n",
      "norm_nuisance 0.0 0\n",
      "freeze for error\n",
      "flux: len pen par: 1\n",
      "norm 1.0 0\n",
      "norm_nuisance 0.0 0\n",
      "freeze for error\n",
      "flux: len pen par: 1\n",
      "norm 1.0 0\n",
      "norm_nuisance 0.0 0\n",
      "freeze for error\n",
      "flux: len pen par: 1\n",
      "norm 1.0 0\n",
      "norm_nuisance 0.0 0\n",
      "freeze for error\n",
      "flux: len pen par: 1\n",
      "norm 1.0005269998380264 1.0638885162745328\n",
      "norm_nuisance 4.322125884289598e-06 0.10002670843828017\n",
      "freeze for error\n",
      "flux: len pen par: 1\n",
      "norm 1.000205575269545 0.4216343386559116\n",
      "norm_nuisance 8.559820992817862e-06 0.10019829653270412\n",
      "freeze for error\n",
      "flux: len pen par: 1\n",
      "norm 1.0000379046512196 0.23384693807743298\n",
      "norm_nuisance 2.7968765907604957e-06 0.10103915785437882\n",
      "freeze for error\n",
      "flux: len pen par: 1\n",
      "norm 1.0 0.20861882719422853\n",
      "norm_nuisance 0.0 0.10145025539335527\n",
      "freeze for error\n",
      "flux: len pen par: 1\n",
      "norm 0.9998629787844936 0.20875821561436883\n",
      "norm_nuisance -5.9259575325168294e-05 0.10118617460266056\n",
      "freeze for error\n",
      "flux: len pen par: 1\n",
      "norm 0.9997503927826292 0.21384296451572418\n",
      "norm_nuisance -7.202822434202373e-05 0.1008952788473438\n",
      "freeze for error\n",
      "flux: len pen par: 1\n",
      "norm 0.9995850151252109 0.22434872694644512\n",
      "norm_nuisance -9.525953208346947e-05 0.10059018298298011\n",
      "freeze for error\n",
      "flux: len pen par: 1\n",
      "norm 0.9995587063022126 0.23985739746048954\n",
      "norm_nuisance -8.402964953602068e-05 0.10039447828966952\n",
      "freeze for error\n",
      "flux: len pen par: 1\n",
      "norm 0.9994490761054635 0.2561033653477501\n",
      "norm_nuisance -8.60556004833773e-05 0.10015522354713248\n",
      "freeze for error\n",
      "flux: len pen par: 1\n",
      "norm 0.9993631912771829 0.279088918945008\n",
      "norm_nuisance -8.291152012868481e-05 0.10008649943053254\n",
      "freeze for error\n",
      "flux: len pen par: 1\n",
      "norm 0.9992984136034493 0.3086879260373764\n",
      "norm_nuisance -7.585649682109238e-05 0.10009465231555528\n",
      "freeze for error\n",
      "flux: len pen par: 1\n",
      "norm 0.9992380870451639 0.342407135524071\n",
      "norm_nuisance -6.803025149405491e-05 0.10008563891907503\n",
      "freeze for error\n",
      "flux: len pen par: 1\n",
      "norm 0.999179524491789 0.38463278964227765\n",
      "norm_nuisance -5.908365069045954e-05 0.10007085264709362\n",
      "freeze for error\n",
      "flux: len pen par: 1\n",
      "norm 0.9991908820505221 0.4354997733050622\n",
      "norm_nuisance -4.637413740871385e-05 0.10005526131187195\n",
      "freeze for error\n",
      "flux: len pen par: 1\n",
      "norm 0.9992171409058879 0.4894096370128192\n",
      "norm_nuisance -3.6297149175490714e-05 0.10004057909629116\n",
      "freeze for error\n",
      "flux: len pen par: 1\n",
      "norm 0.9992089063484872 0.5543489649101894\n",
      "norm_nuisance -2.925045363118015e-05 0.10002844225794082\n",
      "freeze for error\n",
      "flux: len pen par: 1\n",
      "norm 0.9992421426692276 0.6388865459873959\n",
      "norm_nuisance -2.1875018827467224e-05 0.10002015877835504\n",
      "freeze for error\n",
      "flux: len pen par: 1\n",
      "norm 0.9992903373679514 0.7629120347186275\n",
      "norm_nuisance -1.5362484239080067e-05 0.10001423179032393\n",
      "freeze for error\n",
      "flux: len pen par: 1\n",
      "norm 1.0 0\n",
      "norm_nuisance 0.0 0\n",
      "freeze for error\n",
      "flux: len pen par: 1\n"
     ]
    }
   ],
   "source": [
    "if compute_fluxpoints:\n",
    "\n",
    "    esti_N  = FluxPointsEstimator(energy_edges= energy_edges,\n",
    "                               reoptimize = True)\n",
    "    ## modify the covariance matrix, because only one nuisance parameter here\n",
    "    penalising_covmatrix = [[1/sigma_a**2]]\n",
    "    penalising_invcovmatrix =  penalising_covmatrix\n",
    "    dataset_asimov_N.penalising_invcovmatrix = penalising_invcovmatrix\n",
    "    with dataset_asimov_N.models.restore_status():\n",
    "        dataset_asimov_N.models.parameters.freeze_all()\n",
    "        dataset_asimov_N.models.parameters['amplitude_nuisance'].frozen = False\n",
    "        fluxpoints_asimov_N = esti_N.run(dataset_asimov_N)\n",
    "\n",
    "    fluxpoints_asimov_N.write(\"data/6_fluxpoints_asimov_N.fits\", overwrite = True)\n",
    "else:\n",
    "    fluxpoints_asimov_N = FluxPoints.read(\"data/6_fluxpoints_asimov_N.fits\",)\n",
    "    "
   ]
  },
  {
   "cell_type": "code",
   "execution_count": 33,
   "id": "55710c06",
   "metadata": {},
   "outputs": [],
   "source": [
    "def plot_shifted (ff, shift):\n",
    "    return ff.energy_ref* shift, ff.e2dnde.data[:,0,0],  ff.e2dnde_err.data[:,0,0], "
   ]
  },
  {
   "cell_type": "code",
   "execution_count": 34,
   "id": "8cf582df",
   "metadata": {},
   "outputs": [
    {
     "name": "stdout",
     "output_type": "stream",
     "text": [
      "index\n",
      "amplitude\n",
      "index\n",
      "amplitude\n"
     ]
    },
    {
     "data": {
      "image/png": "[encoded data removed]",
      "text/plain": [
       "<Figure size 500x300 with 1 Axes>"
      ]
     },
     "metadata": {},
     "output_type": "display_data"
    }
   ],
   "source": [
    "fig, axs = plt.subplots(1,1, figsize = (5,3))\n",
    "dataset_asimov_N.models[0].spectral_model.plot_error(energy_bounds,  energy_power = 2, ax = axs,\n",
    "                                label = \"$1\\sigma$ Nuisance\", facecolor = \"green\", alpha = 0.5)    \n",
    "    \n",
    "dataset_asimov.models[0].spectral_model.plot_error(energy_bounds,  energy_power = 2, ax = axs,\n",
    "                                label = \"$1\\sigma$ Standard\", facecolor = \"red\", alpha = 0.6)\n",
    "\n",
    "dataset_standard.models[0].spectral_model.plot(energy_bounds, linestyle=':', energy_power = 2, ax = axs,\n",
    "                                label = \"Input\", color = \"black\", )\n",
    "\n",
    "\n",
    "\n",
    "\n",
    "e_, f_, ferr_ = plot_shifted(fluxpoints_asimov, 1.1)\n",
    "axs.errorbar(e_, f_, yerr = ferr_, color = 'darkred', fmt='o')  \n",
    "\n",
    "e_, f_, ferr_ = plot_shifted(fluxpoints_asimov_N, 1.)\n",
    "axs.errorbar(e_, f_, yerr = ferr_, color = 'darkgreen', fmt='o')  \n",
    "\n",
    "\n",
    "axs.legend()\n",
    "plt.tight_layout()\n",
    "if savefig:\n",
    "    fig.savefig(f\"plots/6_fluxpoints_asimov.\"+ picformat)\n"
   ]
  },
  {
   "cell_type": "code",
   "execution_count": null,
   "id": "6e0dc672",
   "metadata": {},
   "outputs": [],
   "source": []
  }
 ],
 "metadata": {
  "kernelspec": {
   "display_name": "Python 3 (ipykernel)",
   "language": "python",
   "name": "python3"
  },
  "language_info": {
   "codemirror_mode": {
    "name": "ipython",
    "version": 3
   },
   "file_extension": ".py",
   "mimetype": "text/x-python",
   "name": "python",
   "nbconvert_exporter": "python",
   "pygments_lexer": "ipython3",
   "version": "3.8.15"
  },
  "varInspector": {
   "cols": {
    "lenName": 16,
    "lenType": 16,
    "lenVar": 40
   },
   "kernels_config": {
    "python": {
     "delete_cmd_postfix": "",
     "delete_cmd_prefix": "del ",
     "library": "var_list.py",
     "varRefreshCmd": "print(var_dic_list())"
    },
    "r": {
     "delete_cmd_postfix": ") ",
     "delete_cmd_prefix": "rm(",
     "library": "var_list.r",
     "varRefreshCmd": "cat(var_dic_list()) "
    }
   },
   "types_to_exclude": [
    "module",
    "function",
    "builtin_function_or_method",
    "instance",
    "_Feature"
   ],
   "window_display": false
  }
 },
 "nbformat": 4,
 "nbformat_minor": 5
}
