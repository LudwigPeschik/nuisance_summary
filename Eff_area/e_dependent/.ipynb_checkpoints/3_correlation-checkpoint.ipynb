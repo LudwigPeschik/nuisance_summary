{
 "cells": [
  {
   "cell_type": "code",
   "execution_count": 1,
   "id": "c102068e",
   "metadata": {},
   "outputs": [
    {
     "name": "stdout",
     "output_type": "stream",
     "text": [
      "loaded gammapy version: 1.0 \n",
      "Supposed to be 1.0 (21-11-2022)\n"
     ]
    }
   ],
   "source": [
    "import gammapy \n",
    "print(f'loaded gammapy version: {gammapy.__version__} ' )\n",
    "print(f'Supposed to be 1.0 (21-11-2022)' )"
   ]
  },
  {
   "cell_type": "code",
   "execution_count": null,
   "id": "e0c4dcf1",
   "metadata": {
    "execution": {
     "iopub.execute_input": "2022-03-17T11:24:36.091662Z",
     "iopub.status.busy": "2022-03-17T11:24:36.091167Z",
     "iopub.status.idle": "2022-03-17T11:25:00.872876Z",
     "shell.execute_reply": "2022-03-17T11:25:00.871690Z"
    }
   },
   "outputs": [],
   "source": [
    "#get_ipython().system('jupyter nbconvert --to script 1-Nui_Par_Fitting.ipynb')\n",
    "import pyximport\n",
    "\n",
    "pyximport.install()\n",
    "import matplotlib.pyplot as plt\n",
    "import numpy as np\n",
    "import astropy.units as u\n",
    "import gammapy\n",
    "\n",
    "# from gammapy.datasets import MapDataset\n",
    "from gammapy.maps import Map\n",
    "from astropy.coordinates import SkyCoord, Angle\n",
    "from gammapy.modeling import  Parameter, Parameters, Covariance , Fit\n",
    "from gammapy.datasets import MapDataset ,Datasets#, MapDatasetNuisance\n",
    "from gammapy.modeling.models import (\n",
    "    PowerLawSpectralModel,\n",
    "    create_crab_spectral_model,\n",
    "    SkyModel,\n",
    "    PointSpatialModel,\n",
    "    ShellSpatialModel,\n",
    "    GeneralizedGaussianSpatialModel,\n",
    "    TemplateSpatialModel,\n",
    "    LogParabolaSpectralModel,\n",
    "    GaussianSpatialModel,\n",
    "    DiskSpatialModel,\n",
    "    PowerLawNormSpectralModel,\n",
    "    Models,\n",
    "    SpatialModel,\n",
    "    FoVBackgroundModel,\n",
    ")\n",
    "from gammapy.estimators import TSMapEstimator, ExcessMapEstimator\n",
    "\n",
    "from regions import CircleSkyRegion, RectangleSkyRegion\n",
    "import yaml\n",
    "import sys\n",
    "\n",
    "#from my_dataset_maps_20_e import MapDatasetNuisanceE gets imported in Dataset_Creation!\n",
    "#from  my_fit_20 import Fit\n",
    "sys.path.append(\n",
    "    \"/home/hpc/caph/mppi045h/3D_analysis/N_parameters_in_L/nuisance_summary/Eff_area\"\n",
    ")\n",
    "import my_dataset_core_20_e , my_fit_20_e\n",
    "from Dataset_Creation_e_dependent import sys_dataset"
   ]
  },
  {
   "cell_type": "markdown",
   "id": "23adcef0",
   "metadata": {},
   "source": [
    "## Read dataset"
   ]
  },
  {
   "cell_type": "code",
   "execution_count": null,
   "id": "f94dc89c",
   "metadata": {},
   "outputs": [],
   "source": [
    "source = 'Crab'\n",
    "path = '/home/vault/caph/mppi062h/repositories/HESS_3Dbkg_syserror/2-error_in_dataset'\n",
    "path_crab = '/home/hpc/caph/mppi045h/3D_analysis/N_parameters_in_L/nuisance_summary/Crab'\n",
    "\n",
    "\n",
    "dataset_load = MapDataset.read(f'{path}/{source}/stacked.fits')\n",
    "dataset_load = dataset_load.downsample(4)\n",
    "models = Models.read(f\"{path_crab}/standard_model.yml\")\n",
    "model_spectrum  = PowerLawSpectralModel(\n",
    "    index=2.3,\n",
    "    amplitude=\"1e-12 TeV-1 cm-2 s-1\",    )\n",
    "source_model = SkyModel(spatial_model = models['main source'].spatial_model ,\n",
    "                       spectral_model = model_spectrum,\n",
    "                       name = \"Source\")    \n",
    "models = Models(source_model)\n",
    "\n",
    "bkg_model = FoVBackgroundModel(dataset_name=dataset_load.name)\n",
    "bkg_model.parameters['tilt'].frozen  = False\n",
    "models.append(bkg_model)\n",
    "dataset_load.models = models\n",
    "\n",
    "dataset_asimov = dataset_load.copy()\n",
    "dataset_asimov.counts = dataset_load.npred()\n",
    "models = Models(source_model.copy())\n",
    "bkg_model = FoVBackgroundModel(dataset_name=dataset_asimov.name)\n",
    "bkg_model.parameters['tilt'].frozen  = False\n",
    "models.append(bkg_model)\n",
    "dataset_asimov.models = models\n",
    "\n",
    "    \n",
    "dataset_load.counts.sum_over_axes().plot(add_cbar=1)\n",
    "binsize = dataset_load.geoms[\"geom\"].width[1] / dataset_load.geoms[\"geom\"].data_shape[1]\n",
    "print(\n",
    "    \"spatial binsize = \",\n",
    "    binsize\n",
    ")\n",
    "\n",
    "print(dataset_load)"
   ]
  },
  {
   "cell_type": "markdown",
   "id": "2e0399d4",
   "metadata": {},
   "source": [
    "## Single Cases"
   ]
  },
  {
   "cell_type": "code",
   "execution_count": null,
   "id": "92011f5f",
   "metadata": {},
   "outputs": [],
   "source": [
    "factors =[0.08/24] # 4e-3\n",
    "\n",
    "tilts = [0.1]\n",
    "\n",
    "sigma = [factors[0], tilts[0]]\n",
    "rnd = False\n",
    "\n",
    "sys_ = sys_dataset(dataset_asimov, tilts[0], factors[0],tilts[0] ,rnd)\n",
    "dataset_input = sys_.create_dataset()\n",
    "\n"
   ]
  },
  {
   "cell_type": "code",
   "execution_count": null,
   "id": "5bd1ad43",
   "metadata": {
    "scrolled": true
   },
   "outputs": [],
   "source": [
    "datasets = []\n",
    "datasets_N = []\n",
    "\n",
    "for i, factor in enumerate(factors):\n",
    "    print(i, factor)\n",
    "    sys_ = sys_dataset(dataset_asimov, factor, tilts[i] ,rnd)\n",
    "    dataset = sys_.create_dataset()\n",
    "    datasets.append(dataset)\n",
    "\n",
    "    dataset_N = sys_.create_dataset_N(sigma)\n",
    "    datasets_N.append(dataset_N)\n",
    "    "
   ]
  },
  {
   "cell_type": "code",
   "execution_count": null,
   "id": "2a88745f",
   "metadata": {},
   "outputs": [],
   "source": [
    "%%time\n",
    "for i, factor in enumerate(factors):\n",
    "    print(i, factor)\n",
    "    fit = Fit(store_trace=False)\n",
    "    result = fit.run([datasets[i]])\n"
   ]
  },
  {
   "cell_type": "code",
   "execution_count": null,
   "id": "e58e4685",
   "metadata": {
    "scrolled": true
   },
   "outputs": [],
   "source": [
    "%%time\n",
    "for i, factor in enumerate(factors):\n",
    "    fit_N = my_fit_20_e.Fit(store_trace=False)\n",
    "    result_N = fit_N.run([datasets_N[i]])\n",
    "    print(i, factor, datasets_N[i].N_parameters.value)\n"
   ]
  },
  {
   "cell_type": "code",
   "execution_count": null,
   "id": "7735b1ab",
   "metadata": {},
   "outputs": [],
   "source": [
    "sys.path.append(\n",
    "    \"/home/hpc/caph/mppi045h/3D_analysis/N_parameters_in_L/syserror_3d_bkgmodel/4-Fitting_nuisance_and_model_parameters\"\n",
    ")\n",
    "import my_dataset_core_20\n",
    "from  my_dataset_core_20 import Datasets as Datasets_N\n",
    "\n",
    "dd = Datasets_N([datasets_N[0]])\n",
    "dd.parameters.to_table()"
   ]
  },
  {
   "cell_type": "markdown",
   "id": "4f46f3cd",
   "metadata": {},
   "source": [
    "## Correlation"
   ]
  },
  {
   "cell_type": "code",
   "execution_count": null,
   "id": "9054c16a",
   "metadata": {},
   "outputs": [],
   "source": [
    "from  my_fit_20_e import Registry\n",
    "registry= Registry()\n",
    "\n",
    "def covariance_ (fit_compute, datasets_compute):\n",
    "    parameters = Parameters.from_stack([datasets_compute.models.parameters, \n",
    "                                        datasets_compute.N_parameters])\n",
    "    parameters = parameters.free_parameters\n",
    "    kwargs = fit_compute.covariance_opts.copy()\n",
    "    kwargs[\"minuit\"] = fit_compute.minuit\n",
    "    backend = kwargs.pop(\"backend\", fit_compute.backend)\n",
    "    compute = registry.get(\"covariance\", backend)\n",
    "\n",
    "    with parameters.restore_status():\n",
    "        if fit_compute.backend == \"minuit\":\n",
    "            method = \"hesse\"\n",
    "        else:\n",
    "            method = \"\"\n",
    "        factor_matrix, info = compute(\n",
    "            parameters=parameters, function=datasets_compute.stat_sum, **kwargs\n",
    "        )\n",
    "        covariance = Covariance.from_factor_matrix(\n",
    "            parameters=parameters, matrix=factor_matrix\n",
    "        )\n",
    "\n",
    "        #covariance = covariance.get_subcovariance(datasets_compute.models.parameters)\n",
    "    return covariance"
   ]
  },
  {
   "cell_type": "code",
   "execution_count": null,
   "id": "b30c45fc",
   "metadata": {},
   "outputs": [],
   "source": [
    "covariance  = covariance_(fit_N, datasets_N[0])\n",
    "covariance.plot_correlation()\n",
    "\n",
    "\n",
    "eff_area_error = np.sqrt(covariance.get_subcovariance([datasets_N[0].N_parameters[0]]))\n",
    "print(eff_area_error)\n",
    "fig = plt.gcf()\n",
    "fig.savefig(\"plots/3_corr_matrix.png\")"
   ]
  },
  {
   "cell_type": "code",
   "execution_count": null,
   "id": "08142693",
   "metadata": {},
   "outputs": [],
   "source": [
    "len(datasets_N[0].models.parameters.free_parameters)"
   ]
  },
  {
   "cell_type": "code",
   "execution_count": null,
   "id": "563e64ca",
   "metadata": {},
   "outputs": [],
   "source": [
    "fit_N"
   ]
  },
  {
   "cell_type": "code",
   "execution_count": null,
   "id": "0e7f0f66",
   "metadata": {},
   "outputs": [],
   "source": []
  }
 ],
 "metadata": {
  "kernelspec": {
   "display_name": "Python 3 (ipykernel)",
   "language": "python",
   "name": "python3"
  },
  "language_info": {
   "codemirror_mode": {
    "name": "ipython",
    "version": 3
   },
   "file_extension": ".py",
   "mimetype": "text/x-python",
   "name": "python",
   "nbconvert_exporter": "python",
   "pygments_lexer": "ipython3",
   "version": "3.9.13"
  },
  "varInspector": {
   "cols": {
    "lenName": 16,
    "lenType": 16,
    "lenVar": 40
   },
   "kernels_config": {
    "python": {
     "delete_cmd_postfix": "",
     "delete_cmd_prefix": "del ",
     "library": "var_list.py",
     "varRefreshCmd": "print(var_dic_list())"
    },
    "r": {
     "delete_cmd_postfix": ") ",
     "delete_cmd_prefix": "rm(",
     "library": "var_list.r",
     "varRefreshCmd": "cat(var_dic_list()) "
    }
   },
   "types_to_exclude": [
    "module",
    "function",
    "builtin_function_or_method",
    "instance",
    "_Feature"
   ],
   "window_display": false
  }
 },
 "nbformat": 4,
 "nbformat_minor": 5
}
