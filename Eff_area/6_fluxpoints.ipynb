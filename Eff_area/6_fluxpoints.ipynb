{
 "cells": [
  {
   "cell_type": "code",
   "execution_count": 1,
   "id": "c102068e",
   "metadata": {},
   "outputs": [
    {
     "name": "stdout",
     "output_type": "stream",
     "text": [
      "loaded gammapy version: 1.0 \n",
      "Supposed to be 1.0 (21-11-2022)\n"
     ]
    }
   ],
   "source": [
    "import gammapy \n",
    "print(f'loaded gammapy version: {gammapy.__version__} ' )\n",
    "print(f'Supposed to be 1.0 (21-11-2022)' )"
   ]
  },
  {
   "cell_type": "code",
   "execution_count": 22,
   "id": "e0c4dcf1",
   "metadata": {
    "execution": {
     "iopub.execute_input": "2022-03-17T11:24:36.091662Z",
     "iopub.status.busy": "2022-03-17T11:24:36.091167Z",
     "iopub.status.idle": "2022-03-17T11:25:00.872876Z",
     "shell.execute_reply": "2022-03-17T11:25:00.871690Z"
    }
   },
   "outputs": [],
   "source": [
    "#get_ipython().system('jupyter nbconvert --to script 1-Nui_Par_Fitting.ipynb')\n",
    "import pyximport\n",
    "\n",
    "pyximport.install()\n",
    "import matplotlib.pyplot as plt\n",
    "import numpy as np\n",
    "import astropy.units as u\n",
    "import gammapy\n",
    "\n",
    "# from gammapy.datasets import MapDataset\n",
    "from gammapy.maps import Map\n",
    "from astropy.coordinates import SkyCoord, Angle\n",
    "from gammapy.modeling import Fit, Parameter, Parameters, Covariance\n",
    "from gammapy.datasets import MapDataset ,Datasets#, MapDatasetNuisance\n",
    "from gammapy.modeling.models import (\n",
    "    PowerLawSpectralModel,\n",
    "    create_crab_spectral_model,\n",
    "    SkyModel,\n",
    "    PointSpatialModel,\n",
    "    ShellSpatialModel,\n",
    "    GeneralizedGaussianSpatialModel,\n",
    "    TemplateSpatialModel,\n",
    "    LogParabolaSpectralModel,\n",
    "    GaussianSpatialModel,\n",
    "    DiskSpatialModel,\n",
    "    PowerLawNormSpectralModel,\n",
    "    Models,\n",
    "    SpatialModel,\n",
    "    FoVBackgroundModel,\n",
    ")\n",
    "from gammapy.estimators import TSMapEstimator, ExcessMapEstimator, FluxPointsEstimator\n",
    "\n",
    "from regions import CircleSkyRegion, RectangleSkyRegion\n",
    "import yaml\n",
    "import sys\n",
    "\n",
    "sys.path.append(\n",
    "    \"/home/hpc/caph/mppi045h/3D_analysis/N_parameters_in_L/syserror_3d_bkgmodel/4-Fitting_nuisance_and_model_parameters\"\n",
    ")\n",
    "sys.path.append(\n",
    "    \"/home/hpc/caph/mppi045h/3D_analysis\"\n",
    ")\n",
    "#from my_dataset_maps_20_e import MapDatasetNuisanceE\n",
    "#from  my_fit_20 import Fit\n",
    "import my_dataset_core_20_e , my_fit_20_e\n",
    "from Dataset_Creation import sys_dataset\n",
    "import upper_limit_18_02\n"
   ]
  },
  {
   "cell_type": "markdown",
   "id": "23adcef0",
   "metadata": {},
   "source": [
    "## Read dataset"
   ]
  },
  {
   "cell_type": "code",
   "execution_count": 3,
   "id": "f94dc89c",
   "metadata": {},
   "outputs": [
    {
     "name": "stdout",
     "output_type": "stream",
     "text": [
      "spatial binsize =  [0.08] deg\n",
      "MapDataset\n",
      "----------\n",
      "\n",
      "  Name                            : f5f4ITBp \n",
      "\n",
      "  Total counts                    : 361333 \n",
      "  Total background counts         : 360331.31\n",
      "  Total excess counts             : 1001.76\n",
      "\n",
      "  Predicted counts                : 361333.07\n",
      "  Predicted background counts     : 360331.34\n",
      "  Predicted excess counts         : 1001.73\n",
      "\n",
      "  Exposure min                    : 2.07e-01 m2 s\n",
      "  Exposure max                    : 2.41e+11 m2 s\n",
      "\n",
      "  Number of total bins            : 540000 \n",
      "  Number of fit bins              : 180191 \n",
      "\n",
      "  Fit statistic type              : cash\n",
      "  Fit statistic value (-2 log(L)) : -753580.09\n",
      "\n",
      "  Number of models                : 2 \n",
      "  Number of parameters            : 11\n",
      "  Number of free parameters       : 5\n",
      "\n",
      "  Component 0: SkyModel\n",
      "  \n",
      "    Name                      : 3gjlvVHe\n",
      "    Datasets names            : None\n",
      "    Spectral model type       : PowerLawSpectralModel\n",
      "    Spatial  model type       : GaussianSpatialModel\n",
      "    Temporal model type       : \n",
      "    Parameters:\n",
      "      index                         :      2.300   +/-    0.00             \n",
      "      amplitude                     :   1.00e-12   +/- 0.0e+00 1 / (cm2 s TeV)\n",
      "      reference             (frozen):      1.000       TeV         \n",
      "      lon_0                 (frozen):     83.631       deg         \n",
      "      lat_0                 (frozen):     22.018       deg         \n",
      "      sigma                         :      0.019   +/-    0.00 deg         \n",
      "      e                     (frozen):      0.000                   \n",
      "      phi                   (frozen):      0.000       deg         \n",
      "  \n",
      "  Component 1: FoVBackgroundModel\n",
      "  \n",
      "    Name                      : f5f4ITBp-bkg\n",
      "    Datasets names            : ['f5f4ITBp']\n",
      "    Spectral model type       : PowerLawNormSpectralModel\n",
      "    Parameters:\n",
      "      norm                          :      1.000   +/-    0.00             \n",
      "      tilt                          :      0.000   +/-    0.00             \n",
      "      reference             (frozen):      1.000       TeV         \n",
      "  \n",
      "  \n"
     ]
    },
    {
     "data": {
      "image/png": "[encoded data removed]",
      "text/plain": [
       "<Figure size 640x480 with 2 Axes>"
      ]
     },
     "metadata": {},
     "output_type": "display_data"
    }
   ],
   "source": [
    "source = 'Crab'\n",
    "path = '/home/vault/caph/mppi062h/repositories/HESS_3Dbkg_syserror/2-error_in_dataset'\n",
    "path_crab = '/home/hpc/caph/mppi045h/3D_analysis/N_parameters_in_L/nuisance_summary/Crab'\n",
    "\n",
    "\n",
    "dataset_load = MapDataset.read(f'{path}/{source}/stacked.fits')\n",
    "dataset_load = dataset_load.downsample(4)\n",
    "models = Models.read(f\"{path_crab}/standard_model.yml\")\n",
    "model_spectrum  = PowerLawSpectralModel(\n",
    "    index=2.3,\n",
    "    amplitude=\"1e-12 TeV-1 cm-2 s-1\",    )\n",
    "source_model = SkyModel(spatial_model = models['main source'].spatial_model ,\n",
    "                       spectral_model = model_spectrum,\n",
    "                       name = \"Source\")    \n",
    "models = Models(source_model)\n",
    "\n",
    "bkg_model = FoVBackgroundModel(dataset_name=dataset_load.name)\n",
    "bkg_model.parameters['tilt'].frozen  = False\n",
    "models.append(bkg_model)\n",
    "dataset_load.models = models\n",
    "\n",
    "dataset_asimov = dataset_load.copy()\n",
    "dataset_asimov.counts = dataset_load.npred()\n",
    "models = Models(source_model.copy())\n",
    "\n",
    "bkg_model = FoVBackgroundModel(dataset_name=dataset_asimov.name)\n",
    "bkg_model.parameters['tilt'].frozen  = False\n",
    "models.append(bkg_model)\n",
    "dataset_asimov.models = models\n",
    "dataset_asimov.models[0].parameters['lon_0'].frozen = True\n",
    "dataset_asimov.models[0].parameters['lat_0'].frozen = True\n",
    "    \n",
    "dataset_load.counts.sum_over_axes().plot(add_cbar=1)\n",
    "binsize = dataset_load.geoms[\"geom\"].width[1] / dataset_load.geoms[\"geom\"].data_shape[1]\n",
    "print(\n",
    "    \"spatial binsize = \",\n",
    "    binsize\n",
    ")\n",
    "\n",
    "print(dataset_asimov)"
   ]
  },
  {
   "cell_type": "markdown",
   "id": "2e0399d4",
   "metadata": {},
   "source": [
    "## Single Cases"
   ]
  },
  {
   "cell_type": "code",
   "execution_count": 4,
   "id": "92011f5f",
   "metadata": {},
   "outputs": [],
   "source": [
    "factors = np.array([-0.1])\n",
    "sigma  =0.1\n",
    "rnd = False\n",
    "sys = sys_dataset(dataset_asimov, factors[0], rnd)\n",
    "dataset_input = sys.create_dataset()\n"
   ]
  },
  {
   "cell_type": "code",
   "execution_count": 5,
   "id": "5bd1ad43",
   "metadata": {
    "scrolled": true
   },
   "outputs": [
    {
     "name": "stdout",
     "output_type": "stream",
     "text": [
      "0 -0.1\n",
      "MapDataset\n",
      "----------\n",
      "\n",
      "  Name                            : HQz_HKFa \n",
      "\n",
      "  Total counts                    : 361333 \n",
      "  Total background counts         : 396364.47\n",
      "  Total excess counts             : -35031.40\n",
      "\n",
      "  Predicted counts                : 397466.39\n",
      "  Predicted background counts     : 396364.49\n",
      "  Predicted excess counts         : 1101.90\n",
      "\n",
      "  Exposure min                    : 2.28e-01 m2 s\n",
      "  Exposure max                    : 2.65e+11 m2 s\n",
      "\n",
      "  Number of total bins            : 540000 \n",
      "  Number of fit bins              : 180191 \n",
      "\n",
      "  Fit statistic type              : cash\n",
      "  Fit statistic value (-2 log(L)) : -750190.92\n",
      "\n",
      "  Number of models                : 2 \n",
      "  Number of parameters            : 11\n",
      "  Number of free parameters       : 5\n",
      "\n",
      "  Component 0: SkyModel\n",
      "  \n",
      "    Name                      : Source\n",
      "    Datasets names            : None\n",
      "    Spectral model type       : PowerLawSpectralModel\n",
      "    Spatial  model type       : GaussianSpatialModel\n",
      "    Temporal model type       : \n",
      "    Parameters:\n",
      "      index                         :      2.300   +/-    0.00             \n",
      "      amplitude                     :   1.00e-12   +/- 0.0e+00 1 / (cm2 s TeV)\n",
      "      reference             (frozen):      1.000       TeV         \n",
      "      lon_0                 (frozen):     83.631       deg         \n",
      "      lat_0                 (frozen):     22.018       deg         \n",
      "      sigma                         :      0.019   +/-    0.00 deg         \n",
      "      e                     (frozen):      0.000                   \n",
      "      phi                   (frozen):      0.000       deg         \n",
      "  \n",
      "  Component 1: FoVBackgroundModel\n",
      "  \n",
      "    Name                      : HQz_HKFa-bkg\n",
      "    Datasets names            : ['HQz_HKFa']\n",
      "    Spectral model type       : PowerLawNormSpectralModel\n",
      "    Parameters:\n",
      "      norm                          :      1.000   +/-    0.00             \n",
      "      tilt                          :      0.000   +/-    0.00             \n",
      "      reference             (frozen):      1.000       TeV         \n",
      "  \n",
      "  \n"
     ]
    }
   ],
   "source": [
    "datasets = []\n",
    "datasets_N = []\n",
    "\n",
    "for i, factor in enumerate(factors):\n",
    "    print(i, factor)\n",
    "    sys = sys_dataset(dataset_asimov, factor, rnd)\n",
    "    dataset = sys.create_dataset()\n",
    "    dataset.models[0].parameters['lon_0'].frozen = True\n",
    "    dataset.models[0].parameters['lat_0'].frozen = True\n",
    "    datasets.append(dataset)\n",
    "\n",
    "    dataset_N = sys.create_dataset_N(sigma)\n",
    "    dataset_N.models[0].parameters['lon_0'].frozen = True\n",
    "    dataset_N.models[0].parameters['lat_0'].frozen = True\n",
    "    datasets_N.append(dataset_N)\n",
    "print(dataset)   "
   ]
  },
  {
   "cell_type": "code",
   "execution_count": 6,
   "id": "2a88745f",
   "metadata": {},
   "outputs": [
    {
     "name": "stdout",
     "output_type": "stream",
     "text": [
      "0 -0.1\n",
      "CPU times: user 52 µs, sys: 0 ns, total: 52 µs\n",
      "Wall time: 49.1 µs\n"
     ]
    }
   ],
   "source": [
    "%%time\n",
    "for i, factor in enumerate(factors):\n",
    "    print(i, factor)\n",
    "    fit = my_fit_20_e.Fit(store_trace=False)\n",
    "    #result = fit.run([datasets[i]])\n"
   ]
  },
  {
   "cell_type": "code",
   "execution_count": 7,
   "id": "e58e4685",
   "metadata": {
    "scrolled": true
   },
   "outputs": [
    {
     "name": "stdout",
     "output_type": "stream",
     "text": [
      "CPU times: user 6 µs, sys: 6 µs, total: 12 µs\n",
      "Wall time: 14.3 µs\n"
     ]
    }
   ],
   "source": [
    "%%time\n",
    "for i, factor in enumerate(factors):\n",
    "    fit_N = my_fit_20_e.Fit(store_trace=False)\n",
    "    #result_N = fit_N.run([datasets_N[i]])\n",
    "    #print(i, factor, datasets_N[i].N_parameters.value)\n"
   ]
  },
  {
   "cell_type": "markdown",
   "id": "de8087a2",
   "metadata": {},
   "source": [
    "## Fluxpoints"
   ]
  },
  {
   "cell_type": "code",
   "execution_count": 25,
   "id": "309f332d",
   "metadata": {
    "scrolled": false
   },
   "outputs": [],
   "source": [
    "import my_estimators_points_sed_1_e\n",
    "datasets_fluxpoints_N = my_dataset_core_20_e.Datasets(datasets_N[0])\n",
    "energy_edges  = np.logspace(-1,2,5) * u.TeV\n",
    "\n",
    "esti_N = my_estimators_points_sed_1_e.FluxPointsEstimator(energy_edges=energy_edges)\n",
    "fpoi_N = esti_N.run(datasets_fluxpoints_N)"
   ]
  },
  {
   "cell_type": "code",
   "execution_count": 26,
   "id": "c16c948e",
   "metadata": {},
   "outputs": [
    {
     "data": {
      "text/html": [
       "<div><i>Table length=4</i>\n",
       "<table id=\"table140504314153904\" class=\"table-striped table-bordered table-condensed\">\n",
       "<thead><tr><th>e_ref</th><th>e_min</th><th>e_max</th><th>ref_dnde</th><th>ref_flux</th><th>ref_eflux</th><th>norm</th><th>norm_err</th><th>ts</th><th>sqrt_ts</th><th>npred</th><th>npred_excess</th><th>stat</th><th>is_ul</th><th>counts</th><th>success</th></tr></thead>\n",
       "<thead><tr><th>TeV</th><th>TeV</th><th>TeV</th><th>1 / (cm2 s TeV)</th><th>1 / (cm2 s)</th><th>TeV / (cm2 s)</th><th></th><th></th><th></th><th></th><th></th><th></th><th></th><th></th><th></th><th></th></tr></thead>\n",
       "<thead><tr><th>float64</th><th>float64</th><th>float64</th><th>float64</th><th>float64</th><th>float64</th><th>float64</th><th>float64</th><th>float64</th><th>float64</th><th>float64[1]</th><th>float32[1]</th><th>float64</th><th>bool</th><th>float64[1]</th><th>bool</th></tr></thead>\n",
       "<tr><td>0.23713737056616557</td><td>0.10000000000000002</td><td>0.5623413251903492</td><td>2.7384196342643593e-11</td><td>1.3722410853732415e-11</td><td>2.6892002917728694e-12</td><td>0.08516014054113985</td><td>0.9164191295677903</td><td>0.008738811016883119</td><td>0.09348160790702692</td><td>9469.70756182559</td><td>0.8820045</td><td>3802.533055591828</td><td>False</td><td>8617.0</td><td>True</td></tr>\n",
       "<tr><td>1.3335214321633242</td><td>0.5623413251903492</td><td>3.1622776601683795</td><td>5.158221650723056e-13</td><td>1.4535514815229325e-12</td><td>1.6018548101762683e-12</td><td>0.580984387891505</td><td>0.07213306453722529</td><td>76.61405388079584</td><td>8.752945440295846</td><td>301990.89822043286</td><td>445.22244</td><td>-769791.9027585358</td><td>False</td><td>274829.0</td><td>True</td></tr>\n",
       "<tr><td>7.498942093324559</td><td>3.1622776601683795</td><td>17.78279410038923</td><td>9.716279515771063e-15</td><td>1.5396798215401341e-13</td><td>9.541642698518525e-13</td><td>0.7261789302511774</td><td>0.09583246676804498</td><td>81.49092495521836</td><td>9.02723240839729</td><td>75909.64654456575</td><td>206.79916</td><td>-18325.437466657775</td><td>False</td><td>69079.0</td><td>True</td></tr>\n",
       "<tr><td>42.16965034285825</td><td>17.78279410038923</td><td>100.00000000000004</td><td>1.8302061063110551e-16</td><td>1.6309115865466914e-14</td><td>5.683595342587479e-13</td><td>0.8151296519548857</td><td>0.2102582604742351</td><td>27.88090763965738</td><td>5.28023746053692</td><td>9680.104161036346</td><td>32.96517</td><td>34084.28503254343</td><td>False</td><td>8806.0</td><td>True</td></tr>\n",
       "</table></div>"
      ],
      "text/plain": [
       "<Table length=4>\n",
       "       e_ref               e_min              e_max               ref_dnde               ref_flux        ...         stat        is_ul   counts   success\n",
       "        TeV                 TeV                TeV            1 / (cm2 s TeV)          1 / (cm2 s)       ...                                             \n",
       "      float64             float64            float64              float64                float64         ...       float64        bool float64[1]   bool \n",
       "------------------- ------------------- ------------------ ---------------------- ---------------------- ... ------------------- ----- ---------- -------\n",
       "0.23713737056616557 0.10000000000000002 0.5623413251903492 2.7384196342643593e-11 1.3722410853732415e-11 ...   3802.533055591828 False     8617.0    True\n",
       " 1.3335214321633242  0.5623413251903492 3.1622776601683795  5.158221650723056e-13 1.4535514815229325e-12 ...  -769791.9027585358 False   274829.0    True\n",
       "  7.498942093324559  3.1622776601683795  17.78279410038923  9.716279515771063e-15 1.5396798215401341e-13 ... -18325.437466657775 False    69079.0    True\n",
       "  42.16965034285825   17.78279410038923 100.00000000000004 1.8302061063110551e-16 1.6309115865466914e-14 ...   34084.28503254343 False     8806.0    True"
      ]
     },
     "execution_count": 26,
     "metadata": {},
     "output_type": "execute_result"
    }
   ],
   "source": [
    "fpoi_N.to_table()"
   ]
  },
  {
   "cell_type": "code",
   "execution_count": 27,
   "id": "f97b9f2b",
   "metadata": {},
   "outputs": [],
   "source": [
    "datasets_fluxpoints = Datasets(datasets[0])\n",
    "\n",
    "esti = FluxPointsEstimator(energy_edges=energy_edges)\n",
    "fpoi = esti.run(datasets_fluxpoints)"
   ]
  },
  {
   "cell_type": "code",
   "execution_count": 28,
   "id": "948c77ad",
   "metadata": {},
   "outputs": [
    {
     "data": {
      "text/plain": [
       "<AxesSubplot: xlabel='Energy [TeV]', ylabel='dnde [1 / (cm2 s TeV)]'>"
      ]
     },
     "execution_count": 28,
     "metadata": {},
     "output_type": "execute_result"
    },
    {
     "data": {
      "image/png": "[encoded data removed]",
      "text/plain": [
       "<Figure size 640x480 with 1 Axes>"
      ]
     },
     "metadata": {},
     "output_type": "display_data"
    }
   ],
   "source": [
    "ax = fpoi_N.plot()\n",
    "fpoi.plot(ax = ax)"
   ]
  },
  {
   "cell_type": "code",
   "execution_count": null,
   "id": "19f52c1e",
   "metadata": {},
   "outputs": [],
   "source": []
  },
  {
   "cell_type": "code",
   "execution_count": null,
   "id": "a941eed1",
   "metadata": {},
   "outputs": [],
   "source": []
  }
 ],
 "metadata": {
  "kernelspec": {
   "display_name": "Python 3 (ipykernel)",
   "language": "python",
   "name": "python3"
  },
  "language_info": {
   "codemirror_mode": {
    "name": "ipython",
    "version": 3
   },
   "file_extension": ".py",
   "mimetype": "text/x-python",
   "name": "python",
   "nbconvert_exporter": "python",
   "pygments_lexer": "ipython3",
   "version": "3.9.13"
  },
  "varInspector": {
   "cols": {
    "lenName": 16,
    "lenType": 16,
    "lenVar": 40
   },
   "kernels_config": {
    "python": {
     "delete_cmd_postfix": "",
     "delete_cmd_prefix": "del ",
     "library": "var_list.py",
     "varRefreshCmd": "print(var_dic_list())"
    },
    "r": {
     "delete_cmd_postfix": ") ",
     "delete_cmd_prefix": "rm(",
     "library": "var_list.r",
     "varRefreshCmd": "cat(var_dic_list()) "
    }
   },
   "types_to_exclude": [
    "module",
    "function",
    "builtin_function_or_method",
    "instance",
    "_Feature"
   ],
   "window_display": false
  }
 },
 "nbformat": 4,
 "nbformat_minor": 5
}
