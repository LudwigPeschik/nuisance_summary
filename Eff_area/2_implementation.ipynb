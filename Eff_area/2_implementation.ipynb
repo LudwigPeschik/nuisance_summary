{
 "cells": [
  {
   "cell_type": "code",
   "execution_count": 1,
   "id": "c102068e",
   "metadata": {},
   "outputs": [
    {
     "name": "stdout",
     "output_type": "stream",
     "text": [
      "loaded gammapy version: 1.0 \n",
      "Supposed to be 1.0 (21-12-2022)\n"
     ]
    }
   ],
   "source": [
    "import gammapy \n",
    "print(f'loaded gammapy version: {gammapy.__version__} ' )\n",
    "print(f'Supposed to be 1.0 (21-12-2022)' )"
   ]
  },
  {
   "cell_type": "markdown",
   "id": "29e7f721",
   "metadata": {},
   "source": [
    "$\\mathcal{L} = \\exp(-\\lambda) \\frac{1}{n!} \\lambda ^n$ \\\n",
    "for easier minimalisation: \\\n",
    "$-2 \\log (\\mathcal{L})= - 2 n \\log (\\lambda) + 2 \\lambda $"
   ]
  },
  {
   "cell_type": "code",
   "execution_count": 2,
   "id": "e0c4dcf1",
   "metadata": {
    "execution": {
     "iopub.execute_input": "2022-03-17T11:24:36.091662Z",
     "iopub.status.busy": "2022-03-17T11:24:36.091167Z",
     "iopub.status.idle": "2022-03-17T11:25:00.872876Z",
     "shell.execute_reply": "2022-03-17T11:25:00.871690Z"
    }
   },
   "outputs": [],
   "source": [
    "#get_ipython().system('jupyter nbconvert --to script 1-Nui_Par_Fitting.ipynb')\n",
    "import pyximport\n",
    "\n",
    "pyximport.install()\n",
    "import matplotlib.pyplot as plt\n",
    "import numpy as np\n",
    "import astropy.units as u\n",
    "import gammapy\n",
    "\n",
    "# from gammapy.datasets import MapDataset\n",
    "from gammapy.maps import Map\n",
    "from astropy.coordinates import SkyCoord, Angle\n",
    "from gammapy.modeling import Fit, Parameter, Parameters, Covariance\n",
    "from gammapy.datasets import MapDataset ,Datasets#, MapDatasetNuisance\n",
    "from gammapy.modeling.models import (\n",
    "    PowerLawSpectralModel,\n",
    "    create_crab_spectral_model,\n",
    "    SkyModel,\n",
    "    PointSpatialModel,\n",
    "    ShellSpatialModel,\n",
    "    GeneralizedGaussianSpatialModel,\n",
    "    TemplateSpatialModel,\n",
    "    LogParabolaSpectralModel,\n",
    "    GaussianSpatialModel,\n",
    "    DiskSpatialModel,\n",
    "    PowerLawNormSpectralModel,\n",
    "    Models,\n",
    "    SpatialModel,\n",
    "    FoVBackgroundModel,\n",
    ")\n",
    "from gammapy.estimators import TSMapEstimator, ExcessMapEstimator\n",
    "\n",
    "from regions import CircleSkyRegion, RectangleSkyRegion\n",
    "import yaml\n",
    "import sys\n",
    "\n",
    "sys.path.append(\n",
    "    \"/home/hpc/caph/mppi045h/3D_analysis/N_parameters_in_L/syserror_3d_bkgmodel/4-Fitting_nuisance_and_model_parameters\"\n",
    ")\n",
    "#from my_dataset_maps_20_e import MapDatasetNuisanceE\n",
    "from  my_fit_20 import Fit\n",
    "import my_dataset_core_20_e , my_fit_20_e\n",
    "from Dataset_Creation import sys_dataset\n"
   ]
  },
  {
   "cell_type": "markdown",
   "id": "23adcef0",
   "metadata": {},
   "source": [
    "## Read dataset"
   ]
  },
  {
   "cell_type": "code",
   "execution_count": 3,
   "id": "f94dc89c",
   "metadata": {},
   "outputs": [
    {
     "name": "stdout",
     "output_type": "stream",
     "text": [
      "spatial binsize =  [0.08] deg\n",
      "MapDataset\n",
      "----------\n",
      "\n",
      "  Name                            : ESvCKe99 \n",
      "\n",
      "  Total counts                    : 388209 \n",
      "  Total background counts         : 360331.31\n",
      "  Total excess counts             : 27877.69\n",
      "\n",
      "  Predicted counts                : 361333.07\n",
      "  Predicted background counts     : 360331.34\n",
      "  Predicted excess counts         : 1001.73\n",
      "\n",
      "  Exposure min                    : 2.07e-01 m2 s\n",
      "  Exposure max                    : 2.41e+11 m2 s\n",
      "\n",
      "  Number of total bins            : 540000 \n",
      "  Number of fit bins              : 180191 \n",
      "\n",
      "  Fit statistic type              : cash\n",
      "  Fit statistic value (-2 log(L)) : -924522.99\n",
      "\n",
      "  Number of models                : 2 \n",
      "  Number of parameters            : 11\n",
      "  Number of free parameters       : 7\n",
      "\n",
      "  Component 0: SkyModel\n",
      "  \n",
      "    Name                      : Source\n",
      "    Datasets names            : None\n",
      "    Spectral model type       : PowerLawSpectralModel\n",
      "    Spatial  model type       : GaussianSpatialModel\n",
      "    Temporal model type       : \n",
      "    Parameters:\n",
      "      index                         :      2.300   +/-    0.00             \n",
      "      amplitude                     :   1.00e-12   +/- 0.0e+00 1 / (cm2 s TeV)\n",
      "      reference             (frozen):      1.000       TeV         \n",
      "      lon_0                         :     83.631   +/-    0.00 deg         \n",
      "      lat_0                         :     22.018   +/-    0.00 deg         \n",
      "      sigma                         :      0.019   +/-    0.00 deg         \n",
      "      e                     (frozen):      0.000                   \n",
      "      phi                   (frozen):      0.000       deg         \n",
      "  \n",
      "  Component 1: FoVBackgroundModel\n",
      "  \n",
      "    Name                      : ESvCKe99-bkg\n",
      "    Datasets names            : ['ESvCKe99']\n",
      "    Spectral model type       : PowerLawNormSpectralModel\n",
      "    Parameters:\n",
      "      norm                          :      1.000   +/-    0.00             \n",
      "      tilt                          :      0.000   +/-    0.00             \n",
      "      reference             (frozen):      1.000       TeV         \n",
      "  \n",
      "  \n"
     ]
    },
    {
     "data": {
      "image/png": "[encoded data removed]",
      "text/plain": [
       "<Figure size 640x480 with 2 Axes>"
      ]
     },
     "metadata": {},
     "output_type": "display_data"
    }
   ],
   "source": [
    "source = 'Crab'\n",
    "path = '/home/vault/caph/mppi062h/repositories/HESS_3Dbkg_syserror/2-error_in_dataset'\n",
    "path_crab = '/home/hpc/caph/mppi045h/3D_analysis/N_parameters_in_L/nuisance_summary/Crab'\n",
    "\n",
    "\n",
    "dataset_load = MapDataset.read(f'{path}/{source}/stacked.fits')\n",
    "dataset_load = dataset_load.downsample(4)\n",
    "models = Models.read(f\"{path_crab}/standard_model.yml\")\n",
    "model_spectrum  = PowerLawSpectralModel(\n",
    "    index=2.3,\n",
    "    amplitude=\"1e-12 TeV-1 cm-2 s-1\",    )\n",
    "source_model = SkyModel(spatial_model = models['main source'].spatial_model ,\n",
    "                       spectral_model = model_spectrum,\n",
    "                       name = \"Source\")    \n",
    "models = Models(source_model)\n",
    "\n",
    "bkg_model = FoVBackgroundModel(dataset_name=dataset_load.name)\n",
    "bkg_model.parameters['tilt'].frozen  = False\n",
    "models.append(bkg_model)\n",
    "dataset_load.models = models\n",
    "\n",
    "dataset_asimov = dataset_load.copy()\n",
    "dataset_asimov.counts = dataset_load.npred()\n",
    "models = Models(source_model.copy(name=\"Source\"))\n",
    "bkg_model = FoVBackgroundModel(dataset_name=dataset_asimov.name)\n",
    "bkg_model.parameters['tilt'].frozen  = False\n",
    "models.append(bkg_model)\n",
    "dataset_asimov.models = models\n",
    "\n",
    "    \n",
    "dataset_load.counts.sum_over_axes().plot(add_cbar=1)\n",
    "binsize = dataset_load.geoms[\"geom\"].width[1] / dataset_load.geoms[\"geom\"].data_shape[1]\n",
    "print(\n",
    "    \"spatial binsize = \",\n",
    "    binsize\n",
    ")\n",
    "\n",
    "print(dataset_load)"
   ]
  },
  {
   "cell_type": "markdown",
   "id": "2e0399d4",
   "metadata": {},
   "source": [
    "## Asimov Cases"
   ]
  },
  {
   "cell_type": "code",
   "execution_count": 4,
   "id": "007fe486",
   "metadata": {},
   "outputs": [],
   "source": [
    "factor_neg = -0.1\n",
    "factor_pos = +0.1\n",
    "sigma = 0.1"
   ]
  },
  {
   "cell_type": "code",
   "execution_count": 5,
   "id": "8fad8945",
   "metadata": {},
   "outputs": [],
   "source": [
    "sys_d_cor = sys_dataset(dataset_asimov, 0, False)\n",
    "dataset_cor_N = sys_d_cor.create_dataset_N(sigma)\n",
    "\n",
    "sys_d_neg = sys_dataset(dataset_asimov, factor_neg, False)\n",
    "dataset_neg_N = sys_d_neg.create_dataset_N(sigma)\n",
    "\n",
    "sys_d_pos = sys_dataset(dataset_asimov, factor_pos, False)\n",
    "dataset_pos_N = sys_d_pos.create_dataset_N(sigma)\n",
    "\n"
   ]
  },
  {
   "cell_type": "code",
   "execution_count": 6,
   "id": "03175daf",
   "metadata": {
    "scrolled": true
   },
   "outputs": [
    {
     "name": "stdout",
     "output_type": "stream",
     "text": [
      "corr\n",
      "neg\n",
      "pos\n",
      "CPU times: user 2min 8s, sys: 11.9 s, total: 2min 20s\n",
      "Wall time: 2min 21s\n"
     ]
    }
   ],
   "source": [
    "%%time\n",
    "print(\"corr\")\n",
    "fit_cor = Fit(store_trace=False)\n",
    "result_cor = fit_cor.run([dataset_cor_N])\n",
    "print(\"neg\")\n",
    "fit_neg = Fit(store_trace=False)\n",
    "result_neg = fit_neg.run([dataset_neg_N])\n",
    "print(\"pos\")\n",
    "fit_pos = Fit(store_trace=False)\n",
    "result_pos = fit_pos.run([dataset_pos_N])"
   ]
  },
  {
   "cell_type": "code",
   "execution_count": 7,
   "id": "06d4f028",
   "metadata": {},
   "outputs": [
    {
     "name": "stdout",
     "output_type": "stream",
     "text": [
      "best fit amplitude\n",
      "====\n",
      "Input\n",
      "1e-12 pm 0.0\n",
      "====\n",
      "9.54178871443341e-13 pm 8.934687894685469e-14\n",
      "1.0000000524597264e-12 pm 9.289878424493858e-14\n",
      "1.0547815635705456e-12 pm 9.912966365017649e-14\n",
      "\n",
      "best fit Index\n",
      "====\n",
      "Input\n",
      "2.3 pm 0.0\n",
      "====\n",
      "2.3004302733511737 pm 0.06153756557426262\n",
      "2.300000150477316 pm 0.06149548264978304\n",
      "2.2999009641672514 pm 0.061526618780557485\n",
      "\n",
      "Best Fit bkg Norm\n",
      "====\n",
      "Input\n",
      "1.0 pm 0\n",
      "====\n",
      "0.9533780677706178 pm 0.022455763667079808\n",
      "1.0000000033216208 pm 0.02356184370546478\n",
      "1.054232467163105 pm 0.02482891175013473\n"
     ]
    }
   ],
   "source": [
    "datasets_short = [dataset_neg_N, dataset_cor_N, dataset_pos_N]\n",
    "print(\"best fit amplitude\")\n",
    "amplitudes_N = []\n",
    "m = dataset_asimov.models['Source']\n",
    "value = m.parameters['amplitude'].value \n",
    "error = m.parameters['amplitude'].error\n",
    "amplitudes_N.append((value, error))\n",
    "print('====')\n",
    "print('Input')\n",
    "print(f'{value} pm {error}')\n",
    "print('====')\n",
    "for d in datasets_short:\n",
    "    m = d.models['Source']\n",
    "    value = m.parameters['amplitude'].value \n",
    "    error = m.parameters['amplitude'].error\n",
    "    amplitudes_N.append((value, error))\n",
    "    print(f'{value} pm {error}')\n",
    "print()\n",
    "print(\"best fit Index\")\n",
    "indices_N = []\n",
    "m = dataset_asimov.models['Source']\n",
    "value = m.parameters['index'].value \n",
    "error = m.parameters['index'].error\n",
    "indices_N.append((value, error))\n",
    "print('====')\n",
    "print('Input')\n",
    "print(f'{value} pm {error}')\n",
    "print('====')\n",
    "for d in datasets_short:\n",
    "    m = d.models['Source']\n",
    "    value = m.parameters['index'].value \n",
    "    error = m.parameters['index'].error\n",
    "    indices_N.append((value, error))\n",
    "    print(f'{value} pm {error}')\n",
    "print()\n",
    "\n",
    "print(\"Best Fit bkg Norm\")\n",
    "norms_N = []\n",
    "value = dataset_asimov.background_model.parameters['norm'].value \n",
    "error = dataset_asimov.background_model.parameters['norm'].error\n",
    "norms_N.append((value, error))\n",
    "print('====')\n",
    "print('Input')\n",
    "print(f'{value} pm {error}')\n",
    "print('====')\n",
    "for d in datasets_short:\n",
    "    value = d.background_model.parameters['norm'].value \n",
    "    error = d.background_model.parameters['norm'].error\n",
    "    print(f'{value} pm {error}')\n",
    "    norms_N.append((value, error))\n",
    "    "
   ]
  },
  {
   "cell_type": "code",
   "execution_count": null,
   "id": "ae8bc7ba",
   "metadata": {},
   "outputs": [],
   "source": [
    "fig, axs = plt.subplots(3,1)\n",
    "\n",
    "axs[0].set_title(\"BKG Norm\")\n",
    "axs[1].set_title(\"Signal Amplitude\")\n",
    "axs[2].set_title(\"Signal Index\")\n",
    "\n",
    "\n",
    "labels_sys = [ '-10%', '0%', '10%']\n",
    "label = \"Nuisance Asimov Fit\"\n",
    "\n",
    "for i, a in enumerate(norms_N[1:]):\n",
    "    axs[0].errorbar(x= i+1, y = a[0], yerr = a[1], fmt= 'x', color =  'green',markersize=14,\n",
    "                   label = label)\n",
    "axs[0].hlines( norms_N[0][0], 1, 3, label = \"input\")\n",
    "\n",
    "for i, a in enumerate(amplitudes_N[1:]):\n",
    "    axs[1].errorbar(x= i+1, y = a[0], yerr = a[1], fmt= 'x', color =  'green',markersize=14,\n",
    "                   label = label)\n",
    "axs[1].hlines( amplitudes_N[0][0], 1, 3, label = \"input\")\n",
    "\n",
    "for i, a in enumerate(indices_N[1:]):\n",
    "    axs[2].errorbar(x= i+1, y = a[0], yerr = a[1], fmt= 'x', color =  'green',markersize=14,\n",
    "                   label = label)\n",
    "axs[2].hlines( indices_N[0][0], 1, 3, label = \"input\")\n",
    "\n",
    "plt.tight_layout()\n",
    "for a in axs:\n",
    "    handles, labels = plt.gca().get_legend_handles_labels()\n",
    "    by_label = dict(zip(labels, handles))\n",
    "    a.legend(by_label.values(), by_label.keys(),\n",
    "            loc='center left', bbox_to_anchor=(1, 0.5))\n",
    "    a.set_ylabel('Best Fit'); \n",
    "    a.set_xlabel('Systematic'); \n",
    "    a.set_xticks(np.arange(3)+1,labels_sys)\n",
    "\n",
    "plt.tight_layout()    \n",
    "fig.savefig(\"best_fit_parameters_corr.pdf\")   \n"
   ]
  },
  {
   "cell_type": "code",
   "execution_count": null,
   "id": "deef00ee",
   "metadata": {},
   "outputs": [],
   "source": [
    "true_energy = dataset_cor_N.exposure.geom.axes[0].center.value\n",
    "\n",
    "\n",
    "fig,ax = plt.subplots()\n",
    "energy_bounds = energy_bounds =(true_energy[0], true_energy[-1] ) * u.TeV\n",
    "dataset_asimov.models['Source'].spectral_model.plot(energy_bounds, energy_power = 2, ax =ax, \n",
    "                                label = \"Input\", color = 'black', linewidth = 3, linestyle ='dotted')\n",
    "\n",
    "dataset_neg_N.models['Source'].spectral_model.plot(energy_bounds,  energy_power = 2, ax = ax,\n",
    "                                label = \"-10%\")\n",
    "dataset_neg_N.models['Source'].spectral_model.plot_error(energy_bounds,  energy_power = 2, ax = ax,\n",
    "                                                       facecolor='orange')\n",
    "\n",
    "dataset_cor_N.models['Source'].spectral_model.plot(energy_bounds,  energy_power = 2, ax = ax,\n",
    "                                label = \"0%\")\n",
    "                                   \n",
    "dataset_cor_N.models['Source'].spectral_model.plot_error(energy_bounds,  energy_power = 2, ax = ax,\n",
    "                                                       facecolor='orange')\n",
    "\n",
    "\n",
    "                               \n",
    "dataset_pos_N.models['Source'].spectral_model.plot(energy_bounds,  energy_power = 2, ax = ax,\n",
    "                                label = \"+10%\")\n",
    "dataset_pos_N.models['Source'].spectral_model.plot_error(energy_bounds,  energy_power = 2, ax = ax,\n",
    "                                                        facecolor = 'green')\n",
    "\n",
    "\n",
    "plt.legend()\n",
    "\n",
    "plt.title(\"Best Fit Spectrum\")\n",
    "fig = plt.gcf()\n",
    "fig.savefig(\"plots/2_spectrum.pdf\")"
   ]
  },
  {
   "cell_type": "markdown",
   "id": "9a53f60c",
   "metadata": {},
   "source": [
    "## Multiple Poission Draws"
   ]
  },
  {
   "cell_type": "code",
   "execution_count": 8,
   "id": "d075d947",
   "metadata": {},
   "outputs": [],
   "source": [
    "N = 5\n",
    "datasets_cor_N = []\n",
    "datasets_neg_N = []\n",
    "datasets_pos_N = []\n",
    "\n",
    "sys_d_cor_rnd = sys_dataset(dataset_asimov, 0, True)\n",
    "sys_d_neg_rnd = sys_dataset(dataset_asimov, factor_neg, True)\n",
    "sys_d_pos_rnd = sys_dataset(dataset_asimov, factor_pos, True)\n",
    "\n",
    "\n",
    "for n in range(N):\n",
    "    datasets_cor_N.append(sys_d_cor_rnd.create_dataset_N(sigma))\n",
    "    datasets_neg_N.append(sys_d_neg_rnd.create_dataset_N(sigma))\n",
    "    datasets_pos_N.append(sys_d_pos_rnd.create_dataset_N(sigma))\n"
   ]
  },
  {
   "cell_type": "code",
   "execution_count": 10,
   "id": "346c6c21",
   "metadata": {
    "scrolled": true
   },
   "outputs": [
    {
     "name": "stdout",
     "output_type": "stream",
     "text": [
      "CPU times: user 3 µs, sys: 0 ns, total: 3 µs\n",
      "Wall time: 5.72 µs\n"
     ]
    }
   ],
   "source": [
    "%%time\n",
    "fitting_poission_draws = False\n",
    "if fitting_poission_draws:\n",
    "    print(\"Corr\")\n",
    "    for i, d in enumerate(datasets_cor_N):\n",
    "        print(i)\n",
    "        fit_cor = Fit(store_trace=False)\n",
    "        result_cor = fit_cor.run([d])\n",
    "    print(\"Neg\")\n",
    "    for i, d in enumerate( datasets_neg_N):\n",
    "        print(i)\n",
    "        fit_cor = Fit(store_trace=False)\n",
    "        result_cor = fit_cor.run([d])\n",
    "    print(\"Pos\")\n",
    "    for i, d in enumerate (datasets_pos_N):\n",
    "        print(i)\n",
    "        fit_cor = Fit(store_trace=False)\n",
    "        result_cor = fit_cor.run([d])\n",
    "        \n",
    "        \n",
    "    amplitudes_all_N = []\n",
    "    indices_all_N = []\n",
    "    norms_all_N = []\n",
    "\n",
    "    datasets_p = [datasets_neg_N, datasets_cor_N, datasets_pos_N]\n",
    "    for d_case in datasets_p:\n",
    "        print(\"best fit amplitude\")\n",
    "        amplitudes_p = []\n",
    "        print('====')\n",
    "        for d in d_case:\n",
    "            m = d.models['Source']\n",
    "            value = m.parameters['amplitude'].value \n",
    "            error = m.parameters['amplitude'].error\n",
    "            amplitudes_p.append((value, error))\n",
    "            print(f'{value} pm {error}')\n",
    "        print()\n",
    "        print(\"best fit Index\")\n",
    "        indices_p = []\n",
    "        print('====')\n",
    "        for d in d_case:\n",
    "            m = d.models['Source']\n",
    "            value = m.parameters['index'].value \n",
    "            error = m.parameters['index'].error\n",
    "            indices_p.append((value, error))\n",
    "            print(f'{value} pm {error}')\n",
    "        print()\n",
    "\n",
    "        print(\"Best Fit bkg Norm\")\n",
    "        norms_p = []\n",
    "        print('====')\n",
    "        for d in d_case:\n",
    "            value = d.background_model.parameters['norm'].value \n",
    "            error = d.background_model.parameters['norm'].error\n",
    "            print(f'{value} pm {error}')\n",
    "            norms_p.append((value, error))\n",
    "\n",
    "        amplitudes_all_N.append(amplitudes_p)\n",
    "        indices_all_N.append(indices_p)\n",
    "        norms_all_N.append(norms_p)   \n",
    "\n",
    "\n",
    "\n",
    "    with open('data/norms_all_N.yaml', 'w') as file:\n",
    "        documents = yaml.dump(norms_all_N, file)\n",
    "    with open('data/amplitudes_all_N.yaml', 'w') as file:\n",
    "        documents = yaml.dump(amplitudes_all_N, file)\n",
    "    with open('data/indices_all_N.yaml', 'w') as file:\n",
    "        documents = yaml.dump(indices_all_N, file)"
   ]
  },
  {
   "cell_type": "code",
   "execution_count": 11,
   "id": "e585fde8",
   "metadata": {},
   "outputs": [],
   "source": [
    "if fitting_poission_draws ==False:\n",
    "    with open('data/norms_all_N.yaml') as file:\n",
    "        norms_all_N = yaml.load( file, Loader=yaml.FullLoader)\n",
    "    with open('data/amplitudes_all_N.yaml') as file:\n",
    "        amplitudes_all_N = yaml.load( file, Loader=yaml.FullLoader)\n",
    "    with open('data/indices_all_N.yaml') as file:\n",
    "        indices_all_N = yaml.load( file, Loader=yaml.FullLoader)"
   ]
  },
  {
   "cell_type": "markdown",
   "id": "3c9e9616",
   "metadata": {},
   "source": [
    "## Comparison"
   ]
  },
  {
   "cell_type": "code",
   "execution_count": 12,
   "id": "15622dac",
   "metadata": {},
   "outputs": [],
   "source": [
    "with open('data/norms_all.yaml') as file:\n",
    "    norms_all = yaml.load( file, Loader=yaml.FullLoader)\n",
    "with open('data/amplitudes_all.yaml') as file:\n",
    "    amplitudes_all = yaml.load( file, Loader=yaml.FullLoader)\n",
    "with open('data/indices_all.yaml') as file:\n",
    "    indices_all = yaml.load( file, Loader=yaml.FullLoader)\n",
    "\n",
    "with open('data/norms.yaml') as file:\n",
    "    norms = yaml.load( file, Loader=yaml.FullLoader)\n",
    "with open('data/amplitudes.yaml') as file:\n",
    "    amplitudes = yaml.load( file, Loader=yaml.FullLoader)\n",
    "with open('data/indices.yaml') as file:\n",
    "    indices = yaml.load( file, Loader=yaml.FullLoader)\n",
    "    \n"
   ]
  },
  {
   "cell_type": "code",
   "execution_count": 28,
   "id": "ab691424",
   "metadata": {},
   "outputs": [
    {
     "name": "stderr",
     "output_type": "stream",
     "text": [
      "/home/hpc/caph/mppi045h/anaconda3/envs/gammapy-1.0/lib/python3.9/site-packages/matplotlib/axes/_axes.py:1174: RuntimeWarning: All-NaN axis encountered\n",
      "  miny = np.nanmin(masked_verts[..., 1])\n",
      "/home/hpc/caph/mppi045h/anaconda3/envs/gammapy-1.0/lib/python3.9/site-packages/matplotlib/axes/_axes.py:1175: RuntimeWarning: All-NaN axis encountered\n",
      "  maxy = np.nanmax(masked_verts[..., 1])\n"
     ]
    },
    {
     "data": {
      "image/png": "[encoded data removed]",
      "text/plain": [
       "<Figure size 700x700 with 3 Axes>"
      ]
     },
     "metadata": {},
     "output_type": "display_data"
    }
   ],
   "source": [
    "fig, axs = plt.subplots(3,1, figsize= (7, 7))\n",
    "\n",
    "axs[0].set_title(\"BKG Norm\")\n",
    "axs[1].set_title(\"Signal Amplitude\")\n",
    "axs[2].set_title(\"Signal Index\")\n",
    "\n",
    "\n",
    "labels_sys = [ '-10%', '0%', '10%']\n",
    "\n",
    "for i, a in enumerate(norms[1:]):\n",
    "    label = \"Standard Asimov Fit\"\n",
    "    axs[0].errorbar(x= i+0.9, y = a[0], yerr = a[1], fmt= 'o', color =  'red',markersize = 7,\n",
    "                   label = label)\n",
    "for i, a in enumerate(amplitudes[1:]):\n",
    "    axs[1].errorbar(x= i+0.9, y = a[0], yerr = a[1], fmt= 'o', color =  'red',markersize = 7,\n",
    "                   label = label)\n",
    "for i, a in enumerate(indices[1:]):\n",
    "    axs[2].errorbar(x= i+0.9, y = a[0], yerr = a[1], fmt= 'o', color =  'red',markersize = 7,\n",
    "                   label = label)\n",
    "    \n",
    "for j in range(3):\n",
    "    label = \"Standard Rnd Fit\"\n",
    "    for i, a in enumerate(norms_all[j][1:]):\n",
    "        axs[0].errorbar(x= 0.95+j+ i*0.01, y = a[0], yerr = a[1], fmt= 'x', color =  'orange',\n",
    "                       label = label)\n",
    "    for i, a in enumerate(amplitudes_all[j][1:]):\n",
    "        axs[1].errorbar(x= 0.95+j+ i*0.01, y = a[0], yerr = a[1], fmt= 'x', color =  'orange',\n",
    "                       label = label)\n",
    "    for i, a in enumerate(indices_all[j][1:]):\n",
    "        axs[2].errorbar(x= 0.95+j+ i*0.01, y = a[0], yerr = a[1], fmt= 'x', color =  'orange',\n",
    "                       label = label)\n",
    "\n",
    "for i, a in enumerate(norms_N[1:]):\n",
    "    label = \"Nuisance Asimov Fit\"\n",
    "    axs[0].errorbar(x= i+1.1, y = a[0], yerr = a[1], fmt= 'x', color =  'green',markersize=14,\n",
    "                   label = label)\n",
    "for i, a in enumerate(amplitudes_N[1:]):\n",
    "    axs[1].errorbar(x= i+1.1, y = a[0], yerr = a[1], fmt= 'x', color =  'green',markersize=14,\n",
    "                   label = label)\n",
    "for i, a in enumerate(indices_N[1:]):\n",
    "    axs[2].errorbar(x= i+1.1, y = a[0], yerr = a[1], fmt= 'x', color =  'green',markersize=14,\n",
    "                   label = label)\n",
    "        \n",
    "for j in range(3):\n",
    "    label = \"Nuisance Rnd Fit\"\n",
    "    for i, a in enumerate(norms_all_N[j][1:]):\n",
    "        axs[0].errorbar(x= 1.15+j+ i*0.01, y = a[0], yerr = a[1], fmt= 'x', color =  'lightgreen',\n",
    "                       label = label)\n",
    "    for i, a in enumerate(amplitudes_all_N[j][1:]):\n",
    "        axs[1].errorbar(x= 1.15+j+ i*0.01, y = a[0], yerr = a[1], fmt= 'x', color =  'lightgreen',\n",
    "                       label = label)\n",
    "    for i, a in enumerate(indices_all_N[j][1:]):\n",
    "        axs[2].errorbar(x= 1.15+j+ i*0.01, y = a[0], yerr = a[1], fmt= 'x', color =  'lightgreen',\n",
    "                       label = label)\n",
    "        \n",
    "        \n",
    "axs[2].hlines( indices[0][0], 0.91, 3.2, label = \"input\")\n",
    "axs[0].hlines( norms[0][0], 0.91, 3.2, label = \"input\")\n",
    "axs[1].hlines( amplitudes[0][0], 0.91, 3.2, label = \"input\")\n",
    "\n",
    "plt.tight_layout()\n",
    "for ax in axs:\n",
    "    handles, labels = plt.gca().get_legend_handles_labels()\n",
    "    by_label = dict(zip(labels, handles))\n",
    "    ax.legend(by_label.values(), by_label.keys(), ncol = 1, \n",
    "            loc='center left', bbox_to_anchor=(1, 0.5))\n",
    "    ax.set_ylabel('Best Fit'); \n",
    "    ax.set_xlabel('Systematic'); \n",
    "    ax.set_xticks(np.arange(3)+1,labels_sys)\n",
    "\n",
    "    \n",
    "axs[0].set_ylim(0.85, 1.15)\n",
    "plt.tight_layout()    \n",
    "fig.savefig(\"plots/2_best_fit_parameters_comparison.pdf\")   \n"
   ]
  },
  {
   "cell_type": "code",
   "execution_count": null,
   "id": "9055c7eb",
   "metadata": {},
   "outputs": [],
   "source": []
  },
  {
   "cell_type": "code",
   "execution_count": null,
   "id": "91facb61",
   "metadata": {},
   "outputs": [],
   "source": []
  }
 ],
 "metadata": {
  "kernelspec": {
   "display_name": "Python 3 (ipykernel)",
   "language": "python",
   "name": "python3"
  },
  "language_info": {
   "codemirror_mode": {
    "name": "ipython",
    "version": 3
   },
   "file_extension": ".py",
   "mimetype": "text/x-python",
   "name": "python",
   "nbconvert_exporter": "python",
   "pygments_lexer": "ipython3",
   "version": "3.9.13"
  },
  "varInspector": {
   "cols": {
    "lenName": 16,
    "lenType": 16,
    "lenVar": 40
   },
   "kernels_config": {
    "python": {
     "delete_cmd_postfix": "",
     "delete_cmd_prefix": "del ",
     "library": "var_list.py",
     "varRefreshCmd": "print(var_dic_list())"
    },
    "r": {
     "delete_cmd_postfix": ") ",
     "delete_cmd_prefix": "rm(",
     "library": "var_list.r",
     "varRefreshCmd": "cat(var_dic_list()) "
    }
   },
   "types_to_exclude": [
    "module",
    "function",
    "builtin_function_or_method",
    "instance",
    "_Feature"
   ],
   "window_display": false
  }
 },
 "nbformat": 4,
 "nbformat_minor": 5
}
