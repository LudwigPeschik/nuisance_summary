{
 "cells": [
  {
   "cell_type": "code",
   "execution_count": 1,
   "id": "c102068e",
   "metadata": {},
   "outputs": [
    {
     "name": "stdout",
     "output_type": "stream",
     "text": [
      "loaded gammapy version: 1.0 \n",
      "Supposed to be 1.0 (21-11-2022)\n"
     ]
    }
   ],
   "source": [
    "import gammapy \n",
    "print(f'loaded gammapy version: {gammapy.__version__} ' )\n",
    "print(f'Supposed to be 1.0 (21-11-2022)' )"
   ]
  },
  {
   "cell_type": "code",
   "execution_count": 2,
   "id": "e0c4dcf1",
   "metadata": {
    "execution": {
     "iopub.execute_input": "2022-03-17T11:24:36.091662Z",
     "iopub.status.busy": "2022-03-17T11:24:36.091167Z",
     "iopub.status.idle": "2022-03-17T11:25:00.872876Z",
     "shell.execute_reply": "2022-03-17T11:25:00.871690Z"
    }
   },
   "outputs": [],
   "source": [
    "#get_ipython().system('jupyter nbconvert --to script 1-Nui_Par_Fitting.ipynb')\n",
    "import pyximport\n",
    "\n",
    "pyximport.install()\n",
    "import matplotlib.pyplot as plt\n",
    "import numpy as np\n",
    "import astropy.units as u\n",
    "import gammapy\n",
    "\n",
    "# from gammapy.datasets import MapDataset\n",
    "from gammapy.maps import Map\n",
    "from astropy.coordinates import SkyCoord, Angle\n",
    "from gammapy.modeling import Fit,  Parameters, Covariance , Parameter\n",
    "from gammapy.datasets import MapDataset, Datasets#, MapDatasetNuisance\n",
    "from gammapy.modeling.models import (\n",
    "    PowerLawSpectralModel,\n",
    "    create_crab_spectral_model,\n",
    "    SkyModel,\n",
    "    PointSpatialModel,\n",
    "    ShellSpatialModel,\n",
    "    GeneralizedGaussianSpatialModel,\n",
    "    TemplateSpatialModel,\n",
    "    LogParabolaSpectralModel,\n",
    "    GaussianSpatialModel,\n",
    "    DiskSpatialModel,\n",
    "    PowerLawNormSpectralModel,\n",
    "    Models,\n",
    "    SpatialModel,\n",
    "    FoVBackgroundModel,\n",
    "    ExpCutoffPowerLawSpectralModel\n",
    ")\n",
    "from gammapy.estimators import TSMapEstimator, ExcessMapEstimator\n",
    "\n",
    "from regions import CircleSkyRegion, RectangleSkyRegion\n",
    "import yaml\n",
    "import sys\n",
    "\n",
    "from Dataset_Creation import sys_dataset\n"
   ]
  },
  {
   "cell_type": "markdown",
   "id": "23adcef0",
   "metadata": {},
   "source": [
    "## Read dataset"
   ]
  },
  {
   "cell_type": "code",
   "execution_count": 3,
   "id": "f94dc89c",
   "metadata": {
    "scrolled": false
   },
   "outputs": [
    {
     "name": "stdout",
     "output_type": "stream",
     "text": [
      "spatial binsize =  [0.08] deg\n",
      "MapDataset\n",
      "----------\n",
      "\n",
      "  Name                            : 1x2Al46Y \n",
      "\n",
      "  Total counts                    : 596011 \n",
      "  Total background counts         : 533641.19\n",
      "  Total excess counts             : 62369.81\n",
      "\n",
      "  Predicted counts                : 543678.62\n",
      "  Predicted background counts     : 533641.14\n",
      "  Predicted excess counts         : 10037.49\n",
      "\n",
      "  Exposure min                    : 5.70e+01 m2 s\n",
      "  Exposure max                    : 1.54e+11 m2 s\n",
      "\n",
      "  Number of total bins            : 540000 \n",
      "  Number of fit bins              : 97420 \n",
      "\n",
      "  Fit statistic type              : cash\n",
      "  Fit statistic value (-2 log(L)) : -2297944.15\n",
      "\n",
      "  Number of models                : 4 \n",
      "  Number of parameters            : 18\n",
      "  Number of free parameters       : 8\n",
      "\n",
      "  Component 0: SkyModel\n",
      "  \n",
      "    Name                      : Source\n",
      "    Datasets names            : None\n",
      "    Spectral model type       : ExpCutoffPowerLawSpectralModel\n",
      "    Spatial  model type       : PointSpatialModel\n",
      "    Temporal model type       : \n",
      "    Parameters:\n",
      "      index                         :      2.051   +/-    0.04             \n",
      "      amplitude                     :   2.77e-12   +/- 8.2e-14 1 / (cm2 s TeV)\n",
      "      reference             (frozen):      1.000       TeV         \n",
      "      lambda_                       :      0.089   +/-    0.01 1 / TeV     \n",
      "      alpha                 (frozen):      1.000                   \n",
      "      lon_0                 (frozen):    359.940       deg         \n",
      "      lat_0                 (frozen):     -0.050       deg         \n",
      "  \n",
      "  Component 1: SkyModel\n",
      "  \n",
      "    Name                      : g09\n",
      "    Datasets names            : None\n",
      "    Spectral model type       : PowerLawSpectralModel\n",
      "    Spatial  model type       : PointSpatialModel\n",
      "    Temporal model type       : \n",
      "    Parameters:\n",
      "      index                         :      2.409   +/-    0.06             \n",
      "      amplitude                     :   6.15e-13   +/- 4.1e-14 1 / (cm2 s TeV)\n",
      "      reference             (frozen):      1.000       TeV         \n",
      "      lon_0                 (frozen):      0.887       deg         \n",
      "      lat_0                 (frozen):      0.087       deg         \n",
      "  \n",
      "  Component 2: SkyModel\n",
      "  \n",
      "    Name                      : diff\n",
      "    Datasets names            : None\n",
      "    Spectral model type       : PowerLawNormSpectralModel\n",
      "    Spatial  model type       : TemplateSpatialModel\n",
      "    Temporal model type       : \n",
      "    Parameters:\n",
      "      norm                          :      1.000   +/-    0.00             \n",
      "      tilt                  (frozen):      0.000                   \n",
      "      reference             (frozen):      1.000       TeV         \n",
      "  \n",
      "  Component 3: FoVBackgroundModel\n",
      "  \n",
      "    Name                      : 1x2Al46Y-bkg\n",
      "    Datasets names            : ['1x2Al46Y']\n",
      "    Spectral model type       : PowerLawNormSpectralModel\n",
      "    Parameters:\n",
      "      norm                          :      1.000   +/-    0.00             \n",
      "      tilt                          :      0.000   +/-    0.00             \n",
      "      reference             (frozen):      1.000       TeV         \n",
      "  \n",
      "  \n"
     ]
    },
    {
     "data": {
      "image/png": "[encoded data removed]",
      "text/plain": [
       "<Figure size 640x480 with 2 Axes>"
      ]
     },
     "metadata": {},
     "output_type": "display_data"
    }
   ],
   "source": [
    "source = 'Galactic Centre'\n",
    "path = 'C:/Users/yt02izug/Downloads'\n",
    "\n",
    "dataset_standard = MapDataset.read(f'{path}/GC_fullsys/GC_fullsys.fits')\n",
    "#dataset_standard = dataset_standard.downsample(4)\n",
    "#models = Models.read(f\"{path}/nuisance_summary/Eff_area/Galactic Centre/GC_model.yml\")\n",
    "models = Models.read(f\"{path}/nuisance_summary/Eff_area/Galactic Centre/data/1_model_standard_best_fit_mask.yml\")\n",
    "\n",
    "diff = Map.read(f'{path}/diffusetemplate.fits')\n",
    "new_geom = diff.geom.rename_axes(['energy'], ['energy_true'])\n",
    "diff_new = Map.from_geom(geom = new_geom, data = diff.data, unit = diff.unit) \n",
    "temp = TemplateSpatialModel(diff_new, normalize=False, filename = f'{path}/diffusetemplate.fits')\n",
    "diff = SkyModel(spatial_model=temp, name = 'diff', spectral_model = PowerLawNormSpectralModel())\n",
    "models.append(diff)\n",
    "bkg_model = FoVBackgroundModel(dataset_name=dataset_standard.name)\n",
    "bkg_model.parameters['tilt'].frozen  = False\n",
    "models.append(bkg_model)\n",
    "dataset_standard.models = models\n",
    "\n",
    "dataset_standard.models[0].parameters['lon_0'].frozen = True\n",
    "dataset_standard.models[0].parameters['lat_0'].frozen = True\n",
    "dataset_standard.models[1].parameters['lon_0'].frozen = True\n",
    "dataset_standard.models[1].parameters['lat_0'].frozen = True\n",
    "#dataset_standard.models[2].parameters['lon_0'].frozen = True\n",
    "#dataset_standard.models[2].parameters['lat_0'].frozen = True\n",
    "\n",
    "#create asimov dataset\n",
    "dataset_asimov = dataset_standard.copy()\n",
    "dataset_asimov.counts = dataset_standard.npred()\n",
    "models = Models(dataset_standard.models.copy())\n",
    "bkg_model = FoVBackgroundModel(dataset_name=dataset_asimov.name)\n",
    "bkg_model.parameters['tilt'].frozen  = False\n",
    "models.append(bkg_model)\n",
    "dataset_asimov.models = models\n",
    "\n",
    "\n",
    "#Input Model for Comparison\n",
    "dataset_input = dataset_standard.copy()\n",
    "models_input = Models.read(f\"{path}/nuisance_summary/Eff_area/Galactic Centre/GC_model.yml\")\n",
    "diff = Map.read(f'{path}/diffusetemplate.fits')\n",
    "new_geom = diff.geom.rename_axes(['energy'], ['energy_true'])\n",
    "diff_new = Map.from_geom(geom = new_geom, data = diff.data, unit = diff.unit) \n",
    "temp = TemplateSpatialModel(diff_new, normalize=False, filename = f'{path}/diffusetemplate.fits')\n",
    "diff = SkyModel(spatial_model=temp, name = 'diff', spectral_model = PowerLawNormSpectralModel())\n",
    "models_input.append(diff)\n",
    "bkg_model = FoVBackgroundModel(dataset_name=dataset_input.name)\n",
    "bkg_model.parameters['tilt'].frozen  = False\n",
    "models_input.append(bkg_model)\n",
    "dataset_input.models = models\n",
    "\n",
    "#set mask to exclude J1745\n",
    "j1745_coord = SkyCoord(358.6435538, -0.5617789, unit='deg',frame='galactic')\n",
    "skyregion_1745 = RectangleSkyRegion(center=j1745_coord, width=1*u.deg,height=1*u.deg)#, angle = 108*u.deg)\n",
    "geom = dataset_standard.counts.geom\n",
    "mask_space = ~geom.region_mask([skyregion_1745])\n",
    "dataset_standard.mask_fit = mask_space\n",
    "dataset_asimov.mask_fit = mask_space\n",
    "\n",
    "    \n",
    "dataset_standard.counts.sum_over_axes().plot(add_cbar=1)\n",
    "binsize = dataset_standard.geoms[\"geom\"].width[1] / dataset_standard.geoms[\"geom\"].data_shape[1]\n",
    "print(\n",
    "    \"spatial binsize = \",\n",
    "    binsize\n",
    ")\n",
    "\n",
    "print(dataset_standard)"
   ]
  },
  {
   "cell_type": "markdown",
   "id": "2e0399d4",
   "metadata": {},
   "source": [
    "## Single Cases"
   ]
  },
  {
   "cell_type": "code",
   "execution_count": 4,
   "id": "e19a0a90",
   "metadata": {},
   "outputs": [
    {
     "name": "stdout",
     "output_type": "stream",
     "text": [
      "0.015\n"
     ]
    }
   ],
   "source": [
    "true_energy = dataset_asimov.exposure.geom.axes[0].center.value\n",
    "\n",
    "shift_neg = 0.10 #-0.085\n",
    "tilt_neg = 0.015 #-0.015\n",
    "\n",
    "print(tilt_neg)\n",
    "datasets = []\n",
    "datasets_N = []\n",
    "sys_ = sys_dataset(dataset_asimov= dataset_asimov,\n",
    "                        shift = shift_neg, \n",
    "                        tilt = tilt_neg,\n",
    "                        rnd = False)\n",
    "dataset = sys_.create_dataset()\n",
    "dataset.models[0].parameters['lon_0'].frozen = True\n",
    "dataset.models[0].parameters['lat_0'].frozen = True\n",
    "datasets.append(dataset)\n",
    "    \n",
    "dataset_N = sys_.create_dataset_N()\n",
    "zero = 1e-24\n",
    "## additional parameter bias and resolution (ereco) but are frozen\n",
    "penalising_invcovmatrix = np.zeros((4, 4))\n",
    "np.fill_diagonal(penalising_invcovmatrix,\n",
    "                 [1/shift_neg**2, 1/tilt_neg**2, 1/zero**2, 1/zero**2])\n",
    "dataset_N.penalising_invcovmatrix = penalising_invcovmatrix\n",
    "dataset_N.models[0].parameters['lon_0'].frozen = True\n",
    "dataset_N.models[0].parameters['lat_0'].frozen = True\n",
    "datasets_N.append(dataset_N)"
   ]
  },
  {
   "cell_type": "code",
   "execution_count": 5,
   "id": "561d9d11",
   "metadata": {},
   "outputs": [
    {
     "name": "stdout",
     "output_type": "stream",
     "text": [
      "CPU times: total: 21.7 s\n",
      "Wall time: 21.8 s\n"
     ]
    }
   ],
   "source": [
    "%%time\n",
    "fit = Fit(store_trace=False)\n",
    "minuit_opts = {\"tol\": 0.001, \"strategy\": 2}\n",
    "fit.backend = \"minuit\"\n",
    "fit.optimize_opts = minuit_opts\n",
    "result = fit.run([datasets[0]])"
   ]
  },
  {
   "cell_type": "code",
   "execution_count": 6,
   "id": "b5bafbb8",
   "metadata": {},
   "outputs": [
    {
     "name": "stdout",
     "output_type": "stream",
     "text": [
      "CPU times: total: 2h 56min 22s\n",
      "Wall time: 33min 23s\n"
     ]
    }
   ],
   "source": [
    "%%time\n",
    "fit_N = Fit(store_trace=False)\n",
    "minuit_opts = {\"tol\": 0.001, \"strategy\": 2}\n",
    "fit_N.backend = \"minuit\"\n",
    "fit_N.optimize_opts = minuit_opts\n",
    "result_N = fit_N.run([datasets_N[0]])"
   ]
  },
  {
   "cell_type": "markdown",
   "id": "db6ce963",
   "metadata": {},
   "source": [
    "# Stat Profiles"
   ]
  },
  {
   "cell_type": "markdown",
   "id": "4a406c97",
   "metadata": {},
   "source": [
    "## Stat Profiles for BKG Norm"
   ]
  },
  {
   "cell_type": "code",
   "execution_count": 7,
   "id": "f9e08f80",
   "metadata": {},
   "outputs": [],
   "source": [
    "def make_writable(stat):\n",
    "    write = dict()\n",
    "    for k in stat.keys():\n",
    "        if k != 'fit_results':\n",
    "            write[k] = [float(i) for i in stat[k]]\n",
    "            \n",
    "                \n",
    "    return write"
   ]
  },
  {
   "cell_type": "code",
   "execution_count": 16,
   "id": "0f193179",
   "metadata": {},
   "outputs": [
    {
     "data": {
      "text/plain": [
       "Parameter(name='norm', value=0.9999865948373944, factor=0.9999865948373944, scale=1.0, unit=Unit(dimensionless), min=nan, max=nan, frozen=False, id=0x227bfea5c40, is_penalised=False)"
      ]
     },
     "execution_count": 16,
     "metadata": {},
     "output_type": "execute_result"
    }
   ],
   "source": [
    "datasets_N[0].models[-2].parameters['norm']"
   ]
  },
  {
   "cell_type": "code",
   "execution_count": 12,
   "id": "60b08490",
   "metadata": {},
   "outputs": [
    {
     "name": "stdout",
     "output_type": "stream",
     "text": [
      "CPU times: total: 1min 6s\n",
      "Wall time: 1min 7s\n"
     ]
    }
   ],
   "source": [
    "%%time\n",
    "computing_norm = True\n",
    "\n",
    "if computing_norm :\n",
    "    parameter = datasets[0].models[-1].parameters['norm']\n",
    "    sigma = 3\n",
    "    parameter.scan_n_sigma  = sigma\n",
    "    stat_profile = fit.stat_profile([datasets[0]], parameter, reoptimize= True)\n",
    "    stat_profile['scale_scan'] = stat_profile.pop(next(iter(stat_profile)) )    \n",
    "    with open('data/5_scan_norm.yaml', 'w') as file:\n",
    "        documents = yaml.dump(make_writable(stat_profile), file)\n",
    "else:\n",
    "    with open('data/5_scan_norm.yaml') as file:\n",
    "        stat_profile = yaml.load( file, Loader=yaml.FullLoader)   "
   ]
  },
  {
   "cell_type": "code",
   "execution_count": null,
   "id": "7987c20d",
   "metadata": {},
   "outputs": [],
   "source": [
    "%%time\n",
    "if computing_norm :\n",
    "    parameter = datasets_N[0].models[-2].parameters['norm']\n",
    "    sigma = 3\n",
    "    parameter.scan_n_sigma  = sigma\n",
    "    stat_profile_N = fit.stat_profile([datasets_N[0]], parameter, reoptimize = True)\n",
    "    stat_profile_N['scale_scan'] = stat_profile_N.pop(next(iter(stat_profile_N)) )    \n",
    "    with open('data/5_scan_norm_N.yaml', 'w') as file:\n",
    "        documents = yaml.dump(make_writable(stat_profile_N), file)\n",
    "    for k in stat_profile_N:\n",
    "        if \"spectral\" in k:\n",
    "            key_name = \"scale_scan\"\n",
    "            stat_profile_N[key_name] = stat_profile_N[k]      \n",
    "else:\n",
    "    with open('data/5_scan_norm_N.yaml') as file:\n",
    "        stat_profile_N = yaml.load( file, Loader=yaml.FullLoader)\n",
    "    "
   ]
  },
  {
   "cell_type": "code",
   "execution_count": null,
   "id": "a3c39385",
   "metadata": {},
   "outputs": [],
   "source": [
    "import upper_limit_18_02\n",
    "\n",
    "fig = plt.figure()\n",
    "ll_N = stat_profile_N.copy()\n",
    "ul_N = upper_limit_18_02.upper_limit(ll_N,0,0)\n",
    "L_N, x_N = ul_N.interpolate()\n",
    "plt.plot(x_N, L_N(x_N),label =\"Scan Standard\")\n",
    "\n",
    "ll = stat_profile.copy()\n",
    "ul = upper_limit_18_02.upper_limit(ll,0,0)\n",
    "L, x = ul.interpolate()\n",
    "plt.plot(x, L(x),label =\"Scan with Nuisance Par.\")\n",
    "\n",
    "norm_err_N = datasets_N[0].models.parameters['norm'].error\n",
    "norm_err = datasets[0].models.parameters['norm'].error\n",
    "\n",
    "\n",
    "min_, er = ul_N.likelihood_error()\n",
    "min_ = min_[0]; er = er[0]\n",
    "ax = plt.gca()\n",
    "ylim= ax.get_ylim()\n",
    "ax.fill_between(  [min_-er, min_+ er], ylim[0], ylim[1], alpha = 0.2, \n",
    "                label = f'1$\\sigma$ error = {er:.2} ({norm_err_N:.2})')\n",
    "min_, er, upp = ul.likelihood_upper()\n",
    "min_ = min_[0]; er = er[0]\n",
    "ax.fill_between(  [min_-er, min_+ er], ylim[0], ylim[1],  alpha = 0.2, \n",
    "                label = f'1$\\sigma$ error = {er:.2} ({norm_err:.2})')\n",
    "\n",
    "plt.xlabel(\"BKG Norm []\")\n",
    "plt.ylabel(\"-2log (L) [arb. unit]\")\n",
    "plt.legend()\n",
    "#plt.ylim(ylim[0], ylim[1]-4)\n",
    "plt.title(\"Sys = -10%\")\n",
    "\n",
    "fig.savefig(\"plots/5_stat_scan_norm.png\")"
   ]
  },
  {
   "cell_type": "code",
   "execution_count": null,
   "id": "33947607",
   "metadata": {},
   "outputs": [],
   "source": []
  },
  {
   "cell_type": "markdown",
   "id": "4b645528",
   "metadata": {},
   "source": [
    "## Stat Profiles for Source Signal"
   ]
  },
  {
   "cell_type": "code",
   "execution_count": null,
   "id": "6fdab75c",
   "metadata": {},
   "outputs": [],
   "source": [
    "%%time\n",
    "computing_amplitude = True\n",
    "\n",
    "if computing_amplitude:\n",
    "    sigma = 3\n",
    "    parameter_a = datasets[0].models.parameters['amplitude']\n",
    "    parameter_a.scan_n_sigma = sigma\n",
    "    stat_profile_a = fit.stat_profile([datasets[0]], parameter_a, reoptimize= True)\n",
    "    stat_profile_a['scale_scan'] = stat_profile_a.pop(next(iter(stat_profile_a)) )    \n",
    "    with open('data/5_scan_amplitude.yaml', 'w') as file:\n",
    "        documents = yaml.dump(make_writable(stat_profile_a), file)\n",
    "    \n",
    "else:\n",
    "    with open('data/5_scan_amplitude.yaml') as file:\n",
    "        stat_profile_a = yaml.load( file, Loader=yaml.FullLoader)\n",
    "\n",
    "    \n",
    "    "
   ]
  },
  {
   "cell_type": "code",
   "execution_count": null,
   "id": "6376584c",
   "metadata": {},
   "outputs": [],
   "source": [
    "%%time\n",
    "computing_amplitude_N = False\n",
    "if computing_amplitude_N:\n",
    "    sigma = 3\n",
    "    parameter_a = datasets_N[0].models.parameters['amplitude']\n",
    "    parameter_a.scan_n_sigma = sigma\n",
    "    stat_profile_N_a = fit.stat_profile([datasets_N[0]], parameter_a, reoptimize = True)\n",
    "    stat_profile_N_a['scale_scan'] = stat_profile_N_a.pop(next(iter(stat_profile_N_a)) )    \n",
    "    \n",
    "    with open('data/5_scan_amplitude_N.yaml', 'w') as file:\n",
    "        documents = yaml.dump(make_writable(stat_profile_N_a), file)\n",
    "    \n",
    "else:\n",
    "    with open('data/5_scan_amplitude_N.yaml') as file:\n",
    "        stat_profile_N_a = yaml.load( file, Loader=yaml.FullLoader)\n",
    "\n",
    "    \n",
    "    "
   ]
  },
  {
   "cell_type": "code",
   "execution_count": null,
   "id": "d7c5e5a2",
   "metadata": {},
   "outputs": [],
   "source": [
    "fig = plt.figure()\n",
    "ll_N_a = stat_profile_N_a.copy()\n",
    "ul_N_a = upper_limit_18_02.upper_limit(ll_N_a,0,0)\n",
    "L_N_a, x_N_a = ul_N_a.interpolate()\n",
    "plt.plot(x_N_a, L_N_a(x_N_a),label = \"Nuisance\")\n",
    "\n",
    "\n",
    "ll_a = stat_profile_a.copy()\n",
    "ul_a = upper_limit_18_02.upper_limit(ll_a,0,0)\n",
    "L_a, x_a = ul_a.interpolate()\n",
    "plt.plot(x_a, L_a(x_a),label = \"Standard\")\n",
    "\n",
    "amplitude_err = datasets[0].models[0].parameters['amplitude'].error\n",
    "amplitude_err_N = datasets_N[0].models[0].parameters['amplitude'].error\n",
    "\n",
    "\n",
    "\n",
    "min_, er = ul_N_a.likelihood_error()\n",
    "min_ = min_[0]; er = er[0]\n",
    "ax = plt.gca()\n",
    "ylim= ax.get_ylim()\n",
    "ax.fill_between(  [min_-er, min_+ er], ylim[0], ylim[1], alpha = 0.2, \n",
    "                label = f'1$\\sigma$ error = {er:.2} ({amplitude_err_N:.2})')\n",
    "min_, er = ul_a.likelihood_error()\n",
    "min_ = min_[0]; er = er[0]\n",
    "ax.fill_between(  [min_-er, min_+ er], ylim[0], ylim[1],  alpha = 0.2, \n",
    "                label = f'1$\\sigma$ error = {er:.2} ({amplitude_err:.2})')\n",
    "\n",
    "plt.xlabel(\"Source amplitude [1/cm2sTeV]\")\n",
    "plt.ylabel(\"-2log (L) [arb. unit]\")\n",
    "plt.legend()\n",
    "#plt.ylim(ylim[0], ylim[1]-25)\n",
    "plt.title(\"Sys = -10%\")\n",
    "\n",
    "fig.savefig(\"plots/5_stat_scan_amplitude.png\")"
   ]
  },
  {
   "cell_type": "markdown",
   "id": "21feb1e4",
   "metadata": {},
   "source": [
    "## Stat Profiles for Source Index"
   ]
  },
  {
   "cell_type": "code",
   "execution_count": null,
   "id": "9c1dc241",
   "metadata": {},
   "outputs": [],
   "source": [
    "%%time\n",
    "computing_index = True\n",
    "\n",
    "if computing_index:\n",
    "    sigma = 3\n",
    "    parameter_i = datasets[0].models.parameters['index']\n",
    "    parameter_i.scan_n_sigma = sigma\n",
    "    stat_profile_i = fit.stat_profile([datasets[0]], parameter_i, reoptimize= True)\n",
    "    stat_profile_i['scale_scan'] = stat_profile_i.pop(next(iter(stat_profile_i)) )    \n",
    "    with open('data/5_scan_index.yaml', 'w') as file:\n",
    "        documents = yaml.dump(make_writable(stat_profile_i), file)\n",
    "    \n",
    "else:\n",
    "    with open('data/5_scan_index.yaml') as file:\n",
    "        stat_profile_i = yaml.load( file, Loader=yaml.FullLoader)\n",
    "\n",
    "    \n",
    "    "
   ]
  },
  {
   "cell_type": "code",
   "execution_count": null,
   "id": "cbd25536",
   "metadata": {},
   "outputs": [],
   "source": [
    "%%time\n",
    "computing_index_N = True\n",
    "if computing_index_N:\n",
    "    sigma = 3\n",
    "    parameter_i = datasets_N[0].models.parameters['index']\n",
    "    parameter_i.scan_n_sigma = sigma\n",
    "    stat_profile_N_i = fit.stat_profile([datasets_N[0]], parameter_i, reoptimize = True)\n",
    "    stat_profile_N_i['scale_scan'] = stat_profile_N_i.pop(next(iter(stat_profile_N_i)) )    \n",
    "    \n",
    "    with open('data/5_scan_index_N.yaml', 'w') as file:\n",
    "        documents = yaml.dump(make_writable(stat_profile_N_i), file)\n",
    "    \n",
    "else:\n",
    "    with open('data/5_scan_index_N.yaml') as file:\n",
    "        stat_profile_N_i = yaml.load( file, Loader=yaml.FullLoader)\n",
    "\n",
    "    \n",
    "    "
   ]
  },
  {
   "cell_type": "code",
   "execution_count": null,
   "id": "521ce57b",
   "metadata": {},
   "outputs": [],
   "source": [
    "fig = plt.figure()\n",
    "ll_N_a = stat_profile_N_i.copy()\n",
    "ul_N_a = upper_limit_18_02.upper_limit(ll_N_a,0,0)\n",
    "L_N_a, x_N_a = ul_N_a.interpolate()\n",
    "plt.plot(x_N_a, L_N_a(x_N_a),label = \"Nuisance\")\n",
    "\n",
    "\n",
    "ll_a = stat_profile_i.copy()\n",
    "ul_a = upper_limit_18_02.upper_limit(ll_a,0,0)\n",
    "L_a, x_a = ul_a.interpolate()\n",
    "plt.plot(x_a, L_a(x_a),label = \"Standard\")\n",
    "\n",
    "index_err = datasets[0].models[0].parameters['index'].error\n",
    "index_err_N = datasets_N[0].models[0].parameters['index'].error\n",
    "\n",
    "\n",
    "\n",
    "min_, er = ul_N_a.likelihood_error()\n",
    "min_ = min_[0]; er = er[0]\n",
    "ax = plt.gca()\n",
    "ylim= ax.get_ylim()\n",
    "ax.fill_between(  [min_-er, min_+ er], ylim[0], ylim[1], alpha = 0.2, \n",
    "                label = f'1$\\sigma$ error = {er:.2} ({index_err_N:.2})')\n",
    "min_, er = ul_a.likelihood_error()\n",
    "min_ = min_[0]; er = er[0]\n",
    "ax.fill_between(  [min_-er, min_+ er], ylim[0], ylim[1],  alpha = 0.2, \n",
    "                label = f'1$\\sigma$ error = {er:.2} ({index_err:.2})')\n",
    "\n",
    "plt.xlabel(\"Source Index\")\n",
    "plt.ylabel(\"-2log (L) [arb. unit]\")\n",
    "plt.legend()\n",
    "#plt.ylim(ylim[0], ylim[1]-25)\n",
    "plt.title(\"Sys = -10%\")\n",
    "\n",
    "fig.savefig(\"plots/5_stat_scan_index.png\")"
   ]
  },
  {
   "cell_type": "markdown",
   "id": "7e54f392",
   "metadata": {},
   "source": [
    "## Stat Profiles for Source Lambda"
   ]
  },
  {
   "cell_type": "code",
   "execution_count": null,
   "id": "b691bfcd",
   "metadata": {},
   "outputs": [],
   "source": [
    "%%time\n",
    "computing_lambda = True\n",
    "\n",
    "if computing_lambda:\n",
    "    sigma = 3\n",
    "    scan_array = np.linspace(0.01, 0.5, 40)\n",
    "    parameter_l = datasets[0].models.parameters['lambda_']\n",
    "    parameter_l.scan_values = scan_array#scan_n_sigma = sigma\n",
    "    stat_profile_l = fit.stat_profile([datasets[0]], parameter_l, reoptimize= True)\n",
    "    stat_profile_l['scale_scan'] = stat_profile_l.pop(next(iter(stat_profile_l)) )    \n",
    "    with open('data/5_scan_lambda.yaml', 'w') as file:\n",
    "        documents = yaml.dump(make_writable(stat_profile_l), file)\n",
    "    \n",
    "else:\n",
    "    with open('data/5_scan_lambda.yaml') as file:\n",
    "        stat_profile_l = yaml.load( file, Loader=yaml.FullLoader)"
   ]
  },
  {
   "cell_type": "code",
   "execution_count": null,
   "id": "05a3080c",
   "metadata": {
    "scrolled": true
   },
   "outputs": [],
   "source": [
    "%%time\n",
    "computing_lambda_N = True\n",
    "if computing_lambda_N:\n",
    "    sigma = 3\n",
    "    scan_array = np.linspace(0.01, 0.5, 11)\n",
    "    parameter_l = datasets[0].models.parameters['lambda_']\n",
    "    parameter_l.scan_values = scan_array#scan_n_sigma = sigma\n",
    "    stat_profile_N_l = fit.stat_profile([datasets_N[0]], parameter_l, reoptimize = True)\n",
    "    stat_profile_N_l['scale_scan'] = stat_profile_N_l.pop(next(iter(stat_profile_N_l)) )    \n",
    "    \n",
    "    with open('data/5_scan_lambda_N.yaml', 'w') as file:\n",
    "        documents = yaml.dump(make_writable(stat_profile_N_l), file)\n",
    "    \n",
    "else:\n",
    "    with open('data/5_scan_lambda_N.yaml') as file:\n",
    "        stat_profile_N_l = yaml.load( file, Loader=yaml.FullLoader)"
   ]
  },
  {
   "cell_type": "code",
   "execution_count": null,
   "id": "1050ba9f",
   "metadata": {},
   "outputs": [],
   "source": [
    "fig = plt.figure()\n",
    "ll_N_a = stat_profile_N_l.copy()\n",
    "ul_N_a = upper_limit_18_02.upper_limit(ll_N_a,0,0)\n",
    "L_N_a, x_N_a = ul_N_a.interpolate()\n",
    "plt.plot(x_N_a, L_N_a(x_N_a),label = \"Nuisance\")\n",
    "\n",
    "\n",
    "ll_a = stat_profile_l.copy()\n",
    "ul_a = upper_limit_18_02.upper_limit(ll_a,0,0)\n",
    "L_a, x_a = ul_a.interpolate()\n",
    "plt.plot(x_a, L_a(x_a),label = \"Standard\")\n",
    "\n",
    "lambda_err = datasets[0].models[0].parameters['lambda_'].error\n",
    "lambda_err_N = datasets_N[0].models[0].parameters['lambda_'].error\n",
    "\n",
    "\n",
    "\n",
    "min_, er = ul_N_a.likelihood_error()\n",
    "min_ = min_[0]; er = er[0]\n",
    "ax = plt.gca()\n",
    "ylim= ax.get_ylim()\n",
    "ax.fill_between(  [min_-er, min_+ er], ylim[0], ylim[1], alpha = 0.2, \n",
    "                label = f'1$\\sigma$ error = {er:.2} ({lambda_err_N:.2})')\n",
    "min_, er = ul_a.likelihood_error()\n",
    "min_ = min_[0]; er = er[0]\n",
    "ax.fill_between(  [min_-er, min_+ er], ylim[0], ylim[1],  alpha = 0.2, \n",
    "                label = f'1$\\sigma$ error = {er:.2} ({lambda_err:.2})')\n",
    "\n",
    "plt.xlabel(\"Source lambda\")\n",
    "plt.ylabel(\"-2log (L) [arb. unit]\")\n",
    "plt.legend()\n",
    "#plt.ylim(ylim[0], ylim[1]-25)\n",
    "plt.title(\"Sys = -10%\")\n",
    "\n",
    "fig.savefig(\"plots/5_stat_scan_lambda.png\")"
   ]
  },
  {
   "cell_type": "markdown",
   "id": "86af7294",
   "metadata": {},
   "source": [
    "## Penalty Examples"
   ]
  },
  {
   "cell_type": "code",
   "execution_count": null,
   "id": "889d2df6",
   "metadata": {},
   "outputs": [],
   "source": [
    "ps = [1e-2, 0.05, 0.1]\n",
    "plot_values = np.linspace(-0.1, 0.1, 100)\n",
    "for p in ps:\n",
    "    plt.plot(plot_values, plot_values ** 2 / p ** 2, label = \"$\\sigma$ = \"+ str(p)) \n",
    "plt.legend()\n",
    "\n",
    "plt.ylabel('Penalty on Likelihood')    \n",
    "plt.xlabel('Eff. Area Parameter')\n",
    "fig  = plt.gcf()\n",
    "fig.savefig('plots/5_gaussian_penalty_example.pdf')"
   ]
  },
  {
   "cell_type": "markdown",
   "id": "0f1c3752",
   "metadata": {},
   "source": [
    "## Computing Delta TS"
   ]
  },
  {
   "cell_type": "code",
   "execution_count": null,
   "id": "7fa83b79",
   "metadata": {},
   "outputs": [],
   "source": [
    "%%time\n",
    "computing_amplitude = True\n",
    "\n",
    "if computing_amplitude:\n",
    "    sigma = 3\n",
    "    parameter_a = datasets[i].models.parameters['amplitude']\n",
    "    parameter_a.scan_values = [0.0]\n",
    "    stat_profile_a = fit.stat_profile([datasets[i]], parameter_a, reoptimize= True)\n",
    "    stat_profile_a['scale_scan'] = stat_profile_a.pop(next(iter(stat_profile_a)) )    \n",
    "    with open(f'data/5_scan_amplitude_at_zero.yaml', 'w') as file:\n",
    "        documents = yaml.dump(make_writable(stat_profile_a), file)\n"
   ]
  },
  {
   "cell_type": "code",
   "execution_count": null,
   "id": "fa1d96c6",
   "metadata": {},
   "outputs": [],
   "source": [
    "%%time\n",
    "computing_amplitude_N = True\n",
    "\n",
    "if computing_amplitude_N:\n",
    "    sigma = 3\n",
    "    parameter_a = datasets_N[i].models.parameters['amplitude']\n",
    "    parameter_a.scan_values = [0.0]\n",
    "    stat_profile_N_a = fit.stat_profile([datasets_N[i]], parameter_a, reoptimize = True)\n",
    "    stat_profile_N_a['scale_scan'] = stat_profile_N_a.pop(next(iter(stat_profile_N_a)) )    \n",
    "\n",
    "    with open(f'data/5b_scan_amplitude_at_zero_N.yaml', 'w') as file:\n",
    "        documents = yaml.dump(make_writable(stat_profile_N_a), file)"
   ]
  },
  {
   "cell_type": "code",
   "execution_count": null,
   "id": "3a2bd903",
   "metadata": {},
   "outputs": [],
   "source": [
    "from numpy import savetxt\n",
    "with open(f'data/5b_scan_amplitude_at_zero.yaml') as file:\n",
    "            stat_profile_a_0 = yaml.load( file, Loader=yaml.FullLoader)\n",
    "with open(f'data/5b_scan_amplitude.yaml') as file:\n",
    "        stat_profile_a = yaml.load( file, Loader=yaml.FullLoader)\n",
    "#print(min(stat_profile_a['stat_scan']))\n",
    "b = min(stat_profile_a_0['stat_scan']) - min(stat_profile_a['stat_scan'])\n",
    "print(np.sqrt(b))\n",
    "np.savetxt(f'Data/5b_significance.txt', np.sqrt(b))"
   ]
  },
  {
   "cell_type": "code",
   "execution_count": null,
   "id": "c696c821",
   "metadata": {},
   "outputs": [],
   "source": [
    "with open(f'data/5b_scan_amplitude_at_zero_N.yaml') as file:\n",
    "            stat_profile_N_a_0 = yaml.load( file, Loader=yaml.FullLoader)\n",
    "with open(f'data/5b_scan_amplitude_N.yaml') as file:\n",
    "        stat_profile_N_a = yaml.load( file, Loader=yaml.FullLoader)\n",
    "#print(min(stat_profile_a['stat_scan']))\n",
    "b = min(stat_profile_N_a_0['stat_scan']) - min(stat_profile_N_a['stat_scan'])\n",
    "print(np.sqrt(b))\n",
    "np.savetxt(f'Data/5b_significance_N.txt', np.sqrt(b)"
   ]
  }
 ],
 "metadata": {
  "kernelspec": {
   "display_name": "Python 3 (ipykernel)",
   "language": "python",
   "name": "python3"
  },
  "language_info": {
   "codemirror_mode": {
    "name": "ipython",
    "version": 3
   },
   "file_extension": ".py",
   "mimetype": "text/x-python",
   "name": "python",
   "nbconvert_exporter": "python",
   "pygments_lexer": "ipython3",
   "version": "3.9.16"
  },
  "varInspector": {
   "cols": {
    "lenName": 16,
    "lenType": 16,
    "lenVar": 40
   },
   "kernels_config": {
    "python": {
     "delete_cmd_postfix": "",
     "delete_cmd_prefix": "del ",
     "library": "var_list.py",
     "varRefreshCmd": "print(var_dic_list())"
    },
    "r": {
     "delete_cmd_postfix": ") ",
     "delete_cmd_prefix": "rm(",
     "library": "var_list.r",
     "varRefreshCmd": "cat(var_dic_list()) "
    }
   },
   "types_to_exclude": [
    "module",
    "function",
    "builtin_function_or_method",
    "instance",
    "_Feature"
   ],
   "window_display": false
  }
 },
 "nbformat": 4,
 "nbformat_minor": 5
}
